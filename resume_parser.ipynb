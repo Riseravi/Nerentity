{
 "cells": [
  {
   "cell_type": "code",
   "execution_count": 1,
   "id": "c8052a63",
   "metadata": {},
   "outputs": [],
   "source": [
    "import spacy\n",
    "import pickle,random\n",
    "from tqdm import tqdm\n",
    "import os\n",
    "import sys,fitz\n",
    "import pandas as pd\n",
    "nlp = spacy.blank('en')\n",
    "# i used spacy - 2.3.7 for spacy 3 the training would in different manners"
   ]
  },
  {
   "cell_type": "code",
   "execution_count": 22,
   "id": "e8ece0bd",
   "metadata": {},
   "outputs": [
    {
     "name": "stdout",
     "output_type": "stream",
     "text": [
      "2.3.7\n"
     ]
    }
   ],
   "source": [
    "print(spacy.__version__)"
   ]
  },
  {
   "cell_type": "code",
   "execution_count": 31,
   "id": "8277ae6d",
   "metadata": {},
   "outputs": [
    {
     "name": "stdout",
     "output_type": "stream",
     "text": [
      "current working directory is: C:\\Users\\Ravi kumar\\Documents\n"
     ]
    }
   ],
   "source": [
    "print('current working directory is:',os.getcwd())"
   ]
  },
  {
   "cell_type": "markdown",
   "id": "3fc8a723",
   "metadata": {},
   "source": [
    "### Pipeline functions"
   ]
  },
  {
   "cell_type": "code",
   "execution_count": 2,
   "id": "ab13e843",
   "metadata": {},
   "outputs": [],
   "source": [
    "def read_file(path):\n",
    "    train_data1 = pickle.load(open(path,'rb'))\n",
    "    return train_data1\n",
    "\n",
    "def train_model(train_data):\n",
    "    if 'ner' not in nlp.pipe_names:\n",
    "        print('first if..')\n",
    "        ner = nlp.create_pipe('ner')\n",
    "        nlp.add_pipe(ner,last=True)\n",
    "        \n",
    "    for _,annotation in train_data:\n",
    "        for ent in annotation['entities']:\n",
    "            #print('second for',ent)\n",
    "            ner.add_label(ent[2])\n",
    "    \n",
    "    \n",
    "    other_pipes = [pipe for pipe in nlp.pipe_names if pipe!='ner']\n",
    "    print(other_pipes)\n",
    "    with nlp.disable_pipes(*other_pipes):\n",
    "        optimizer = nlp.begin_training()\n",
    "        for itn in range(30):\n",
    "            print('starting iteration:',str(itn))\n",
    "            random.shuffle(train_data)\n",
    "            losses = {}\n",
    "            index = 0\n",
    "            for text,annotations in train_data:\n",
    "                try:\n",
    "                    nlp.update(\n",
    "                    [text],\n",
    "                    [annotations],\n",
    "                    drop=0.2,\n",
    "                    sgd=optimizer,\n",
    "                    losses=losses)\n",
    "                except Exception as e:\n",
    "                    pass\n",
    "            print(losses)\n",
    "    return nlp\n",
    "            \n",
    "def model_saving(model_name,nlp):\n",
    "    nlp.to_disk(model_name)\n",
    "    \n",
    "    \n",
    "def load_model(model_name):\n",
    "    nlp_model = spacy.load(model_name)\n",
    "    return nlp_model\n",
    "    \n",
    "    \n",
    "\n",
    "def prediction(nlp_model,pred_text):\n",
    "    doc = nlp_model(pred_text)\n",
    "    cols = []\n",
    "    data = []\n",
    "    for ent in doc.ents:\n",
    "        print(f\"{ent.label_.upper():{30}}-{ent.text}\")\n",
    "        cols.append(ent.label_.upper())\n",
    "        data.append(ent.text)\n",
    "    em_df = pd.DataFrame(data,index=cols)\n",
    "    return em_df.to_dict()"
   ]
  },
  {
   "cell_type": "markdown",
   "id": "c40d23bc",
   "metadata": {},
   "source": [
    "## Loading custome created data from a pickle file"
   ]
  },
  {
   "cell_type": "code",
   "execution_count": 5,
   "id": "11829f1c",
   "metadata": {},
   "outputs": [
    {
     "data": {
      "text/plain": [
       "[('Govardhana K Senior Software Engineer  Bengaluru, Karnataka, Karnataka - Email me on Indeed: indeed.com/r/Govardhana-K/ b2de315d95905b68  Total IT experience 5 Years 6 Months Cloud Lending Solutions INC 4 Month • Salesforce Developer Oracle 5 Years 2 Month • Core Java Developer Languages Core Java, Go Lang Oracle PL-SQL programming, Sales Force Developer with APEX.  Designations & Promotions  Willing to relocate: Anywhere  WORK EXPERIENCE  Senior Software Engineer  Cloud Lending Solutions -  Bangalore, Karnataka -  January 2018 to Present  Present  Senior Consultant  Oracle -  Bangalore, Karnataka -  November 2016 to December 2017  Staff Consultant  Oracle -  Bangalore, Karnataka -  January 2014 to October 2016  Associate Consultant  Oracle -  Bangalore, Karnataka -  November 2012 to December 2013  EDUCATION  B.E in Computer Science Engineering  Adithya Institute of Technology -  Tamil Nadu  September 2008 to June 2012  https://www.indeed.com/r/Govardhana-K/b2de315d95905b68?isid=rex-download&ikw=download-top&co=IN https://www.indeed.com/r/Govardhana-K/b2de315d95905b68?isid=rex-download&ikw=download-top&co=IN   SKILLS  APEX. (Less than 1 year), Data Structures (3 years), FLEXCUBE (5 years), Oracle (5 years), Algorithms (3 years)  LINKS  https://www.linkedin.com/in/govardhana-k-61024944/  ADDITIONAL INFORMATION  Technical Proficiency:  Languages: Core Java, Go Lang, Data Structures & Algorithms, Oracle PL-SQL programming, Sales Force with APEX. Tools: RADTool, Jdeveloper, NetBeans, Eclipse, SQL developer, PL/SQL Developer, WinSCP, Putty Web Technologies: JavaScript, XML, HTML, Webservice  Operating Systems: Linux, Windows Version control system SVN & Git-Hub Databases: Oracle Middleware: Web logic, OC4J Product FLEXCUBE: Oracle FLEXCUBE Versions 10.x, 11.x and 12.x  https://www.linkedin.com/in/govardhana-k-61024944/',\n",
       "  {'entities': [(1749, 1755, 'Companies worked at'),\n",
       "    (1696, 1702, 'Companies worked at'),\n",
       "    (1417, 1423, 'Companies worked at'),\n",
       "    (1356, 1793, 'Skills'),\n",
       "    (1209, 1215, 'Companies worked at'),\n",
       "    (1136, 1248, 'Skills'),\n",
       "    (928, 932, 'Graduation Year'),\n",
       "    (858, 889, 'College Name'),\n",
       "    (821, 856, 'Degree'),\n",
       "    (787, 791, 'Graduation Year'),\n",
       "    (744, 750, 'Companies worked at'),\n",
       "    (722, 742, 'Designation'),\n",
       "    (658, 664, 'Companies worked at'),\n",
       "    (640, 656, 'Designation'),\n",
       "    (574, 580, 'Companies worked at'),\n",
       "    (555, 573, 'Designation'),\n",
       "    (470, 493, 'Companies worked at'),\n",
       "    (444, 469, 'Designation'),\n",
       "    (308, 314, 'Companies worked at'),\n",
       "    (234, 240, 'Companies worked at'),\n",
       "    (175, 198, 'Companies worked at'),\n",
       "    (93, 137, 'Email Address'),\n",
       "    (39, 48, 'Location'),\n",
       "    (13, 38, 'Designation'),\n",
       "    (0, 12, 'Name')]}),\n",
       " (\"Harini Komaravelli Test Analyst at Oracle, Hyderabad  Hyderabad, Telangana - Email me on Indeed: indeed.com/r/Harini- Komaravelli/2659eee82e435d1b  ➢ 6 Yrs. of IT Experience in Manual and Automation testing.  WORK EXPERIENCE  QA Analyst  Oracle  Test Analyst at Oracle, Hyderabad  Infosys Ltd -  Hyderabad, Telangana -  November 2011 to February 2016  Hyderabad from Nov 2011 to Feb17 2016 ➢ Worked in Tata Consultancy Services, Hyderabad from Feb 24 to Apr 11 2017 ➢ Currently working as a Test Analyst at Oracle, Hyderabad  QA Analyst with 6 years of IT experience  Oracle  EDUCATION  MCA  Osmania University  B.Sc. in Computer Science  Osmania University  SKILLS  Functional Testing, Blue Prism, Qtp  ADDITIONAL INFORMATION  Area of Expertise:  ➢ Familiar with Agile Methodologies. ➢ Having knowledge in Energy (Petroleum) & Health Care domains. ➢ Involved in preparation of Test Scenarios. ➢ Preparing Test Data for the test cases.  https://www.indeed.com/r/Harini-Komaravelli/2659eee82e435d1b?isid=rex-download&ikw=download-top&co=IN https://www.indeed.com/r/Harini-Komaravelli/2659eee82e435d1b?isid=rex-download&ikw=download-top&co=IN   ➢ Experienced in development and execution of Test cases effectively. ➢ Experienced in Functional testing, GUI testing, Smoke testing, Regression testing and Integration Testing ➢ Experienced in doing Accessibility testing of an application ➢ Ability to understand user Requirements, Functional and Design specifications. ➢ Good knowledge of SDLC and STLC processes. ➢ Deciding the Severity and Priority of bugs. ➢ Experience in using Microsoft Test Manager & Oracle Test Manager as Test Management Tools. ➢ Having good experience in testing windows based & web based applications. ➢ Involved in Client Interactions for reviews, issues and for any clarifications. ➢ Web Services Testing ➢ Writing Test Scripts in QTP, Testcomplete. ➢ Creating Object Repositories and Function Libraries in QTP. ➢ Enhanced QTP scripts using VB Script. ➢ Strong experience in working with Blue Prism tool ➢ Worked on different Environments like Windows Application & Web Application  Technical Skills:  ❑ Test Automation Tools: Blue Prism, QTP 10.0, Testcomplete ❑ Test Management Tool: Microsoft Test Manager, Oracle Test Manager & JIRA ❑ Databases: Oracle 10g, SQL Server.  ❑ Operating Systems: Windows 7  Project 1: Title: Cadence Client: Baker Hughes  Technologies: Microsoft Visual Studio and Microsoft Team Foundation Server  Client Background: An oilfield services company delivering focused efforts on shale gas and other oilfield services. It provides services, tools and software for drilling and formation evaluation, well completion, production management, seismic data collection and interpretation.  Project Description: AUT (Application under test) is the next generation revolutionary, robust, easy to use scalable well site data acquisition processing and interpretation system for Client's Drilling Services to deliver services that meets cross divisional business requirements consistently.  Project 2:  Description: Paragon supports your entire care team with one tool that your clinicians need to help deliver the best patient care. Designed by physicians, nurses, pharmacists and mid level providers that have a first-hand understanding of clinical workflow needs, Paragon clinical applications allow your caregivers to focus on what matters most; spending time caring for patients. Since Paragon is fully-integrated across all applications and built around a single patient database, information    entered anywhere in the system is immediately available to the entire care team. Immediate access not only helps clinicians make better treatment decisions - it also helps promote patient safety. Paragon offers a broad suite of multidisciplinary clinical software solutions together with anytime, anywhere access to the complete patient record.  Responsibilities:  • Performed Smoke testing and Regression testing. • Involved in Generating and Executing Test Script using Quick Test Pro & Blue Prism • Usability and User Interface Testing. • Involved in Defect tracking and reporting the bugs using TFS • Participated in frequent walk-through meetings with Internal Quality Assurance groups and with development groups. • Participated in client calls and clarifying the doubts by having AT&T sessions • Involved in functional, regression and smoke testing to validate the application data changes done in windows application • Certifying the build status by running the scripts as part of smoke testing  Project 3:  Description: Food & Beverages R&A: Easily manage business across multiple locations while reducing IT cost and complexity. Cloud-based point-of-sale (POS) solutions enable centralized enterprise management with lower upfront costs and a smaller footprint.  Responsibilities:  • Performed Functional testing and Regression testing. • Involved in Generating and Executing Test Scripts using Blue Prism tool and Open script • Involved in preparing bots using Blue Prism tool. • Accessibility testing of the web application • Involved in Defect tracking and reporting the bugs using JIRA • WebServices testing by calling API's to export the data\",\n",
       "  {'entities': [(2275, 2281, 'Companies worked at'),\n",
       "    (2235, 2241, 'Companies worked at'),\n",
       "    (1603, 1609, 'Companies worked at'),\n",
       "    (667, 703, 'Skills'),\n",
       "    (638, 658, 'College Name'),\n",
       "    (612, 637, 'Degree'),\n",
       "    (591, 611, 'College Name'),\n",
       "    (587, 590, 'Degree'),\n",
       "    (568, 574, 'Companies worked at'),\n",
       "    (526, 536, 'Designation'),\n",
       "    (515, 524, 'Location'),\n",
       "    (507, 513, 'Companies worked at'),\n",
       "    (491, 503, 'Designation'),\n",
       "    (429, 438, 'Location'),\n",
       "    (352, 361, 'Location'),\n",
       "    (296, 305, 'Location'),\n",
       "    (270, 279, 'Location'),\n",
       "    (262, 268, 'Companies worked at'),\n",
       "    (246, 258, 'Designation'),\n",
       "    (238, 244, 'Companies worked at'),\n",
       "    (226, 236, 'Designation'),\n",
       "    (177, 207, 'Designation'),\n",
       "    (150, 155, 'Years of Experience'),\n",
       "    (54, 63, 'Location'),\n",
       "    (43, 52, 'Location'),\n",
       "    (35, 41, 'Companies worked at'),\n",
       "    (19, 31, 'Designation'),\n",
       "    (0, 18, 'Name')]})]"
      ]
     },
     "execution_count": 5,
     "metadata": {},
     "output_type": "execute_result"
    }
   ],
   "source": [
    "data = read_file(\"train_data.pkl\")\n",
    "data[:2]"
   ]
  },
  {
   "cell_type": "markdown",
   "id": "237a0d76",
   "metadata": {},
   "source": [
    "### Training custom spacy NER model with our data"
   ]
  },
  {
   "cell_type": "code",
   "execution_count": 6,
   "id": "054f6233",
   "metadata": {
    "scrolled": true
   },
   "outputs": [
    {
     "name": "stdout",
     "output_type": "stream",
     "text": [
      "first if..\n",
      "[]\n",
      "starting iteration: 0\n"
     ]
    },
    {
     "name": "stderr",
     "output_type": "stream",
     "text": [
      "C:\\Users\\Ravi kumar\\AppData\\Roaming\\Python\\Python39\\site-packages\\spacy\\language.py:635: UserWarning: [W033] Training a new parser or NER using a model with an empty lexeme normalization table. This may degrade the performance to some degree. If this is intentional or this language doesn't have a normalization table, please ignore this warning.\n",
      "  proc.begin_training(\n",
      "C:\\Users\\Ravi kumar\\AppData\\Roaming\\Python\\Python39\\site-packages\\spacy\\language.py:635: UserWarning: [W034] Please install the package spacy-lookups-data in order to include the default lexeme normalization table for the language 'en'.\n",
      "  proc.begin_training(\n",
      "C:\\Users\\Ravi kumar\\AppData\\Roaming\\Python\\Python39\\site-packages\\spacy\\language.py:482: UserWarning: [W030] Some entities could not be aligned in the text \"Harini Komaravelli Test Analyst at Oracle, Hyderab...\" with entities \"[(2275, 2281, 'Companies worked at'), (2235, 2241,...\". Use `spacy.gold.biluo_tags_from_offsets(nlp.make_doc(text), entities)` to check the alignment. Misaligned entities (with BILUO tag '-') will be ignored during training.\n",
      "  gold = GoldParse(doc, **gold)\n",
      "C:\\Users\\Ravi kumar\\AppData\\Roaming\\Python\\Python39\\site-packages\\spacy\\language.py:482: UserWarning: [W030] Some entities could not be aligned in the text \"Vineeth Vijayan \"Store Executive\" - Orange City Ho...\" with entities \"[(6994, 7350, 'Skills'), (6936, 6973, 'College Nam...\". Use `spacy.gold.biluo_tags_from_offsets(nlp.make_doc(text), entities)` to check the alignment. Misaligned entities (with BILUO tag '-') will be ignored during training.\n",
      "  gold = GoldParse(doc, **gold)\n",
      "C:\\Users\\Ravi kumar\\AppData\\Roaming\\Python\\Python39\\site-packages\\spacy\\language.py:482: UserWarning: [W030] Some entities could not be aligned in the text \"Paul Rajiv Secunderabad, Andhra Pradesh - Email me...\" with entities \"[(4729, 4733, 'Graduation Year'), (2634, 2638, 'Gr...\". Use `spacy.gold.biluo_tags_from_offsets(nlp.make_doc(text), entities)` to check the alignment. Misaligned entities (with BILUO tag '-') will be ignored during training.\n",
      "  gold = GoldParse(doc, **gold)\n",
      "C:\\Users\\Ravi kumar\\AppData\\Roaming\\Python\\Python39\\site-packages\\spacy\\language.py:482: UserWarning: [W030] Some entities could not be aligned in the text \"Navas Koya Test Engineer  Mangalore, Karnataka - E...\" with entities \"[(2110, 2404, 'Skills'), (2055, 2064, 'Location'),...\". Use `spacy.gold.biluo_tags_from_offsets(nlp.make_doc(text), entities)` to check the alignment. Misaligned entities (with BILUO tag '-') will be ignored during training.\n",
      "  gold = GoldParse(doc, **gold)\n",
      "C:\\Users\\Ravi kumar\\AppData\\Roaming\\Python\\Python39\\site-packages\\spacy\\language.py:482: UserWarning: [W030] Some entities could not be aligned in the text \"Nikhileshkumar Ikhar Product development engineer ...\" with entities \"[(3036, 3078, 'Skills'), (2922, 3018, 'Skills'), (...\". Use `spacy.gold.biluo_tags_from_offsets(nlp.make_doc(text), entities)` to check the alignment. Misaligned entities (with BILUO tag '-') will be ignored during training.\n",
      "  gold = GoldParse(doc, **gold)\n",
      "C:\\Users\\Ravi kumar\\AppData\\Roaming\\Python\\Python39\\site-packages\\spacy\\language.py:482: UserWarning: [W030] Some entities could not be aligned in the text \"Shivam Rathi Microsoft technology Associate (MTA) ...\" with entities \"[(1379, 1406, 'College Name'), (1371, 1378, 'Degre...\". Use `spacy.gold.biluo_tags_from_offsets(nlp.make_doc(text), entities)` to check the alignment. Misaligned entities (with BILUO tag '-') will be ignored during training.\n",
      "  gold = GoldParse(doc, **gold)\n",
      "C:\\Users\\Ravi kumar\\AppData\\Roaming\\Python\\Python39\\site-packages\\spacy\\language.py:482: UserWarning: [W030] Some entities could not be aligned in the text \"Rishabh soni Anuppur, Madhya Pradesh - Email me on...\" with entities \"[(242, 256, 'Skills'), (223, 233, 'College Name'),...\". Use `spacy.gold.biluo_tags_from_offsets(nlp.make_doc(text), entities)` to check the alignment. Misaligned entities (with BILUO tag '-') will be ignored during training.\n",
      "  gold = GoldParse(doc, **gold)\n",
      "C:\\Users\\Ravi kumar\\AppData\\Roaming\\Python\\Python39\\site-packages\\spacy\\language.py:482: UserWarning: [W030] Some entities could not be aligned in the text \"Madas Peddaiah Anantapur, Andhra Pradesh - Email m...\" with entities \"[(2934, 2938, 'Graduation Year'), (2917, 2921, 'Gr...\". Use `spacy.gold.biluo_tags_from_offsets(nlp.make_doc(text), entities)` to check the alignment. Misaligned entities (with BILUO tag '-') will be ignored during training.\n",
      "  gold = GoldParse(doc, **gold)\n",
      "C:\\Users\\Ravi kumar\\AppData\\Roaming\\Python\\Python39\\site-packages\\spacy\\language.py:482: UserWarning: [W030] Some entities could not be aligned in the text \"Dilliraja Baskaran Tamil Nadu - Email me on Indeed...\" with entities \"[(363, 411, 'Email Address'), (314, 349, 'Skills')...\". Use `spacy.gold.biluo_tags_from_offsets(nlp.make_doc(text), entities)` to check the alignment. Misaligned entities (with BILUO tag '-') will be ignored during training.\n",
      "  gold = GoldParse(doc, **gold)\n",
      "C:\\Users\\Ravi kumar\\AppData\\Roaming\\Python\\Python39\\site-packages\\spacy\\language.py:482: UserWarning: [W030] Some entities could not be aligned in the text \"Fenil Francis head of operation and logistics  Tri...\" with entities \"[(774, 897, 'Skills'), (694, 728, 'Skills'), (648,...\". Use `spacy.gold.biluo_tags_from_offsets(nlp.make_doc(text), entities)` to check the alignment. Misaligned entities (with BILUO tag '-') will be ignored during training.\n",
      "  gold = GoldParse(doc, **gold)\n",
      "C:\\Users\\Ravi kumar\\AppData\\Roaming\\Python\\Python39\\site-packages\\spacy\\language.py:482: UserWarning: [W030] Some entities could not be aligned in the text \"Abdul B Arabic Language supporter (Content Analyst...\" with entities \"[(2349, 2472, 'Skills'), (2331, 2340, 'Degree'), (...\". Use `spacy.gold.biluo_tags_from_offsets(nlp.make_doc(text), entities)` to check the alignment. Misaligned entities (with BILUO tag '-') will be ignored during training.\n",
      "  gold = GoldParse(doc, **gold)\n",
      "C:\\Users\\Ravi kumar\\AppData\\Roaming\\Python\\Python39\\site-packages\\spacy\\language.py:482: UserWarning: [W030] Some entities could not be aligned in the text \"Sudaya Puranik Principal Engineer Technical Staff ...\" with entities \"[(2656, 2689, 'Skills'), (2586, 2626, 'College Nam...\". Use `spacy.gold.biluo_tags_from_offsets(nlp.make_doc(text), entities)` to check the alignment. Misaligned entities (with BILUO tag '-') will be ignored during training.\n",
      "  gold = GoldParse(doc, **gold)\n",
      "C:\\Users\\Ravi kumar\\AppData\\Roaming\\Python\\Python39\\site-packages\\spacy\\language.py:482: UserWarning: [W030] Some entities could not be aligned in the text \"Rupesh Reddy Technology Consultant - EIT Services ...\" with entities \"[(6732, 6848, 'Skills'), (6703, 6707, 'Graduation ...\". Use `spacy.gold.biluo_tags_from_offsets(nlp.make_doc(text), entities)` to check the alignment. Misaligned entities (with BILUO tag '-') will be ignored during training.\n",
      "  gold = GoldParse(doc, **gold)\n",
      "C:\\Users\\Ravi kumar\\AppData\\Roaming\\Python\\Python39\\site-packages\\spacy\\language.py:482: UserWarning: [W030] Some entities could not be aligned in the text \"Karan Turkar Balaghat, Madhya Pradesh - Email me o...\" with entities \"[(228, 272, 'Skills'), (214, 218, 'College Name'),...\". Use `spacy.gold.biluo_tags_from_offsets(nlp.make_doc(text), entities)` to check the alignment. Misaligned entities (with BILUO tag '-') will be ignored during training.\n",
      "  gold = GoldParse(doc, **gold)\n",
      "C:\\Users\\Ravi kumar\\AppData\\Roaming\\Python\\Python39\\site-packages\\spacy\\language.py:482: UserWarning: [W030] Some entities could not be aligned in the text \"Shaik Tazuddin Senior Process Executive - STAR Ind...\" with entities \"[(2877, 3031, 'Skills'), (2728, 2742, 'College Nam...\". Use `spacy.gold.biluo_tags_from_offsets(nlp.make_doc(text), entities)` to check the alignment. Misaligned entities (with BILUO tag '-') will be ignored during training.\n",
      "  gold = GoldParse(doc, **gold)\n",
      "C:\\Users\\Ravi kumar\\AppData\\Roaming\\Python\\Python39\\site-packages\\spacy\\language.py:482: UserWarning: [W030] Some entities could not be aligned in the text \"Ramkrishan Bhatt python developer  Bengaluru, Karn...\" with entities \"[(1439, 1468, 'College Name'), (1434, 1437, 'Degre...\". Use `spacy.gold.biluo_tags_from_offsets(nlp.make_doc(text), entities)` to check the alignment. Misaligned entities (with BILUO tag '-') will be ignored during training.\n",
      "  gold = GoldParse(doc, **gold)\n",
      "C:\\Users\\Ravi kumar\\AppData\\Roaming\\Python\\Python39\\site-packages\\spacy\\language.py:482: UserWarning: [W030] Some entities could not be aligned in the text \"Kartik Sharma Systems Engineer - Infosys Ltd  Delh...\" with entities \"[(3086, 3255, 'Skills'), (3046, 3058, 'Skills'), (...\". Use `spacy.gold.biluo_tags_from_offsets(nlp.make_doc(text), entities)` to check the alignment. Misaligned entities (with BILUO tag '-') will be ignored during training.\n",
      "  gold = GoldParse(doc, **gold)\n"
     ]
    },
    {
     "name": "stderr",
     "output_type": "stream",
     "text": [
      "C:\\Users\\Ravi kumar\\AppData\\Roaming\\Python\\Python39\\site-packages\\spacy\\language.py:482: UserWarning: [W030] Some entities could not be aligned in the text \"Bangalore Tavarekere Volunteer Contestant, Yappon ...\" with entities \"[(386, 391, 'Graduation Year'), (320, 361, 'Colleg...\". Use `spacy.gold.biluo_tags_from_offsets(nlp.make_doc(text), entities)` to check the alignment. Misaligned entities (with BILUO tag '-') will be ignored during training.\n",
      "  gold = GoldParse(doc, **gold)\n",
      "C:\\Users\\Ravi kumar\\AppData\\Roaming\\Python\\Python39\\site-packages\\spacy\\language.py:482: UserWarning: [W030] Some entities could not be aligned in the text \"Palani S Senior Technology Support Executive at In...\" with entities \"[(3660, 3664, 'Graduation Year'), (3598, 3602, 'Gr...\". Use `spacy.gold.biluo_tags_from_offsets(nlp.make_doc(text), entities)` to check the alignment. Misaligned entities (with BILUO tag '-') will be ignored during training.\n",
      "  gold = GoldParse(doc, **gold)\n",
      "C:\\Users\\Ravi kumar\\AppData\\Roaming\\Python\\Python39\\site-packages\\spacy\\language.py:482: UserWarning: [W030] Some entities could not be aligned in the text \"Shabnam Saba Offshore SAP CRM Functional Consultan...\" with entities \"[(3347, 3474, 'Skills'), (3333, 3337, 'Graduation ...\". Use `spacy.gold.biluo_tags_from_offsets(nlp.make_doc(text), entities)` to check the alignment. Misaligned entities (with BILUO tag '-') will be ignored during training.\n",
      "  gold = GoldParse(doc, **gold)\n",
      "C:\\Users\\Ravi kumar\\AppData\\Roaming\\Python\\Python39\\site-packages\\spacy\\language.py:482: UserWarning: [W030] Some entities could not be aligned in the text \"Vamsi krishna hyderbad, Telangana - Email me on In...\" with entities \"[(271, 290, 'Skills'), (231, 261, 'College Name'),...\". Use `spacy.gold.biluo_tags_from_offsets(nlp.make_doc(text), entities)` to check the alignment. Misaligned entities (with BILUO tag '-') will be ignored during training.\n",
      "  gold = GoldParse(doc, **gold)\n",
      "C:\\Users\\Ravi kumar\\AppData\\Roaming\\Python\\Python39\\site-packages\\spacy\\language.py:482: UserWarning: [W030] Some entities could not be aligned in the text \"Srushti Bhadale Mumbai, Maharashtra - Email me on ...\" with entities \"[(1551, 1852, 'Skills'), (1454, 1499, 'Email Addre...\". Use `spacy.gold.biluo_tags_from_offsets(nlp.make_doc(text), entities)` to check the alignment. Misaligned entities (with BILUO tag '-') will be ignored during training.\n",
      "  gold = GoldParse(doc, **gold)\n",
      "C:\\Users\\Ravi kumar\\AppData\\Roaming\\Python\\Python39\\site-packages\\spacy\\language.py:482: UserWarning: [W030] Some entities could not be aligned in the text \"Khushboo Choudhary Developer  Noida, Uttar Pradesh...\" with entities \"[(1466, 1549, 'Skills'), (1363, 1421, 'College Nam...\". Use `spacy.gold.biluo_tags_from_offsets(nlp.make_doc(text), entities)` to check the alignment. Misaligned entities (with BILUO tag '-') will be ignored during training.\n",
      "  gold = GoldParse(doc, **gold)\n",
      "C:\\Users\\Ravi kumar\\AppData\\Roaming\\Python\\Python39\\site-packages\\spacy\\language.py:482: UserWarning: [W030] Some entities could not be aligned in the text \"Shubham Mittal System Engineer - Infosys Limited  ...\" with entities \"[(2197, 2231, 'Skills'), (2184, 2188, 'Graduation ...\". Use `spacy.gold.biluo_tags_from_offsets(nlp.make_doc(text), entities)` to check the alignment. Misaligned entities (with BILUO tag '-') will be ignored during training.\n",
      "  gold = GoldParse(doc, **gold)\n",
      "C:\\Users\\Ravi kumar\\AppData\\Roaming\\Python\\Python39\\site-packages\\spacy\\language.py:482: UserWarning: [W030] Some entities could not be aligned in the text \"Hemil Bhavsar Jr. ASP.NET Developer in True Vision...\" with entities \"[(1085, 1500, 'Skills'), (848, 961, 'Skills'), (83...\". Use `spacy.gold.biluo_tags_from_offsets(nlp.make_doc(text), entities)` to check the alignment. Misaligned entities (with BILUO tag '-') will be ignored during training.\n",
      "  gold = GoldParse(doc, **gold)\n",
      "C:\\Users\\Ravi kumar\\AppData\\Roaming\\Python\\Python39\\site-packages\\spacy\\language.py:482: UserWarning: [W030] Some entities could not be aligned in the text \"Siddharth Choudhary Microsoft Office Suite - Exper...\" with entities \"[(785, 956, 'Skills'), (643, 674, 'Designation'), ...\". Use `spacy.gold.biluo_tags_from_offsets(nlp.make_doc(text), entities)` to check the alignment. Misaligned entities (with BILUO tag '-') will be ignored during training.\n",
      "  gold = GoldParse(doc, **gold)\n",
      "C:\\Users\\Ravi kumar\\AppData\\Roaming\\Python\\Python39\\site-packages\\spacy\\language.py:482: UserWarning: [W030] Some entities could not be aligned in the text \"Anurag Asthana Pune, Maharashtra - Email me on Ind...\" with entities \"[(7675, 7692, 'Years of Experience'), (7133, 7595,...\". Use `spacy.gold.biluo_tags_from_offsets(nlp.make_doc(text), entities)` to check the alignment. Misaligned entities (with BILUO tag '-') will be ignored during training.\n",
      "  gold = GoldParse(doc, **gold)\n",
      "C:\\Users\\Ravi kumar\\AppData\\Roaming\\Python\\Python39\\site-packages\\spacy\\language.py:482: UserWarning: [W030] Some entities could not be aligned in the text \"Prabhu Prasad Mohapatra Need job urgently  Bhubane...\" with entities \"[(310, 332, 'Skills'), (265, 292, 'College Name'),...\". Use `spacy.gold.biluo_tags_from_offsets(nlp.make_doc(text), entities)` to check the alignment. Misaligned entities (with BILUO tag '-') will be ignored during training.\n",
      "  gold = GoldParse(doc, **gold)\n",
      "C:\\Users\\Ravi kumar\\AppData\\Roaming\\Python\\Python39\\site-packages\\spacy\\language.py:482: UserWarning: [W030] Some entities could not be aligned in the text \"Pulkit Saxena New Delhi, Delhi - Email me on Indee...\" with entities \"[(3673, 4270, 'Skills'), (3497, 3502, 'Companies w...\". Use `spacy.gold.biluo_tags_from_offsets(nlp.make_doc(text), entities)` to check the alignment. Misaligned entities (with BILUO tag '-') will be ignored during training.\n",
      "  gold = GoldParse(doc, **gold)\n",
      "C:\\Users\\Ravi kumar\\AppData\\Roaming\\Python\\Python39\\site-packages\\spacy\\language.py:482: UserWarning: [W030] Some entities could not be aligned in the text \"VARUN AHLUWALIA Quantitative Analyst  - Email me o...\" with entities \"[(773, 848, 'Skills'), (735, 740, 'Graduation Year...\". Use `spacy.gold.biluo_tags_from_offsets(nlp.make_doc(text), entities)` to check the alignment. Misaligned entities (with BILUO tag '-') will be ignored during training.\n",
      "  gold = GoldParse(doc, **gold)\n",
      "C:\\Users\\Ravi kumar\\AppData\\Roaming\\Python\\Python39\\site-packages\\spacy\\language.py:482: UserWarning: [W030] Some entities could not be aligned in the text \"pradeep chauhan pradeep chauhan  Noida, Uttar Prad...\" with entities \"[(332, 337, 'Location'), (296, 329, 'College Name'...\". Use `spacy.gold.biluo_tags_from_offsets(nlp.make_doc(text), entities)` to check the alignment. Misaligned entities (with BILUO tag '-') will be ignored during training.\n",
      "  gold = GoldParse(doc, **gold)\n",
      "C:\\Users\\Ravi kumar\\AppData\\Roaming\\Python\\Python39\\site-packages\\spacy\\language.py:482: UserWarning: [W030] Some entities could not be aligned in the text \"Raktim Podder 6+ Exp in banking operations and cre...\" with entities \"[(8800, 8928, 'Skills'), (8760, 8789, 'College Nam...\". Use `spacy.gold.biluo_tags_from_offsets(nlp.make_doc(text), entities)` to check the alignment. Misaligned entities (with BILUO tag '-') will be ignored during training.\n",
      "  gold = GoldParse(doc, **gold)\n",
      "C:\\Users\\Ravi kumar\\AppData\\Roaming\\Python\\Python39\\site-packages\\spacy\\language.py:482: UserWarning: [W030] Some entities could not be aligned in the text \"Ramesh HP CES ASSOCIATE CONSULTANT  Bangalore, Kar...\" with entities \"[(2668, 2945, 'Skills'), (2618, 2638, 'College Nam...\". Use `spacy.gold.biluo_tags_from_offsets(nlp.make_doc(text), entities)` to check the alignment. Misaligned entities (with BILUO tag '-') will be ignored during training.\n",
      "  gold = GoldParse(doc, **gold)\n",
      "C:\\Users\\Ravi kumar\\AppData\\Roaming\\Python\\Python39\\site-packages\\spacy\\language.py:482: UserWarning: [W030] Some entities could not be aligned in the text \"Somanath Behera Associate, Cognizant technology So...\" with entities \"[(1916, 2392, 'Skills'), (1562, 1567, 'College Nam...\". Use `spacy.gold.biluo_tags_from_offsets(nlp.make_doc(text), entities)` to check the alignment. Misaligned entities (with BILUO tag '-') will be ignored during training.\n",
      "  gold = GoldParse(doc, **gold)\n"
     ]
    },
    {
     "name": "stderr",
     "output_type": "stream",
     "text": [
      "C:\\Users\\Ravi kumar\\AppData\\Roaming\\Python\\Python39\\site-packages\\spacy\\language.py:482: UserWarning: [W030] Some entities could not be aligned in the text \"Divesh Singh Bengaluru, Karnataka - Email me on In...\" with entities \"[(947, 1180, 'Skills'), (833, 845, 'College Name')...\". Use `spacy.gold.biluo_tags_from_offsets(nlp.make_doc(text), entities)` to check the alignment. Misaligned entities (with BILUO tag '-') will be ignored during training.\n",
      "  gold = GoldParse(doc, **gold)\n",
      "C:\\Users\\Ravi kumar\\AppData\\Roaming\\Python\\Python39\\site-packages\\spacy\\language.py:482: UserWarning: [W030] Some entities could not be aligned in the text \"Pranay Sathu Software Test Automation Engineer  Hy...\" with entities \"[(2051, 2567, 'Skills'), (1914, 1943, 'College Nam...\". Use `spacy.gold.biluo_tags_from_offsets(nlp.make_doc(text), entities)` to check the alignment. Misaligned entities (with BILUO tag '-') will be ignored during training.\n",
      "  gold = GoldParse(doc, **gold)\n",
      "C:\\Users\\Ravi kumar\\AppData\\Roaming\\Python\\Python39\\site-packages\\spacy\\language.py:482: UserWarning: [W030] Some entities could not be aligned in the text \"Jyotirbindu Patnaik Associate consultant@SAP labs ...\" with entities \"[(3052, 3067, 'Skills'), (2993, 3016, 'College Nam...\". Use `spacy.gold.biluo_tags_from_offsets(nlp.make_doc(text), entities)` to check the alignment. Misaligned entities (with BILUO tag '-') will be ignored during training.\n",
      "  gold = GoldParse(doc, **gold)\n",
      "C:\\Users\\Ravi kumar\\AppData\\Roaming\\Python\\Python39\\site-packages\\spacy\\language.py:482: UserWarning: [W030] Some entities could not be aligned in the text \"Akila Mohideen System Engineer, Infosys Limited, I...\" with entities \"[(2207, 2359, 'Skills'), (2095, 2138, 'College Nam...\". Use `spacy.gold.biluo_tags_from_offsets(nlp.make_doc(text), entities)` to check the alignment. Misaligned entities (with BILUO tag '-') will be ignored during training.\n",
      "  gold = GoldParse(doc, **gold)\n",
      "C:\\Users\\Ravi kumar\\AppData\\Roaming\\Python\\Python39\\site-packages\\spacy\\language.py:482: UserWarning: [W030] Some entities could not be aligned in the text \"Soumya Balan Soumya Balan - BE Computer Science - ...\" with entities \"[(3036, 3040, 'Graduation Year'), (2717, 2959, 'Sk...\". Use `spacy.gold.biluo_tags_from_offsets(nlp.make_doc(text), entities)` to check the alignment. Misaligned entities (with BILUO tag '-') will be ignored during training.\n",
      "  gold = GoldParse(doc, **gold)\n",
      "C:\\Users\\Ravi kumar\\AppData\\Roaming\\Python\\Python39\\site-packages\\spacy\\language.py:482: UserWarning: [W030] Some entities could not be aligned in the text \"Srinivas VO Sr. Test Manager  Mumbai, Maharashtra ...\" with entities \"[(11201, 11409, 'Skills'), (11172, 11191, 'College...\". Use `spacy.gold.biluo_tags_from_offsets(nlp.make_doc(text), entities)` to check the alignment. Misaligned entities (with BILUO tag '-') will be ignored during training.\n",
      "  gold = GoldParse(doc, **gold)\n",
      "C:\\Users\\Ravi kumar\\AppData\\Roaming\\Python\\Python39\\site-packages\\spacy\\language.py:482: UserWarning: [W030] Some entities could not be aligned in the text \"Gunjan Nayyar Hoshiarpur, Punjab - Email me on Ind...\" with entities \"[(1234, 1277, 'Email Address'), (1146, 1150, 'Grad...\". Use `spacy.gold.biluo_tags_from_offsets(nlp.make_doc(text), entities)` to check the alignment. Misaligned entities (with BILUO tag '-') will be ignored during training.\n",
      "  gold = GoldParse(doc, **gold)\n",
      "C:\\Users\\Ravi kumar\\AppData\\Roaming\\Python\\Python39\\site-packages\\spacy\\language.py:482: UserWarning: [W030] Some entities could not be aligned in the text \"Nitin Tr PeopleSoft Consultant  Bangalore Urban, K...\" with entities \"[(3511, 3749, 'Skills'), (3313, 3364, 'Skills'), (...\". Use `spacy.gold.biluo_tags_from_offsets(nlp.make_doc(text), entities)` to check the alignment. Misaligned entities (with BILUO tag '-') will be ignored during training.\n",
      "  gold = GoldParse(doc, **gold)\n",
      "C:\\Users\\Ravi kumar\\AppData\\Roaming\\Python\\Python39\\site-packages\\spacy\\language.py:482: UserWarning: [W030] Some entities could not be aligned in the text \"Sridevi H Bangalore, Karnataka - Email me on Indee...\" with entities \"[(2473, 2498, 'Designation'), (2030, 2037, 'Compan...\". Use `spacy.gold.biluo_tags_from_offsets(nlp.make_doc(text), entities)` to check the alignment. Misaligned entities (with BILUO tag '-') will be ignored during training.\n",
      "  gold = GoldParse(doc, **gold)\n",
      "C:\\Users\\Ravi kumar\\AppData\\Roaming\\Python\\Python39\\site-packages\\spacy\\language.py:482: UserWarning: [W030] Some entities could not be aligned in the text \"Bike Rally Chief Coordinator of LEAR  Palghat, Ker...\" with entities \"[(826, 830, 'Graduation Year'), (779, 797, 'Colleg...\". Use `spacy.gold.biluo_tags_from_offsets(nlp.make_doc(text), entities)` to check the alignment. Misaligned entities (with BILUO tag '-') will be ignored during training.\n",
      "  gold = GoldParse(doc, **gold)\n",
      "C:\\Users\\Ravi kumar\\AppData\\Roaming\\Python\\Python39\\site-packages\\spacy\\language.py:482: UserWarning: [W030] Some entities could not be aligned in the text \"Tejasri Gunnam Bengaluru, Karnataka - Email me on ...\" with entities \"[(3517, 3878, 'Skills'), (3387, 3481, 'Skills'), (...\". Use `spacy.gold.biluo_tags_from_offsets(nlp.make_doc(text), entities)` to check the alignment. Misaligned entities (with BILUO tag '-') will be ignored during training.\n",
      "  gold = GoldParse(doc, **gold)\n",
      "C:\\Users\\Ravi kumar\\AppData\\Roaming\\Python\\Python39\\site-packages\\spacy\\language.py:482: UserWarning: [W030] Some entities could not be aligned in the text \"Ashish Indoriya Sr. Systems Engineer at Infosys Li...\" with entities \"[(3828, 3931, 'Skills'), (3753, 3794, 'College Nam...\". Use `spacy.gold.biluo_tags_from_offsets(nlp.make_doc(text), entities)` to check the alignment. Misaligned entities (with BILUO tag '-') will be ignored during training.\n",
      "  gold = GoldParse(doc, **gold)\n",
      "C:\\Users\\Ravi kumar\\AppData\\Roaming\\Python\\Python39\\site-packages\\spacy\\language.py:482: UserWarning: [W030] Some entities could not be aligned in the text \"Ramakrishna Rao DevOps Consultant - Tech Mahindra ...\" with entities \"[(5995, 6012, 'Companies worked at'), (5913, 5930,...\". Use `spacy.gold.biluo_tags_from_offsets(nlp.make_doc(text), entities)` to check the alignment. Misaligned entities (with BILUO tag '-') will be ignored during training.\n",
      "  gold = GoldParse(doc, **gold)\n",
      "C:\\Users\\Ravi kumar\\AppData\\Roaming\\Python\\Python39\\site-packages\\spacy\\language.py:482: UserWarning: [W030] Some entities could not be aligned in the text \"Kiran Kumar I Having 2.1 years of Experience in IT...\" with entities \"[(1403, 1487, 'Skills'), (1351, 1393, 'College Nam...\". Use `spacy.gold.biluo_tags_from_offsets(nlp.make_doc(text), entities)` to check the alignment. Misaligned entities (with BILUO tag '-') will be ignored during training.\n",
      "  gold = GoldParse(doc, **gold)\n",
      "C:\\Users\\Ravi kumar\\AppData\\Roaming\\Python\\Python39\\site-packages\\spacy\\language.py:482: UserWarning: [W030] Some entities could not be aligned in the text \"K. Siddharth System Administrator (Server) Microso...\" with entities \"[(1826, 1843, 'Location'), (1791, 1823, 'College N...\". Use `spacy.gold.biluo_tags_from_offsets(nlp.make_doc(text), entities)` to check the alignment. Misaligned entities (with BILUO tag '-') will be ignored during training.\n",
      "  gold = GoldParse(doc, **gold)\n",
      "C:\\Users\\Ravi kumar\\AppData\\Roaming\\Python\\Python39\\site-packages\\spacy\\language.py:482: UserWarning: [W030] Some entities could not be aligned in the text \"Sivaganesh Selvakumar DevOps Consultant with Infos...\" with entities \"[(2349, 2642, 'Skills'), (2257, 2291, 'College Nam...\". Use `spacy.gold.biluo_tags_from_offsets(nlp.make_doc(text), entities)` to check the alignment. Misaligned entities (with BILUO tag '-') will be ignored during training.\n",
      "  gold = GoldParse(doc, **gold)\n",
      "C:\\Users\\Ravi kumar\\AppData\\Roaming\\Python\\Python39\\site-packages\\spacy\\language.py:482: UserWarning: [W030] Some entities could not be aligned in the text \"Ajay Elango Software Engineer  Bangalore City, Kar...\" with entities \"[(6930, 7494, 'Skills'), (6845, 6875, 'College Nam...\". Use `spacy.gold.biluo_tags_from_offsets(nlp.make_doc(text), entities)` to check the alignment. Misaligned entities (with BILUO tag '-') will be ignored during training.\n",
      "  gold = GoldParse(doc, **gold)\n"
     ]
    },
    {
     "name": "stderr",
     "output_type": "stream",
     "text": [
      "C:\\Users\\Ravi kumar\\AppData\\Roaming\\Python\\Python39\\site-packages\\spacy\\language.py:482: UserWarning: [W030] Some entities could not be aligned in the text \"Sayani Goswami I Phone solution Consultant  Kolkat...\" with entities \"[(314, 333, 'College Name'), (261, 271, 'Companies...\". Use `spacy.gold.biluo_tags_from_offsets(nlp.make_doc(text), entities)` to check the alignment. Misaligned entities (with BILUO tag '-') will be ignored during training.\n",
      "  gold = GoldParse(doc, **gold)\n",
      "C:\\Users\\Ravi kumar\\AppData\\Roaming\\Python\\Python39\\site-packages\\spacy\\language.py:482: UserWarning: [W030] Some entities could not be aligned in the text \"Ramya. P Hyderabad, Telangana - Email me on Indeed...\" with entities \"[(4542, 4549, 'Skills'), (4178, 4187, 'Skills'), (...\". Use `spacy.gold.biluo_tags_from_offsets(nlp.make_doc(text), entities)` to check the alignment. Misaligned entities (with BILUO tag '-') will be ignored during training.\n",
      "  gold = GoldParse(doc, **gold)\n",
      "C:\\Users\\Ravi kumar\\AppData\\Roaming\\Python\\Python39\\site-packages\\spacy\\language.py:482: UserWarning: [W030] Some entities could not be aligned in the text \"Imgeeyaul Ansari java developer  Pune, Maharashtra...\" with entities \"[(1894, 2173, 'Skills'), (1726, 1851, 'Skills'), (...\". Use `spacy.gold.biluo_tags_from_offsets(nlp.make_doc(text), entities)` to check the alignment. Misaligned entities (with BILUO tag '-') will be ignored during training.\n",
      "  gold = GoldParse(doc, **gold)\n",
      "C:\\Users\\Ravi kumar\\AppData\\Roaming\\Python\\Python39\\site-packages\\spacy\\language.py:482: UserWarning: [W030] Some entities could not be aligned in the text \"Ahmad Bardolia Project Lead for Infosys OpenStack ...\" with entities \"[(3827, 4016, 'Skills'), (3809, 3817, 'Degree'), (...\". Use `spacy.gold.biluo_tags_from_offsets(nlp.make_doc(text), entities)` to check the alignment. Misaligned entities (with BILUO tag '-') will be ignored during training.\n",
      "  gold = GoldParse(doc, **gold)\n",
      "C:\\Users\\Ravi kumar\\AppData\\Roaming\\Python\\Python39\\site-packages\\spacy\\language.py:482: UserWarning: [W030] Some entities could not be aligned in the text \"Navjyot Singh Rathore Ulhasnagar, Maharashtra - Em...\" with entities \"[(605, 753, 'Skills'), (403, 407, 'Graduation Year...\". Use `spacy.gold.biluo_tags_from_offsets(nlp.make_doc(text), entities)` to check the alignment. Misaligned entities (with BILUO tag '-') will be ignored during training.\n",
      "  gold = GoldParse(doc, **gold)\n",
      "C:\\Users\\Ravi kumar\\AppData\\Roaming\\Python\\Python39\\site-packages\\spacy\\language.py:482: UserWarning: [W030] Some entities could not be aligned in the text \"Ramesh chokkala Telangana - Email me on Indeed: in...\" with entities \"[(250, 278, 'College Name'), (243, 248, 'Degree'),...\". Use `spacy.gold.biluo_tags_from_offsets(nlp.make_doc(text), entities)` to check the alignment. Misaligned entities (with BILUO tag '-') will be ignored during training.\n",
      "  gold = GoldParse(doc, **gold)\n",
      "C:\\Users\\Ravi kumar\\AppData\\Roaming\\Python\\Python39\\site-packages\\spacy\\language.py:482: UserWarning: [W030] Some entities could not be aligned in the text \"Vinay Singhal New Delhi, Delhi - Email me on Indee...\" with entities \"[(937, 980, 'Email Address'), (580, 923, 'Skills')...\". Use `spacy.gold.biluo_tags_from_offsets(nlp.make_doc(text), entities)` to check the alignment. Misaligned entities (with BILUO tag '-') will be ignored during training.\n",
      "  gold = GoldParse(doc, **gold)\n",
      "C:\\Users\\Ravi kumar\\AppData\\Roaming\\Python\\Python39\\site-packages\\spacy\\language.py:482: UserWarning: [W030] Some entities could not be aligned in the text \"Anil Kumar Microsoft Azure (Basic Management)  Del...\" with entities \"[(8004, 8009, 'Location'), (7716, 7721, 'Location'...\". Use `spacy.gold.biluo_tags_from_offsets(nlp.make_doc(text), entities)` to check the alignment. Misaligned entities (with BILUO tag '-') will be ignored during training.\n",
      "  gold = GoldParse(doc, **gold)\n",
      "C:\\Users\\Ravi kumar\\AppData\\Roaming\\Python\\Python39\\site-packages\\spacy\\language.py:482: UserWarning: [W030] Some entities could not be aligned in the text \"Deepika S Test Engineer - Infosys Ltd  - Email me ...\" with entities \"[(3170, 3174, 'Graduation Year'), (3120, 3143, 'Co...\". Use `spacy.gold.biluo_tags_from_offsets(nlp.make_doc(text), entities)` to check the alignment. Misaligned entities (with BILUO tag '-') will be ignored during training.\n",
      "  gold = GoldParse(doc, **gold)\n",
      "C:\\Users\\Ravi kumar\\AppData\\Roaming\\Python\\Python39\\site-packages\\spacy\\language.py:482: UserWarning: [W030] Some entities could not be aligned in the text \"Lakshika Neelakshi Senior Systems Engineer - Infos...\" with entities \"[(7260, 7599, 'Skills'), (3628, 3637, 'Location'),...\". Use `spacy.gold.biluo_tags_from_offsets(nlp.make_doc(text), entities)` to check the alignment. Misaligned entities (with BILUO tag '-') will be ignored during training.\n",
      "  gold = GoldParse(doc, **gold)\n",
      "C:\\Users\\Ravi kumar\\AppData\\Roaming\\Python\\Python39\\site-packages\\spacy\\language.py:482: UserWarning: [W030] Some entities could not be aligned in the text \"Jatin Arora SDET Automation Engineer, Infosys - CR...\" with entities \"[(3909, 3931, 'College Name'), (3883, 3908, 'Degre...\". Use `spacy.gold.biluo_tags_from_offsets(nlp.make_doc(text), entities)` to check the alignment. Misaligned entities (with BILUO tag '-') will be ignored during training.\n",
      "  gold = GoldParse(doc, **gold)\n",
      "C:\\Users\\Ravi kumar\\AppData\\Roaming\\Python\\Python39\\site-packages\\spacy\\language.py:482: UserWarning: [W030] Some entities could not be aligned in the text \"Praveen Bhaskar Program Manager (Software Delivery...\" with entities \"[(4459, 4959, 'Skills'), (4445, 4450, 'Designation...\". Use `spacy.gold.biluo_tags_from_offsets(nlp.make_doc(text), entities)` to check the alignment. Misaligned entities (with BILUO tag '-') will be ignored during training.\n",
      "  gold = GoldParse(doc, **gold)\n",
      "C:\\Users\\Ravi kumar\\AppData\\Roaming\\Python\\Python39\\site-packages\\spacy\\language.py:482: UserWarning: [W030] Some entities could not be aligned in the text \"Pankaj Bhosale Microsoft SQL-SERVER  Dhule, Mahara...\" with entities \"[(1482, 1487, 'Location'), (1369, 1413, 'Email Add...\". Use `spacy.gold.biluo_tags_from_offsets(nlp.make_doc(text), entities)` to check the alignment. Misaligned entities (with BILUO tag '-') will be ignored during training.\n",
      "  gold = GoldParse(doc, **gold)\n",
      "C:\\Users\\Ravi kumar\\AppData\\Roaming\\Python\\Python39\\site-packages\\spacy\\language.py:482: UserWarning: [W030] Some entities could not be aligned in the text \"Angad Waghmare Pune, Maharashtra - Email me on Ind...\" with entities \"[(3878, 3937, 'Degree'), (3110, 3846, 'Skills'), (...\". Use `spacy.gold.biluo_tags_from_offsets(nlp.make_doc(text), entities)` to check the alignment. Misaligned entities (with BILUO tag '-') will be ignored during training.\n",
      "  gold = GoldParse(doc, **gold)\n",
      "C:\\Users\\Ravi kumar\\AppData\\Roaming\\Python\\Python39\\site-packages\\spacy\\language.py:482: UserWarning: [W030] Some entities could not be aligned in the text \"Moumita Mitra - Email me on Indeed: indeed.com/r/M...\" with entities \"[(1963, 2094, 'Skills'), (1818, 1926, 'Skills'), (...\". Use `spacy.gold.biluo_tags_from_offsets(nlp.make_doc(text), entities)` to check the alignment. Misaligned entities (with BILUO tag '-') will be ignored during training.\n",
      "  gold = GoldParse(doc, **gold)\n",
      "C:\\Users\\Ravi kumar\\AppData\\Roaming\\Python\\Python39\\site-packages\\spacy\\language.py:482: UserWarning: [W030] Some entities could not be aligned in the text \"Chhaya Prabhale Kharadi, Pune, 411014, IN - Email ...\" with entities \"[(1943, 2050, 'Skills'), (478, 488, 'Designation')...\". Use `spacy.gold.biluo_tags_from_offsets(nlp.make_doc(text), entities)` to check the alignment. Misaligned entities (with BILUO tag '-') will be ignored during training.\n",
      "  gold = GoldParse(doc, **gold)\n",
      "C:\\Users\\Ravi kumar\\AppData\\Roaming\\Python\\Python39\\site-packages\\spacy\\language.py:482: UserWarning: [W030] Some entities could not be aligned in the text \"Shrinidhi Selva Kumar NOC and QA Engineer at Skava...\" with entities \"[(757, 761, 'Graduation Year'), (702, 750, 'Colleg...\". Use `spacy.gold.biluo_tags_from_offsets(nlp.make_doc(text), entities)` to check the alignment. Misaligned entities (with BILUO tag '-') will be ignored during training.\n",
      "  gold = GoldParse(doc, **gold)\n",
      "C:\\Users\\Ravi kumar\\AppData\\Roaming\\Python\\Python39\\site-packages\\spacy\\language.py:482: UserWarning: [W030] Some entities could not be aligned in the text \"Debasish Dasgupta Trainer-Finacle-Core Banking Sol...\" with entities \"[(5840, 5847, 'Companies worked at'), (2090, 2137,...\". Use `spacy.gold.biluo_tags_from_offsets(nlp.make_doc(text), entities)` to check the alignment. Misaligned entities (with BILUO tag '-') will be ignored during training.\n",
      "  gold = GoldParse(doc, **gold)\n"
     ]
    },
    {
     "name": "stderr",
     "output_type": "stream",
     "text": [
      "C:\\Users\\Ravi kumar\\AppData\\Roaming\\Python\\Python39\\site-packages\\spacy\\language.py:482: UserWarning: [W030] Some entities could not be aligned in the text \"Tanmoy Maity Kolkata, West Bengal - Email me on In...\" with entities \"[(319, 338, 'Skills'), (289, 296, 'Location'), (28...\". Use `spacy.gold.biluo_tags_from_offsets(nlp.make_doc(text), entities)` to check the alignment. Misaligned entities (with BILUO tag '-') will be ignored during training.\n",
      "  gold = GoldParse(doc, **gold)\n",
      "C:\\Users\\Ravi kumar\\AppData\\Roaming\\Python\\Python39\\site-packages\\spacy\\language.py:482: UserWarning: [W030] Some entities could not be aligned in the text \"Suman Biswas SAP UI5 Lead, Native HANA Developer -...\" with entities \"[(5053, 5059, 'Companies worked at'), (5013, 5019,...\". Use `spacy.gold.biluo_tags_from_offsets(nlp.make_doc(text), entities)` to check the alignment. Misaligned entities (with BILUO tag '-') will be ignored during training.\n",
      "  gold = GoldParse(doc, **gold)\n",
      "C:\\Users\\Ravi kumar\\AppData\\Roaming\\Python\\Python39\\site-packages\\spacy\\language.py:482: UserWarning: [W030] Some entities could not be aligned in the text \"Prasanna Ignatius MICROSOFT - Backup Administrator...\" with entities \"[(3917, 3975, 'Skills'), (3790, 3835, 'College Nam...\". Use `spacy.gold.biluo_tags_from_offsets(nlp.make_doc(text), entities)` to check the alignment. Misaligned entities (with BILUO tag '-') will be ignored during training.\n",
      "  gold = GoldParse(doc, **gold)\n",
      "C:\\Users\\Ravi kumar\\AppData\\Roaming\\Python\\Python39\\site-packages\\spacy\\language.py:482: UserWarning: [W030] Some entities could not be aligned in the text \"Manisha Bharti Software Automation Engineer  Pune,...\" with entities \"[(2833, 4400, 'Skills'), (2819, 2823, 'Graduation ...\". Use `spacy.gold.biluo_tags_from_offsets(nlp.make_doc(text), entities)` to check the alignment. Misaligned entities (with BILUO tag '-') will be ignored during training.\n",
      "  gold = GoldParse(doc, **gold)\n",
      "C:\\Users\\Ravi kumar\\AppData\\Roaming\\Python\\Python39\\site-packages\\spacy\\language.py:482: UserWarning: [W030] Some entities could not be aligned in the text \"Shaheen Unissa SAP ABAP Consultant  Hyderabad, Tel...\" with entities \"[(12088, 12384, 'Skills'), (12044, 12048, 'Graduat...\". Use `spacy.gold.biluo_tags_from_offsets(nlp.make_doc(text), entities)` to check the alignment. Misaligned entities (with BILUO tag '-') will be ignored during training.\n",
      "  gold = GoldParse(doc, **gold)\n",
      "C:\\Users\\Ravi kumar\\AppData\\Roaming\\Python\\Python39\\site-packages\\spacy\\language.py:482: UserWarning: [W030] Some entities could not be aligned in the text \"Mohammed Murtuza Major Incident Manager / Escalati...\" with entities \"[(7924, 8040, 'Skills'), (7872, 7891, 'College Nam...\". Use `spacy.gold.biluo_tags_from_offsets(nlp.make_doc(text), entities)` to check the alignment. Misaligned entities (with BILUO tag '-') will be ignored during training.\n",
      "  gold = GoldParse(doc, **gold)\n",
      "C:\\Users\\Ravi kumar\\AppData\\Roaming\\Python\\Python39\\site-packages\\spacy\\language.py:482: UserWarning: [W030] Some entities could not be aligned in the text \"Avani Priya - Email me on Indeed: indeed.com/r/Ava...\" with entities \"[(368, 409, 'Email Address'), (314, 334, 'College ...\". Use `spacy.gold.biluo_tags_from_offsets(nlp.make_doc(text), entities)` to check the alignment. Misaligned entities (with BILUO tag '-') will be ignored during training.\n",
      "  gold = GoldParse(doc, **gold)\n",
      "C:\\Users\\Ravi kumar\\AppData\\Roaming\\Python\\Python39\\site-packages\\spacy\\language.py:482: UserWarning: [W030] Some entities could not be aligned in the text \"Kowsick Somasundaram Certified Network Associate T...\" with entities \"[(696, 1129, 'Skills'), (625, 661, 'College Name')...\". Use `spacy.gold.biluo_tags_from_offsets(nlp.make_doc(text), entities)` to check the alignment. Misaligned entities (with BILUO tag '-') will be ignored during training.\n",
      "  gold = GoldParse(doc, **gold)\n",
      "C:\\Users\\Ravi kumar\\AppData\\Roaming\\Python\\Python39\\site-packages\\spacy\\language.py:482: UserWarning: [W030] Some entities could not be aligned in the text \"Keshav Dhawale 3 TCS Security guard Access Control...\" with entities \"[(971, 1015, 'Email Address'), (877, 895, 'College...\". Use `spacy.gold.biluo_tags_from_offsets(nlp.make_doc(text), entities)` to check the alignment. Misaligned entities (with BILUO tag '-') will be ignored during training.\n",
      "  gold = GoldParse(doc, **gold)\n",
      "C:\\Users\\Ravi kumar\\AppData\\Roaming\\Python\\Python39\\site-packages\\spacy\\language.py:482: UserWarning: [W030] Some entities could not be aligned in the text \"Akshay Dubey Actively looking for opportunity in ....\" with entities \"[(2889, 3089, 'Skills'), (2734, 2846, 'Skills'), (...\". Use `spacy.gold.biluo_tags_from_offsets(nlp.make_doc(text), entities)` to check the alignment. Misaligned entities (with BILUO tag '-') will be ignored during training.\n",
      "  gold = GoldParse(doc, **gold)\n",
      "C:\\Users\\Ravi kumar\\AppData\\Roaming\\Python\\Python39\\site-packages\\spacy\\language.py:482: UserWarning: [W030] Some entities could not be aligned in the text \"Sanand Pal SQL and MSBI Developer with experience ...\" with entities \"[(3056, 3090, 'Skills'), (3042, 3046, 'Graduation ...\". Use `spacy.gold.biluo_tags_from_offsets(nlp.make_doc(text), entities)` to check the alignment. Misaligned entities (with BILUO tag '-') will be ignored during training.\n",
      "  gold = GoldParse(doc, **gold)\n",
      "C:\\Users\\Ravi kumar\\AppData\\Roaming\\Python\\Python39\\site-packages\\spacy\\language.py:482: UserWarning: [W030] Some entities could not be aligned in the text \"Ravi Shivgond Bidar, Karnataka - Email me on Indee...\" with entities \"[(1341, 1384, 'Email Address'), (1131, 1136, 'Loca...\". Use `spacy.gold.biluo_tags_from_offsets(nlp.make_doc(text), entities)` to check the alignment. Misaligned entities (with BILUO tag '-') will be ignored during training.\n",
      "  gold = GoldParse(doc, **gold)\n",
      "C:\\Users\\Ravi kumar\\AppData\\Roaming\\Python\\Python39\\site-packages\\spacy\\language.py:482: UserWarning: [W030] Some entities could not be aligned in the text \"Pratik Vaidya Pune, Maharashtra - Email me on Inde...\" with entities \"[(1901, 1906, 'Skills'), (1812, 1816, 'Graduation ...\". Use `spacy.gold.biluo_tags_from_offsets(nlp.make_doc(text), entities)` to check the alignment. Misaligned entities (with BILUO tag '-') will be ignored during training.\n",
      "  gold = GoldParse(doc, **gold)\n",
      "C:\\Users\\Ravi kumar\\AppData\\Roaming\\Python\\Python39\\site-packages\\spacy\\language.py:482: UserWarning: [W030] Some entities could not be aligned in the text \"Madhuri Sripathi Banglore, Karnataka, Karnataka - ...\" with entities \"[(4563, 4747, 'Skills'), (4538, 4552, 'College Nam...\". Use `spacy.gold.biluo_tags_from_offsets(nlp.make_doc(text), entities)` to check the alignment. Misaligned entities (with BILUO tag '-') will be ignored during training.\n",
      "  gold = GoldParse(doc, **gold)\n",
      "C:\\Users\\Ravi kumar\\AppData\\Roaming\\Python\\Python39\\site-packages\\spacy\\language.py:482: UserWarning: [W030] Some entities could not be aligned in the text \"Akash Gulhane Microsoft Certified System Engineer ...\" with entities \"[(913, 921, 'Location'), (888, 909, 'College Name'...\". Use `spacy.gold.biluo_tags_from_offsets(nlp.make_doc(text), entities)` to check the alignment. Misaligned entities (with BILUO tag '-') will be ignored during training.\n",
      "  gold = GoldParse(doc, **gold)\n",
      "C:\\Users\\Ravi kumar\\AppData\\Roaming\\Python\\Python39\\site-packages\\spacy\\language.py:482: UserWarning: [W030] Some entities could not be aligned in the text \"Ravi Shankar Working as Escalation Engineer with M...\" with entities \"[(4016, 4025, 'Companies worked at'), (3941, 3950,...\". Use `spacy.gold.biluo_tags_from_offsets(nlp.make_doc(text), entities)` to check the alignment. Misaligned entities (with BILUO tag '-') will be ignored during training.\n",
      "  gold = GoldParse(doc, **gold)\n",
      "C:\\Users\\Ravi kumar\\AppData\\Roaming\\Python\\Python39\\site-packages\\spacy\\language.py:482: UserWarning: [W030] Some entities could not be aligned in the text \"Karthik GV Architect - Microsoft India  Hyderabad,...\" with entities \"[(4048, 4169, 'Skills'), (4034, 4038, 'Graduation ...\". Use `spacy.gold.biluo_tags_from_offsets(nlp.make_doc(text), entities)` to check the alignment. Misaligned entities (with BILUO tag '-') will be ignored during training.\n",
      "  gold = GoldParse(doc, **gold)\n"
     ]
    },
    {
     "name": "stderr",
     "output_type": "stream",
     "text": [
      "C:\\Users\\Ravi kumar\\AppData\\Roaming\\Python\\Python39\\site-packages\\spacy\\language.py:482: UserWarning: [W030] Some entities could not be aligned in the text \"Sai Patha Mule ESB Integration Developer - Cisco S...\" with entities \"[(11921, 12599, 'Skills'), (11791, 11876, 'Skills'...\". Use `spacy.gold.biluo_tags_from_offsets(nlp.make_doc(text), entities)` to check the alignment. Misaligned entities (with BILUO tag '-') will be ignored during training.\n",
      "  gold = GoldParse(doc, **gold)\n",
      "C:\\Users\\Ravi kumar\\AppData\\Roaming\\Python\\Python39\\site-packages\\spacy\\language.py:482: UserWarning: [W030] Some entities could not be aligned in the text \"Arpit Jain Quality Analyst - ThoughtWorks Technolo...\" with entities \"[(2301, 2380, 'Skills'), (2088, 2131, 'College Nam...\". Use `spacy.gold.biluo_tags_from_offsets(nlp.make_doc(text), entities)` to check the alignment. Misaligned entities (with BILUO tag '-') will be ignored during training.\n",
      "  gold = GoldParse(doc, **gold)\n",
      "C:\\Users\\Ravi kumar\\AppData\\Roaming\\Python\\Python39\\site-packages\\spacy\\language.py:482: UserWarning: [W030] Some entities could not be aligned in the text \"Syed Sadath ali Coimbatore - Email me on Indeed: i...\" with entities \"[(221, 246, 'Skills'), (206, 211, 'College Name'),...\". Use `spacy.gold.biluo_tags_from_offsets(nlp.make_doc(text), entities)` to check the alignment. Misaligned entities (with BILUO tag '-') will be ignored during training.\n",
      "  gold = GoldParse(doc, **gold)\n",
      "C:\\Users\\Ravi kumar\\AppData\\Roaming\\Python\\Python39\\site-packages\\spacy\\language.py:482: UserWarning: [W030] Some entities could not be aligned in the text \"Pradeep Kumar Security Analyst in Infosys - Career...\" with entities \"[(587, 669, 'Skills'), (512, 554, 'College Name'),...\". Use `spacy.gold.biluo_tags_from_offsets(nlp.make_doc(text), entities)` to check the alignment. Misaligned entities (with BILUO tag '-') will be ignored during training.\n",
      "  gold = GoldParse(doc, **gold)\n",
      "C:\\Users\\Ravi kumar\\AppData\\Roaming\\Python\\Python39\\site-packages\\spacy\\language.py:482: UserWarning: [W030] Some entities could not be aligned in the text \"Krishna Prasad Patna City, Bihar - Email me on Ind...\" with entities \"[(288, 293, 'Location'), (267, 285, 'College Name'...\". Use `spacy.gold.biluo_tags_from_offsets(nlp.make_doc(text), entities)` to check the alignment. Misaligned entities (with BILUO tag '-') will be ignored during training.\n",
      "  gold = GoldParse(doc, **gold)\n",
      "C:\\Users\\Ravi kumar\\AppData\\Roaming\\Python\\Python39\\site-packages\\spacy\\language.py:482: UserWarning: [W030] Some entities could not be aligned in the text \"Vikas Singh Chandigarh, Chandigarh - Email me on I...\" with entities \"[(5347, 5750, 'Skills'), (5333, 5337, 'Graduation ...\". Use `spacy.gold.biluo_tags_from_offsets(nlp.make_doc(text), entities)` to check the alignment. Misaligned entities (with BILUO tag '-') will be ignored during training.\n",
      "  gold = GoldParse(doc, **gold)\n",
      "C:\\Users\\Ravi kumar\\AppData\\Roaming\\Python\\Python39\\site-packages\\spacy\\language.py:482: UserWarning: [W030] Some entities could not be aligned in the text \"Aarti Pimplay Operations Center Shift Manager (OCS...\" with entities \"[(3054, 3363, 'Skills'), (2333, 2341, 'Companies w...\". Use `spacy.gold.biluo_tags_from_offsets(nlp.make_doc(text), entities)` to check the alignment. Misaligned entities (with BILUO tag '-') will be ignored during training.\n",
      "  gold = GoldParse(doc, **gold)\n",
      "C:\\Users\\Ravi kumar\\AppData\\Roaming\\Python\\Python39\\site-packages\\spacy\\language.py:482: UserWarning: [W030] Some entities could not be aligned in the text \"Mohini Gupta Server Support Engineer  Gurgaon, Har...\" with entities \"[(2326, 2333, 'Location'), (1821, 2095, 'Skills'),...\". Use `spacy.gold.biluo_tags_from_offsets(nlp.make_doc(text), entities)` to check the alignment. Misaligned entities (with BILUO tag '-') will be ignored during training.\n",
      "  gold = GoldParse(doc, **gold)\n",
      "C:\\Users\\Ravi kumar\\AppData\\Roaming\\Python\\Python39\\site-packages\\spacy\\language.py:482: UserWarning: [W030] Some entities could not be aligned in the text \"Karthik Gururaj Technical Lead at Infosys Ltd. - P...\" with entities \"[(2814, 2839, 'Degree'), (2773, 2813, 'Degree'), (...\". Use `spacy.gold.biluo_tags_from_offsets(nlp.make_doc(text), entities)` to check the alignment. Misaligned entities (with BILUO tag '-') will be ignored during training.\n",
      "  gold = GoldParse(doc, **gold)\n",
      "C:\\Users\\Ravi kumar\\AppData\\Roaming\\Python\\Python39\\site-packages\\spacy\\language.py:482: UserWarning: [W030] Some entities could not be aligned in the text \"Jay Madhavi Navi Mumbai, Maharashtra - Email me on...\" with entities \"[(1520, 1524, 'Graduation Year'), (1507, 1518, 'De...\". Use `spacy.gold.biluo_tags_from_offsets(nlp.make_doc(text), entities)` to check the alignment. Misaligned entities (with BILUO tag '-') will be ignored during training.\n",
      "  gold = GoldParse(doc, **gold)\n",
      "C:\\Users\\Ravi kumar\\AppData\\Roaming\\Python\\Python39\\site-packages\\spacy\\language.py:482: UserWarning: [W030] Some entities could not be aligned in the text \"Laya A Cluster HR Manager - Velammal New  Chennai,...\" with entities \"[(3758, 4638, 'Skills'), (3725, 3742, 'College Nam...\". Use `spacy.gold.biluo_tags_from_offsets(nlp.make_doc(text), entities)` to check the alignment. Misaligned entities (with BILUO tag '-') will be ignored during training.\n",
      "  gold = GoldParse(doc, **gold)\n",
      "C:\\Users\\Ravi kumar\\AppData\\Roaming\\Python\\Python39\\site-packages\\spacy\\language.py:482: UserWarning: [W030] Some entities could not be aligned in the text \"Venkateswara D specialist - Technology Process  IN...\" with entities \"[(7858, 7886, 'College Name'), (7853, 7856, 'Degre...\". Use `spacy.gold.biluo_tags_from_offsets(nlp.make_doc(text), entities)` to check the alignment. Misaligned entities (with BILUO tag '-') will be ignored during training.\n",
      "  gold = GoldParse(doc, **gold)\n",
      "C:\\Users\\Ravi kumar\\AppData\\Roaming\\Python\\Python39\\site-packages\\spacy\\language.py:482: UserWarning: [W030] Some entities could not be aligned in the text \"Sharan Adla - Email me on Indeed: indeed.com/r/Sha...\" with entities \"[(2421, 2450, 'College Name'), (2416, 2419, 'Degre...\". Use `spacy.gold.biluo_tags_from_offsets(nlp.make_doc(text), entities)` to check the alignment. Misaligned entities (with BILUO tag '-') will be ignored during training.\n",
      "  gold = GoldParse(doc, **gold)\n",
      "C:\\Users\\Ravi kumar\\AppData\\Roaming\\Python\\Python39\\site-packages\\spacy\\language.py:482: UserWarning: [W030] Some entities could not be aligned in the text \"Madhava Konjeti HR Executive  Bengaluru, Karnataka...\" with entities \"[(1818, 1893, 'Skills'), (1760, 1766, 'Graduation ...\". Use `spacy.gold.biluo_tags_from_offsets(nlp.make_doc(text), entities)` to check the alignment. Misaligned entities (with BILUO tag '-') will be ignored during training.\n",
      "  gold = GoldParse(doc, **gold)\n",
      "C:\\Users\\Ravi kumar\\AppData\\Roaming\\Python\\Python39\\site-packages\\spacy\\language.py:482: UserWarning: [W030] Some entities could not be aligned in the text \"Jacob Philip Kottayam, Kerala - Email me on Indeed...\" with entities \"[(2165, 2215, 'Skills'), (2145, 2155, 'Degree'), (...\". Use `spacy.gold.biluo_tags_from_offsets(nlp.make_doc(text), entities)` to check the alignment. Misaligned entities (with BILUO tag '-') will be ignored during training.\n",
      "  gold = GoldParse(doc, **gold)\n",
      "C:\\Users\\Ravi kumar\\AppData\\Roaming\\Python\\Python39\\site-packages\\spacy\\language.py:482: UserWarning: [W030] Some entities could not be aligned in the text \"Chaban kumar Debbarma Tripura - Email me on Indeed...\" with entities \"[(277, 328, 'Email Address'), (257, 263, 'College ...\". Use `spacy.gold.biluo_tags_from_offsets(nlp.make_doc(text), entities)` to check the alignment. Misaligned entities (with BILUO tag '-') will be ignored during training.\n",
      "  gold = GoldParse(doc, **gold)\n",
      "C:\\Users\\Ravi kumar\\AppData\\Roaming\\Python\\Python39\\site-packages\\spacy\\language.py:482: UserWarning: [W030] Some entities could not be aligned in the text \"Pavithra M \"Infosys\" internship  Bengaluru, Karnat...\" with entities \"[(998, 1038, 'Email Address'), (611, 984, 'Skills'...\". Use `spacy.gold.biluo_tags_from_offsets(nlp.make_doc(text), entities)` to check the alignment. Misaligned entities (with BILUO tag '-') will be ignored during training.\n",
      "  gold = GoldParse(doc, **gold)\n"
     ]
    },
    {
     "name": "stderr",
     "output_type": "stream",
     "text": [
      "C:\\Users\\Ravi kumar\\AppData\\Roaming\\Python\\Python39\\site-packages\\spacy\\language.py:482: UserWarning: [W030] Some entities could not be aligned in the text \"Yogi Pesaru Developer - Infosys Limited  Hyderabad...\" with entities \"[(3748, 3809, 'Skills'), (3679, 3745, 'Skills'), (...\". Use `spacy.gold.biluo_tags_from_offsets(nlp.make_doc(text), entities)` to check the alignment. Misaligned entities (with BILUO tag '-') will be ignored during training.\n",
      "  gold = GoldParse(doc, **gold)\n",
      "C:\\Users\\Ravi kumar\\AppData\\Roaming\\Python\\Python39\\site-packages\\spacy\\language.py:482: UserWarning: [W030] Some entities could not be aligned in the text \"Suresh Kanagala Architecture SharePoint/Office 365...\" with entities \"[(1171, 1574, 'Skills'), (962, 1096, 'Skills'), (9...\". Use `spacy.gold.biluo_tags_from_offsets(nlp.make_doc(text), entities)` to check the alignment. Misaligned entities (with BILUO tag '-') will be ignored during training.\n",
      "  gold = GoldParse(doc, **gold)\n",
      "C:\\Users\\Ravi kumar\\AppData\\Roaming\\Python\\Python39\\site-packages\\spacy\\language.py:482: UserWarning: [W030] Some entities could not be aligned in the text \"Santosh Ganta Senior Systems Engineer - mainframe ...\" with entities \"[(957, 1203, 'Skills'), (662, 775, 'Skills'), (648...\". Use `spacy.gold.biluo_tags_from_offsets(nlp.make_doc(text), entities)` to check the alignment. Misaligned entities (with BILUO tag '-') will be ignored during training.\n",
      "  gold = GoldParse(doc, **gold)\n",
      "C:\\Users\\Ravi kumar\\AppData\\Roaming\\Python\\Python39\\site-packages\\spacy\\language.py:482: UserWarning: [W030] Some entities could not be aligned in the text \"Prakriti Shaurya Senior System Engineer - Infosys ...\" with entities \"[(1368, 1560, 'Skills'), (1096, 1133, 'Skills'), (...\". Use `spacy.gold.biluo_tags_from_offsets(nlp.make_doc(text), entities)` to check the alignment. Misaligned entities (with BILUO tag '-') will be ignored during training.\n",
      "  gold = GoldParse(doc, **gold)\n",
      "C:\\Users\\Ravi kumar\\AppData\\Roaming\\Python\\Python39\\site-packages\\spacy\\language.py:482: UserWarning: [W030] Some entities could not be aligned in the text \"Srinu Naik Ramavath anymore job  Serilingampalle, ...\" with entities \"[(670, 694, 'Skills'), (596, 644, 'Skills'), (375,...\". Use `spacy.gold.biluo_tags_from_offsets(nlp.make_doc(text), entities)` to check the alignment. Misaligned entities (with BILUO tag '-') will be ignored during training.\n",
      "  gold = GoldParse(doc, **gold)\n",
      "C:\\Users\\Ravi kumar\\AppData\\Roaming\\Python\\Python39\\site-packages\\spacy\\language.py:482: UserWarning: [W030] Some entities could not be aligned in the text \"Mayank Shukla Infosys group as a Test Analyst - In...\" with entities \"[(2348, 3131, 'Skills'), (2324, 2328, 'Graduation ...\". Use `spacy.gold.biluo_tags_from_offsets(nlp.make_doc(text), entities)` to check the alignment. Misaligned entities (with BILUO tag '-') will be ignored during training.\n",
      "  gold = GoldParse(doc, **gold)\n",
      "C:\\Users\\Ravi kumar\\AppData\\Roaming\\Python\\Python39\\site-packages\\spacy\\language.py:482: UserWarning: [W030] Some entities could not be aligned in the text \"Yathishwaran P Maximo Consultant - Infosys Limited...\" with entities \"[(19523, 19683, 'Skills'), (19377, 19479, 'Skills'...\". Use `spacy.gold.biluo_tags_from_offsets(nlp.make_doc(text), entities)` to check the alignment. Misaligned entities (with BILUO tag '-') will be ignored during training.\n",
      "  gold = GoldParse(doc, **gold)\n",
      "C:\\Users\\Ravi kumar\\AppData\\Roaming\\Python\\Python39\\site-packages\\spacy\\language.py:482: UserWarning: [W030] Some entities could not be aligned in the text \"Viny Khandelwal Self-employed in Family Business -...\" with entities \"[(3375, 3390, 'Name'), (2952, 3086, 'Skills'), (28...\". Use `spacy.gold.biluo_tags_from_offsets(nlp.make_doc(text), entities)` to check the alignment. Misaligned entities (with BILUO tag '-') will be ignored during training.\n",
      "  gold = GoldParse(doc, **gold)\n",
      "C:\\Users\\Ravi kumar\\AppData\\Roaming\\Python\\Python39\\site-packages\\spacy\\language.py:482: UserWarning: [W030] Some entities could not be aligned in the text \"amarjyot sodhi Voice and Accent Trainer :Masters i...\" with entities \"[(1130, 1174, 'Email Address'), (1112, 1116, 'Grad...\". Use `spacy.gold.biluo_tags_from_offsets(nlp.make_doc(text), entities)` to check the alignment. Misaligned entities (with BILUO tag '-') will be ignored during training.\n",
      "  gold = GoldParse(doc, **gold)\n",
      "C:\\Users\\Ravi kumar\\AppData\\Roaming\\Python\\Python39\\site-packages\\spacy\\language.py:482: UserWarning: [W030] Some entities could not be aligned in the text \"Gaikwad Dilip Microsoft Dainamic Software Billing ...\" with entities \"[(951, 990, 'Skills'), (926, 941, 'Companies worke...\". Use `spacy.gold.biluo_tags_from_offsets(nlp.make_doc(text), entities)` to check the alignment. Misaligned entities (with BILUO tag '-') will be ignored during training.\n",
      "  gold = GoldParse(doc, **gold)\n",
      "C:\\Users\\Ravi kumar\\AppData\\Roaming\\Python\\Python39\\site-packages\\spacy\\language.py:482: UserWarning: [W030] Some entities could not be aligned in the text \"Krishna Prasad Patna, Bihar - Email me on Indeed: ...\" with entities \"[(283, 327, 'Email Address'), (257, 262, 'Location...\". Use `spacy.gold.biluo_tags_from_offsets(nlp.make_doc(text), entities)` to check the alignment. Misaligned entities (with BILUO tag '-') will be ignored during training.\n",
      "  gold = GoldParse(doc, **gold)\n",
      "C:\\Users\\Ravi kumar\\AppData\\Roaming\\Python\\Python39\\site-packages\\spacy\\language.py:482: UserWarning: [W030] Some entities could not be aligned in the text \"Tapan kumar Nayak Bhubaneshwar, Orissa - Email me ...\" with entities \"[(168, 181, 'Location'), (152, 159, 'Companies wor...\". Use `spacy.gold.biluo_tags_from_offsets(nlp.make_doc(text), entities)` to check the alignment. Misaligned entities (with BILUO tag '-') will be ignored during training.\n",
      "  gold = GoldParse(doc, **gold)\n",
      "C:\\Users\\Ravi kumar\\AppData\\Roaming\\Python\\Python39\\site-packages\\spacy\\language.py:482: UserWarning: [W030] Some entities could not be aligned in the text \"shrikant desai Working as accountant @ infosys  Pu...\" with entities \"[(589, 737, 'Skills'), (421, 523, 'Skills'), (391,...\". Use `spacy.gold.biluo_tags_from_offsets(nlp.make_doc(text), entities)` to check the alignment. Misaligned entities (with BILUO tag '-') will be ignored during training.\n",
      "  gold = GoldParse(doc, **gold)\n",
      "C:\\Users\\Ravi kumar\\AppData\\Roaming\\Python\\Python39\\site-packages\\spacy\\language.py:482: UserWarning: [W030] Some entities could not be aligned in the text \"Sameer Kujur Orrisha - Email me on Indeed: indeed....\" with entities \"[(210, 251, 'Skills'), (189, 200, 'College Name'),...\". Use `spacy.gold.biluo_tags_from_offsets(nlp.make_doc(text), entities)` to check the alignment. Misaligned entities (with BILUO tag '-') will be ignored during training.\n",
      "  gold = GoldParse(doc, **gold)\n",
      "C:\\Users\\Ravi kumar\\AppData\\Roaming\\Python\\Python39\\site-packages\\spacy\\language.py:482: UserWarning: [W030] Some entities could not be aligned in the text \"Sameer Kujur Orrisha - Email me on Indeed: indeed....\" with entities \"[(265, 307, 'Email Address'), (210, 251, 'Skills')...\". Use `spacy.gold.biluo_tags_from_offsets(nlp.make_doc(text), entities)` to check the alignment. Misaligned entities (with BILUO tag '-') will be ignored during training.\n",
      "  gold = GoldParse(doc, **gold)\n",
      "C:\\Users\\Ravi kumar\\AppData\\Roaming\\Python\\Python39\\site-packages\\spacy\\language.py:482: UserWarning: [W030] Some entities could not be aligned in the text \"Sohan Dhakad Shivpuri, Madhya Pradesh - Email me o...\" with entities \"[(870, 894, 'Skills'), (793, 810, 'College Name'),...\". Use `spacy.gold.biluo_tags_from_offsets(nlp.make_doc(text), entities)` to check the alignment. Misaligned entities (with BILUO tag '-') will be ignored during training.\n",
      "  gold = GoldParse(doc, **gold)\n",
      "C:\\Users\\Ravi kumar\\AppData\\Roaming\\Python\\Python39\\site-packages\\spacy\\language.py:482: UserWarning: [W030] Some entities could not be aligned in the text \"Karthik G V Program Manager, Product Manager, Prod...\" with entities \"[(1750, 1759, 'Companies worked at'), (1467, 1476,...\". Use `spacy.gold.biluo_tags_from_offsets(nlp.make_doc(text), entities)` to check the alignment. Misaligned entities (with BILUO tag '-') will be ignored during training.\n",
      "  gold = GoldParse(doc, **gold)\n",
      "C:\\Users\\Ravi kumar\\AppData\\Roaming\\Python\\Python39\\site-packages\\spacy\\language.py:482: UserWarning: [W030] Some entities could not be aligned in the text \"Ganesh AlalaSundaram A Dev-Test Professional with ...\" with entities \"[(3321, 3376, 'Skills'), (3296, 3311, 'College Nam...\". Use `spacy.gold.biluo_tags_from_offsets(nlp.make_doc(text), entities)` to check the alignment. Misaligned entities (with BILUO tag '-') will be ignored during training.\n",
      "  gold = GoldParse(doc, **gold)\n",
      "C:\\Users\\Ravi kumar\\AppData\\Roaming\\Python\\Python39\\site-packages\\spacy\\language.py:482: UserWarning: [W030] Some entities could not be aligned in the text \"Partho Sarathi Mitra Kolkata, West Bengal - Email ...\" with entities \"[(230, 262, 'College Name'), (223, 229, 'Degree'),...\". Use `spacy.gold.biluo_tags_from_offsets(nlp.make_doc(text), entities)` to check the alignment. Misaligned entities (with BILUO tag '-') will be ignored during training.\n",
      "  gold = GoldParse(doc, **gold)\n"
     ]
    },
    {
     "name": "stderr",
     "output_type": "stream",
     "text": [
      "C:\\Users\\Ravi kumar\\AppData\\Roaming\\Python\\Python39\\site-packages\\spacy\\language.py:482: UserWarning: [W030] Some entities could not be aligned in the text \"Shraddha Achar Mathura, Uttar Pradesh - Email me o...\" with entities \"[(975, 1020, 'Skills'), (814, 843, 'College Name')...\". Use `spacy.gold.biluo_tags_from_offsets(nlp.make_doc(text), entities)` to check the alignment. Misaligned entities (with BILUO tag '-') will be ignored during training.\n",
      "  gold = GoldParse(doc, **gold)\n",
      "C:\\Users\\Ravi kumar\\AppData\\Roaming\\Python\\Python39\\site-packages\\spacy\\language.py:482: UserWarning: [W030] Some entities could not be aligned in the text \"Soumya Balan IT SUPPORT  Sulthan Bathery, Kerala, ...\" with entities \"[(3913, 4370, 'Skills'), (3880, 3884, 'Graduation ...\". Use `spacy.gold.biluo_tags_from_offsets(nlp.make_doc(text), entities)` to check the alignment. Misaligned entities (with BILUO tag '-') will be ignored during training.\n",
      "  gold = GoldParse(doc, **gold)\n",
      "C:\\Users\\Ravi kumar\\AppData\\Roaming\\Python\\Python39\\site-packages\\spacy\\language.py:482: UserWarning: [W030] Some entities could not be aligned in the text \"Puneeth R Escalation Specialist - HiPower Support ...\" with entities \"[(2182, 2210, 'College Name'), (2177, 2180, 'Degre...\". Use `spacy.gold.biluo_tags_from_offsets(nlp.make_doc(text), entities)` to check the alignment. Misaligned entities (with BILUO tag '-') will be ignored during training.\n",
      "  gold = GoldParse(doc, **gold)\n",
      "C:\\Users\\Ravi kumar\\AppData\\Roaming\\Python\\Python39\\site-packages\\spacy\\language.py:482: UserWarning: [W030] Some entities could not be aligned in the text \"Dushyant Bhatt BI / Big Data/ Azure  Hyderabad-Dec...\" with entities \"[(5893, 6043, 'Skills'), (5838, 5859, 'College Nam...\". Use `spacy.gold.biluo_tags_from_offsets(nlp.make_doc(text), entities)` to check the alignment. Misaligned entities (with BILUO tag '-') will be ignored during training.\n",
      "  gold = GoldParse(doc, **gold)\n",
      "C:\\Users\\Ravi kumar\\AppData\\Roaming\\Python\\Python39\\site-packages\\spacy\\language.py:482: UserWarning: [W030] Some entities could not be aligned in the text \"Pawan Nag Microsoft Certified System Engineer  Del...\" with entities \"[(523, 562, 'Email Address'), (500, 509, 'Name'), ...\". Use `spacy.gold.biluo_tags_from_offsets(nlp.make_doc(text), entities)` to check the alignment. Misaligned entities (with BILUO tag '-') will be ignored during training.\n",
      "  gold = GoldParse(doc, **gold)\n",
      "C:\\Users\\Ravi kumar\\AppData\\Roaming\\Python\\Python39\\site-packages\\spacy\\language.py:482: UserWarning: [W030] Some entities could not be aligned in the text \"Gaurav Soni New Delhi, Delhi - Email me on Indeed:...\" with entities \"[(1089, 1239, 'Skills'), (921, 1063, 'Skills'), (9...\". Use `spacy.gold.biluo_tags_from_offsets(nlp.make_doc(text), entities)` to check the alignment. Misaligned entities (with BILUO tag '-') will be ignored during training.\n",
      "  gold = GoldParse(doc, **gold)\n",
      "C:\\Users\\Ravi kumar\\AppData\\Roaming\\Python\\Python39\\site-packages\\spacy\\language.py:482: UserWarning: [W030] Some entities could not be aligned in the text \"Puran Mal Jaipur, Rajasthan - Email me on Indeed: ...\" with entities \"[(193, 511, 'Skills'), (174, 183, 'Degree'), (126,...\". Use `spacy.gold.biluo_tags_from_offsets(nlp.make_doc(text), entities)` to check the alignment. Misaligned entities (with BILUO tag '-') will be ignored during training.\n",
      "  gold = GoldParse(doc, **gold)\n",
      "C:\\Users\\Ravi kumar\\AppData\\Roaming\\Python\\Python39\\site-packages\\spacy\\language.py:482: UserWarning: [W030] Some entities could not be aligned in the text \"Kandrapu Reddy Senior Travel Operations (Domestic,...\" with entities \"[(4232, 4330, 'Skills'), (4058, 4101, 'Degree'), (...\". Use `spacy.gold.biluo_tags_from_offsets(nlp.make_doc(text), entities)` to check the alignment. Misaligned entities (with BILUO tag '-') will be ignored during training.\n",
      "  gold = GoldParse(doc, **gold)\n",
      "C:\\Users\\Ravi kumar\\AppData\\Roaming\\Python\\Python39\\site-packages\\spacy\\language.py:482: UserWarning: [W030] Some entities could not be aligned in the text \"kimaya sonawane Thane, Maharashtra - Email me on I...\" with entities \"[(802, 806, 'Graduation Year'), (524, 661, 'Skills...\". Use `spacy.gold.biluo_tags_from_offsets(nlp.make_doc(text), entities)` to check the alignment. Misaligned entities (with BILUO tag '-') will be ignored during training.\n",
      "  gold = GoldParse(doc, **gold)\n",
      "C:\\Users\\Ravi kumar\\AppData\\Roaming\\Python\\Python39\\site-packages\\spacy\\language.py:482: UserWarning: [W030] Some entities could not be aligned in the text \"Zaheer Uddin Technical Project Manager  Hyderabad,...\" with entities \"[(4901, 4910, 'Location'), (4843, 4861, 'College N...\". Use `spacy.gold.biluo_tags_from_offsets(nlp.make_doc(text), entities)` to check the alignment. Misaligned entities (with BILUO tag '-') will be ignored during training.\n",
      "  gold = GoldParse(doc, **gold)\n",
      "C:\\Users\\Ravi kumar\\AppData\\Roaming\\Python\\Python39\\site-packages\\spacy\\language.py:482: UserWarning: [W030] Some entities could not be aligned in the text \"Hartej Kathuria Data Analyst Intern - Oracle Retai...\" with entities \"[(2246, 2573, 'Skills'), (1435, 1480, 'Email Addre...\". Use `spacy.gold.biluo_tags_from_offsets(nlp.make_doc(text), entities)` to check the alignment. Misaligned entities (with BILUO tag '-') will be ignored during training.\n",
      "  gold = GoldParse(doc, **gold)\n",
      "C:\\Users\\Ravi kumar\\AppData\\Roaming\\Python\\Python39\\site-packages\\spacy\\language.py:482: UserWarning: [W030] Some entities could not be aligned in the text \"Shivam Sharma L1 Analyst in Microsoft project - HC...\" with entities \"[(1380, 1525, 'Skills'), (1287, 1296, 'Location'),...\". Use `spacy.gold.biluo_tags_from_offsets(nlp.make_doc(text), entities)` to check the alignment. Misaligned entities (with BILUO tag '-') will be ignored during training.\n",
      "  gold = GoldParse(doc, **gold)\n",
      "C:\\Users\\Ravi kumar\\AppData\\Roaming\\Python\\Python39\\site-packages\\spacy\\language.py:482: UserWarning: [W030] Some entities could not be aligned in the text \"Yogesh Ghatole Engineer / Electrical Supervisor, S...\" with entities \"[(2912, 3288, 'Skills'), (2721, 2726, 'UNKNOWN'), ...\". Use `spacy.gold.biluo_tags_from_offsets(nlp.make_doc(text), entities)` to check the alignment. Misaligned entities (with BILUO tag '-') will be ignored during training.\n",
      "  gold = GoldParse(doc, **gold)\n",
      "C:\\Users\\Ravi kumar\\AppData\\Roaming\\Python\\Python39\\site-packages\\spacy\\language.py:482: UserWarning: [W030] Some entities could not be aligned in the text \"Mohamed Ameen System engineer  Bengaluru, Karnatak...\" with entities \"[(1632, 1636, 'Graduation Year'), (931, 1013, 'Ski...\". Use `spacy.gold.biluo_tags_from_offsets(nlp.make_doc(text), entities)` to check the alignment. Misaligned entities (with BILUO tag '-') will be ignored during training.\n",
      "  gold = GoldParse(doc, **gold)\n",
      "C:\\Users\\Ravi kumar\\AppData\\Roaming\\Python\\Python39\\site-packages\\spacy\\language.py:482: UserWarning: [W030] Some entities could not be aligned in the text \"Nidhi Pandit Test Engineer - Infosys Limited  - Em...\" with entities \"[(3132, 3611, 'Skills'), (3005, 3083, 'Skills'), (...\". Use `spacy.gold.biluo_tags_from_offsets(nlp.make_doc(text), entities)` to check the alignment. Misaligned entities (with BILUO tag '-') will be ignored during training.\n",
      "  gold = GoldParse(doc, **gold)\n",
      "C:\\Users\\Ravi kumar\\AppData\\Roaming\\Python\\Python39\\site-packages\\spacy\\language.py:482: UserWarning: [W030] Some entities could not be aligned in the text \"Koushik Katta Devops  Hyderabad, Telangana - Email...\" with entities \"[(2957, 3074, 'Skills'), (2943, 2948, 'Graduation ...\". Use `spacy.gold.biluo_tags_from_offsets(nlp.make_doc(text), entities)` to check the alignment. Misaligned entities (with BILUO tag '-') will be ignored during training.\n",
      "  gold = GoldParse(doc, **gold)\n",
      "C:\\Users\\Ravi kumar\\AppData\\Roaming\\Python\\Python39\\site-packages\\spacy\\language.py:482: UserWarning: [W030] Some entities could not be aligned in the text \"Siddhartha Chetri 7 years of experience in IT Netw...\" with entities \"[(5471, 5838, 'Skills'), (5457, 5461, 'Graduation ...\". Use `spacy.gold.biluo_tags_from_offsets(nlp.make_doc(text), entities)` to check the alignment. Misaligned entities (with BILUO tag '-') will be ignored during training.\n",
      "  gold = GoldParse(doc, **gold)\n",
      "C:\\Users\\Ravi kumar\\AppData\\Roaming\\Python\\Python39\\site-packages\\spacy\\language.py:482: UserWarning: [W030] Some entities could not be aligned in the text \"Jitendra Babu FI/CO Consultant in Tech Mahindra - ...\" with entities \"[(5510, 5514, 'Graduation Year'), (5481, 5508, 'Co...\". Use `spacy.gold.biluo_tags_from_offsets(nlp.make_doc(text), entities)` to check the alignment. Misaligned entities (with BILUO tag '-') will be ignored during training.\n",
      "  gold = GoldParse(doc, **gold)\n"
     ]
    },
    {
     "name": "stderr",
     "output_type": "stream",
     "text": [
      "C:\\Users\\Ravi kumar\\AppData\\Roaming\\Python\\Python39\\site-packages\\spacy\\language.py:482: UserWarning: [W030] Some entities could not be aligned in the text \"Sai Vivek Venkatraman Decisive, Data driven and re...\" with entities \"[(5105, 5109, 'Graduation Year'), (5043, 5095, 'Co...\". Use `spacy.gold.biluo_tags_from_offsets(nlp.make_doc(text), entities)` to check the alignment. Misaligned entities (with BILUO tag '-') will be ignored during training.\n",
      "  gold = GoldParse(doc, **gold)\n",
      "C:\\Users\\Ravi kumar\\AppData\\Roaming\\Python\\Python39\\site-packages\\spacy\\language.py:482: UserWarning: [W030] Some entities could not be aligned in the text \"Puneet Singh Associate Software Engineer  Bengalur...\" with entities \"[(989, 1007, 'Skills'), (952, 968, 'Skills'), (919...\". Use `spacy.gold.biluo_tags_from_offsets(nlp.make_doc(text), entities)` to check the alignment. Misaligned entities (with BILUO tag '-') will be ignored during training.\n",
      "  gold = GoldParse(doc, **gold)\n",
      "C:\\Users\\Ravi kumar\\AppData\\Roaming\\Python\\Python39\\site-packages\\spacy\\language.py:482: UserWarning: [W030] Some entities could not be aligned in the text \"Arpit Godha Senior Process Executive  Jaipur, Raja...\" with entities \"[(3144, 3495, 'Skills'), (3081, 3104, 'College Nam...\". Use `spacy.gold.biluo_tags_from_offsets(nlp.make_doc(text), entities)` to check the alignment. Misaligned entities (with BILUO tag '-') will be ignored during training.\n",
      "  gold = GoldParse(doc, **gold)\n",
      "C:\\Users\\Ravi kumar\\AppData\\Roaming\\Python\\Python39\\site-packages\\spacy\\language.py:482: UserWarning: [W030] Some entities could not be aligned in the text \"Asha Subbaiah (Microsoft Partner Readiness Operati...\" with entities \"[(3345, 3380, 'College Name'), (3321, 3344, 'Degre...\". Use `spacy.gold.biluo_tags_from_offsets(nlp.make_doc(text), entities)` to check the alignment. Misaligned entities (with BILUO tag '-') will be ignored during training.\n",
      "  gold = GoldParse(doc, **gold)\n",
      "C:\\Users\\Ravi kumar\\AppData\\Roaming\\Python\\Python39\\site-packages\\spacy\\language.py:482: UserWarning: [W030] Some entities could not be aligned in the text \"Vijayalakshmi Govindarajan SAP as a Consultant - S...\" with entities \"[(6310, 6336, 'Name'), (5746, 5755, 'Companies wor...\". Use `spacy.gold.biluo_tags_from_offsets(nlp.make_doc(text), entities)` to check the alignment. Misaligned entities (with BILUO tag '-') will be ignored during training.\n",
      "  gold = GoldParse(doc, **gold)\n",
      "C:\\Users\\Ravi kumar\\AppData\\Roaming\\Python\\Python39\\site-packages\\spacy\\language.py:482: UserWarning: [W030] Some entities could not be aligned in the text \"Anand S Bangalore, Karnataka - Email me on Indeed:...\" with entities \"[(211, 441, 'Skills'), (182, 193, 'College Name'),...\". Use `spacy.gold.biluo_tags_from_offsets(nlp.make_doc(text), entities)` to check the alignment. Misaligned entities (with BILUO tag '-') will be ignored during training.\n",
      "  gold = GoldParse(doc, **gold)\n",
      "C:\\Users\\Ravi kumar\\AppData\\Roaming\\Python\\Python39\\site-packages\\spacy\\language.py:482: UserWarning: [W030] Some entities could not be aligned in the text \"Sarfaraz Ahmad Associate network engineer - TATA C...\" with entities \"[(4690, 5815, 'Skills'), (4558, 4577, 'College Nam...\". Use `spacy.gold.biluo_tags_from_offsets(nlp.make_doc(text), entities)` to check the alignment. Misaligned entities (with BILUO tag '-') will be ignored during training.\n",
      "  gold = GoldParse(doc, **gold)\n",
      "C:\\Users\\Ravi kumar\\AppData\\Roaming\\Python\\Python39\\site-packages\\spacy\\language.py:482: UserWarning: [W030] Some entities could not be aligned in the text \"Rahul Bollu Software Engineer - Disney  Hyderabad,...\" with entities \"[(4093, 4190, 'Skills'), (3940, 4089, 'Skills'), (...\". Use `spacy.gold.biluo_tags_from_offsets(nlp.make_doc(text), entities)` to check the alignment. Misaligned entities (with BILUO tag '-') will be ignored during training.\n",
      "  gold = GoldParse(doc, **gold)\n",
      "C:\\Users\\Ravi kumar\\AppData\\Roaming\\Python\\Python39\\site-packages\\spacy\\language.py:482: UserWarning: [W030] Some entities could not be aligned in the text \"Ijas Nizamuddin Associate Consultant - State Stree...\" with entities \"[(4652, 4850, 'Skills'), (4607, 4612, 'Graduation ...\". Use `spacy.gold.biluo_tags_from_offsets(nlp.make_doc(text), entities)` to check the alignment. Misaligned entities (with BILUO tag '-') will be ignored during training.\n",
      "  gold = GoldParse(doc, **gold)\n",
      "C:\\Users\\Ravi kumar\\AppData\\Roaming\\Python\\Python39\\site-packages\\spacy\\language.py:482: UserWarning: [W030] Some entities could not be aligned in the text \"Jaspreet Kaur Oceanic Consultants as a HR Executiv...\" with entities \"[(5670, 5781, 'Skills'), (462, 481, 'Designation')...\". Use `spacy.gold.biluo_tags_from_offsets(nlp.make_doc(text), entities)` to check the alignment. Misaligned entities (with BILUO tag '-') will be ignored during training.\n",
      "  gold = GoldParse(doc, **gold)\n"
     ]
    },
    {
     "name": "stdout",
     "output_type": "stream",
     "text": [
      "{'ner': 13861.460348474411}\n",
      "starting iteration: 1\n",
      "{'ner': 11330.502714037284}\n",
      "starting iteration: 2\n",
      "{'ner': 8007.790471395832}\n",
      "starting iteration: 3\n",
      "{'ner': 6736.12221712871}\n",
      "starting iteration: 4\n",
      "{'ner': 6114.9318628080855}\n",
      "starting iteration: 5\n",
      "{'ner': 5255.057870372597}\n",
      "starting iteration: 6\n",
      "{'ner': 6244.724191043187}\n",
      "starting iteration: 7\n",
      "{'ner': 4780.24919755004}\n",
      "starting iteration: 8\n",
      "{'ner': 4696.894534563914}\n",
      "starting iteration: 9\n",
      "{'ner': 4692.833066708723}\n",
      "starting iteration: 10\n",
      "{'ner': 4253.12616623784}\n",
      "starting iteration: 11\n",
      "{'ner': 4190.2835630332675}\n",
      "starting iteration: 12\n",
      "{'ner': 4481.404220885857}\n",
      "starting iteration: 13\n",
      "{'ner': 4242.903650870667}\n",
      "starting iteration: 14\n",
      "{'ner': 3304.936673809313}\n",
      "starting iteration: 15\n",
      "{'ner': 3368.7648822801307}\n",
      "starting iteration: 16\n",
      "{'ner': 3679.565749784107}\n",
      "starting iteration: 17\n",
      "{'ner': 3370.1390585690574}\n",
      "starting iteration: 18\n",
      "{'ner': 3828.0688127706917}\n",
      "starting iteration: 19\n",
      "{'ner': 3294.559037205477}\n",
      "starting iteration: 20\n",
      "{'ner': 3015.9414306981457}\n",
      "starting iteration: 21\n",
      "{'ner': 3540.8372549991755}\n",
      "starting iteration: 22\n",
      "{'ner': 2749.8981665772285}\n",
      "starting iteration: 23\n",
      "{'ner': 2751.3092706917746}\n",
      "starting iteration: 24\n",
      "{'ner': 2941.8613778270565}\n",
      "starting iteration: 25\n",
      "{'ner': 2810.351617226741}\n",
      "starting iteration: 26\n",
      "{'ner': 2747.2477299818793}\n",
      "starting iteration: 27\n",
      "{'ner': 2187.886680014302}\n",
      "starting iteration: 28\n",
      "{'ner': 2471.5495638925577}\n",
      "starting iteration: 29\n",
      "{'ner': 2570.2127402200167}\n"
     ]
    }
   ],
   "source": [
    "nlp = train_model(data)"
   ]
  },
  {
   "cell_type": "markdown",
   "id": "9d4e816f",
   "metadata": {},
   "source": [
    "### Saving trained model to current working directory we can also save to deired path"
   ]
  },
  {
   "cell_type": "code",
   "execution_count": 12,
   "id": "4ebbb273",
   "metadata": {},
   "outputs": [],
   "source": [
    "model_saving('nlp_model',nlp)"
   ]
  },
  {
   "cell_type": "markdown",
   "id": "8bdf128b",
   "metadata": {},
   "source": [
    "### Now loading model for prediction on test data"
   ]
  },
  {
   "cell_type": "code",
   "execution_count": 13,
   "id": "16e9fc8e",
   "metadata": {},
   "outputs": [],
   "source": [
    "nlp_model = load_model('nlp_model')"
   ]
  },
  {
   "cell_type": "markdown",
   "id": "12ab4580",
   "metadata": {},
   "source": [
    "### Reading a pdf resume and converting into text for prediction"
   ]
  },
  {
   "cell_type": "code",
   "execution_count": 16,
   "id": "c418606a",
   "metadata": {},
   "outputs": [],
   "source": [
    "\n",
    "fname = r\"C:\\Users\\Ravi kumar\\Downloads\\Resume-and-CV-Summarization-and-Parsing-with-Spacy-in-Python-master\\Resume-and-CV-Summarization-and-Parsing-with-Spacy-in-Python-master\\Alice Clark CV.pdf\"\n",
    "doc = fitz.open(fname)\n",
    "text = \"\"\n",
    "for page in doc:\n",
    "    text = text+str(page.get_text())\n",
    "\n",
    "tx = \" \".join(text.split(\"\\n\"))"
   ]
  },
  {
   "cell_type": "markdown",
   "id": "facea7f6",
   "metadata": {},
   "source": [
    "## Model prediction & converying output in json to use for UI team"
   ]
  },
  {
   "cell_type": "code",
   "execution_count": 15,
   "id": "bfd11beb",
   "metadata": {},
   "outputs": [
    {
     "name": "stdout",
     "output_type": "stream",
     "text": [
      "NAME                          -Alice Clark\n",
      "LOCATION                      -Delhi\n",
      "COMPANIES WORKED AT           -Microsoft\n",
      "DESIGNATION                   -Software Engineer\n",
      "COMPANIES WORKED AT           -Microsoft\n",
      "COMPANIES WORKED AT           -Microsoft\n",
      "COMPANIES WORKED AT           -Microsoft\n",
      "COMPANIES WORKED AT           -Microsoft\n",
      "COMPANIES WORKED AT           -Microsoft\n",
      "COMPANIES WORKED AT           -Microsoft\n",
      "COMPANIES WORKED AT           -Microsoft\n",
      "COLLEGE NAME                  -Indian Institute of Technology – Mumbai\n"
     ]
    },
    {
     "data": {
      "text/plain": [
       "{0: {'NAME': 'Alice Clark',\n",
       "  'LOCATION': 'Delhi',\n",
       "  'COMPANIES WORKED AT': 'Microsoft',\n",
       "  'DESIGNATION': 'Software Engineer',\n",
       "  'COLLEGE NAME': 'Indian Institute of Technology – Mumbai'}}"
      ]
     },
     "execution_count": 15,
     "metadata": {},
     "output_type": "execute_result"
    }
   ],
   "source": [
    "prediction(nlp_model,tx)"
   ]
  },
  {
   "cell_type": "markdown",
   "id": "b3424693",
   "metadata": {},
   "source": [
    "### This is way to extract ,mail from text if model will not able to extract "
   ]
  },
  {
   "cell_type": "code",
   "execution_count": 17,
   "id": "1df515fb",
   "metadata": {},
   "outputs": [],
   "source": [
    "import re\n",
    "\n",
    "regex = re.compile(r'([A-Za-z0-9]+[.-_])*[A-Za-z0-9]+@[A-Za-z0-9-]+(\\.[A-Z|a-z]{2,})+')\n",
    "\n",
    "def isValid(email):\n",
    "    if re.fullmatch(regex, email):\n",
    "        print(\"Valid email\",re.fullmatch(regex, email).group())\n",
    "    else:\n",
    "        print(\"Invalid email\")"
   ]
  },
  {
   "cell_type": "code",
   "execution_count": 25,
   "id": "482ed33c",
   "metadata": {},
   "outputs": [
    {
     "name": "stdout",
     "output_type": "stream",
     "text": [
      "Valid email ravi@scaledge.com\n"
     ]
    }
   ],
   "source": [
    "isValid('ravi@scaledge.com')"
   ]
  },
  {
   "cell_type": "code",
   "execution_count": 26,
   "id": "af5bbae3",
   "metadata": {},
   "outputs": [
    {
     "name": "stdout",
     "output_type": "stream",
     "text": [
      "Valid email ravi@gmail.com\n"
     ]
    }
   ],
   "source": [
    "isValid('ravi@gmail.com')"
   ]
  },
  {
   "cell_type": "code",
   "execution_count": 27,
   "id": "dcf4aaa4",
   "metadata": {},
   "outputs": [
    {
     "name": "stdout",
     "output_type": "stream",
     "text": [
      "Valid email ravi@gmail.co\n"
     ]
    }
   ],
   "source": [
    "isValid('ravi@gmail.co')"
   ]
  },
  {
   "cell_type": "code",
   "execution_count": 28,
   "id": "c8767b1f",
   "metadata": {},
   "outputs": [
    {
     "name": "stdout",
     "output_type": "stream",
     "text": [
      "Invalid email\n"
     ]
    }
   ],
   "source": [
    "isValid('ravigmail.co')"
   ]
  },
  {
   "cell_type": "code",
   "execution_count": 29,
   "id": "ddd7fdc6",
   "metadata": {},
   "outputs": [
    {
     "name": "stdout",
     "output_type": "stream",
     "text": [
      "Valid email ravi@gmail.co.in\n"
     ]
    }
   ],
   "source": [
    "isValid('ravi@gmail.co.in')"
   ]
  }
 ],
 "metadata": {
  "kernelspec": {
   "display_name": "Python 3 (ipykernel)",
   "language": "python",
   "name": "python3"
  },
  "language_info": {
   "codemirror_mode": {
    "name": "ipython",
    "version": 3
   },
   "file_extension": ".py",
   "mimetype": "text/x-python",
   "name": "python",
   "nbconvert_exporter": "python",
   "pygments_lexer": "ipython3",
   "version": "3.9.7"
  }
 },
 "nbformat": 4,
 "nbformat_minor": 5
}
