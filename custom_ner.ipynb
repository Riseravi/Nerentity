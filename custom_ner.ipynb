{
 "cells": [
  {
   "cell_type": "markdown",
   "metadata": {},
   "source": [
    "# 1. Research Problem:\n",
    "To Build a Knowledge Representation Learning for cyber security down streaming task such as missing node prediction using NLP"
   ]
  },
  {
   "cell_type": "markdown",
   "metadata": {},
   "source": [
    "# 2. Research Methodology:\n",
    "\n",
    "- Literature Survey\n",
    "- Data Collection\n",
    "- Data Preprocessing\n",
    "- Data Featurization\n",
    "- NER Model Building\n",
    "- NER Model validation\n",
    "- KG creation\n",
    "- KRL embedding creation using SOTA model\n",
    "- KRL model validation for Node prediction\n"
   ]
  },
  {
   "cell_type": "markdown",
   "metadata": {},
   "source": [
    "## 2.1 Lierature Survey\n",
    "\n",
    "I have undergone 15 papers to understand KG , Cyber KG and KRL\n",
    "KG - 8\n",
    "Security KG - 7\n"
   ]
  },
  {
   "cell_type": "markdown",
   "metadata": {},
   "source": [
    "## 2.1 Data Collection"
   ]
  },
  {
   "cell_type": "markdown",
   "metadata": {},
   "source": [
    "We have used 2 sources for collecting cyber security blogs such as \n",
    "\n",
    "1.Alienvault otx pulse: (Dataset - 3286 , Major Columns : Adversaries , Malwares , Description about the blog,  File and IP indicators and so on)\n",
    "\n",
    "2.Threatpost blog:(Dataset - 105 blogs in html content)"
   ]
  },
  {
   "cell_type": "code",
   "execution_count": 1,
   "metadata": {},
   "outputs": [
    {
     "name": "stderr",
     "output_type": "stream",
     "text": [
      "[nltk_data] Downloading package punkt to C:\\Users\\Ravi\n",
      "[nltk_data]     kumar\\AppData\\Roaming\\nltk_data...\n",
      "[nltk_data]   Package punkt is already up-to-date!\n",
      "[nltk_data] Downloading package averaged_perceptron_tagger to\n",
      "[nltk_data]     C:\\Users\\Ravi kumar\\AppData\\Roaming\\nltk_data...\n",
      "[nltk_data]   Package averaged_perceptron_tagger is already up-to-\n",
      "[nltk_data]       date!\n",
      "[nltk_data] Downloading package stopwords to C:\\Users\\Ravi\n",
      "[nltk_data]     kumar\\AppData\\Roaming\\nltk_data...\n",
      "[nltk_data]   Package stopwords is already up-to-date!\n"
     ]
    }
   ],
   "source": [
    "from datetime import datetime, timedelta\n",
    "import pandas\n",
    "import bs4\n",
    "import json\n",
    "import string\n",
    "import re\n",
    "from matplotlib import pyplot as plt\n",
    "import seaborn as sns\n",
    "import numpy as np\n",
    "from sklearn import metrics\n",
    "from sklearn.datasets import make_blobs\n",
    "from sklearn.preprocessing import StandardScaler,normalize\n",
    "import gc\n",
    "import warnings\n",
    "import itertools\n",
    "import nltk\n",
    "import scipy.stats\n",
    "from sklearn_crfsuite import CRF\n",
    "import argparse\n",
    "from sklearn.model_selection import train_test_split\n",
    "from sklearn_crfsuite import metrics\n",
    "import numpy\n",
    "from nltk.corpus import stopwords\n",
    "from sklearn.metrics import confusion_matrix\n",
    "from sklearn.model_selection import RandomizedSearchCV\n",
    "from sklearn.metrics import make_scorer\n",
    "#from gensim.models import KeyedVectors\n",
    "from collections import Counter\n",
    "from collections import OrderedDict\n",
    "\n",
    "nltk.download('punkt')\n",
    "nltk.download('averaged_perceptron_tagger')\n",
    "nltk.download('stopwords')\n",
    "stop_words = set(stopwords.words('english'))\n",
    "warnings.filterwarnings(\"ignore\")"
   ]
  },
  {
   "cell_type": "code",
   "execution_count": 2,
   "metadata": {},
   "outputs": [],
   "source": [
    "# otx=pandas.read_excel(\"./otx/otxfile2021-05-15.xlsx\")\n",
    "# otx.head()"
   ]
  },
  {
   "cell_type": "code",
   "execution_count": 3,
   "metadata": {},
   "outputs": [],
   "source": [
    "# threatpost=pandas.read_excel(\"./threatpost/threatpostfile2021-05-15.xlsx\")\n",
    "# threatpost.rename(columns = {'blog':'description','date':'created'}, inplace = True)\n",
    "# threatpost.head()"
   ]
  },
  {
   "cell_type": "code",
   "execution_count": 31,
   "metadata": {},
   "outputs": [
    {
     "data": {
      "text/plain": [
       "'C:\\\\Users\\\\Ravi kumar\\\\Downloads\\\\data-20220512T190600Z-001\\\\resumes_samples'"
      ]
     },
     "execution_count": 31,
     "metadata": {},
     "output_type": "execute_result"
    }
   ],
   "source": [
    "import os\n",
    "os.getcwd()"
   ]
  },
  {
   "cell_type": "code",
   "execution_count": 5,
   "metadata": {},
   "outputs": [
    {
     "data": {
      "text/plain": [
       "'C:\\\\Users\\\\Ravi kumar\\\\Downloads\\\\data-20220512T190600Z-001\\\\resumes_samples'"
      ]
     },
     "execution_count": 5,
     "metadata": {},
     "output_type": "execute_result"
    }
   ],
   "source": [
    "os.chdir(r\"C:\\Users\\Ravi kumar\\Downloads\\data-20220512T190600Z-001\\resumes_samples\")\n",
    "os.getcwd()"
   ]
  },
  {
   "cell_type": "code",
   "execution_count": 35,
   "metadata": {},
   "outputs": [],
   "source": [
    "import sys,fitz\n",
    "import pandas as pd\n",
    "temp = pd.DataFrame()"
   ]
  },
  {
   "cell_type": "code",
   "execution_count": 36,
   "metadata": {},
   "outputs": [
    {
     "data": {
      "text/plain": [
       "133"
      ]
     },
     "execution_count": 36,
     "metadata": {},
     "output_type": "execute_result"
    }
   ],
   "source": [
    "len(os.listdir(r'C:\\Users\\Ravi kumar\\Downloads\\Resume_samples'))"
   ]
  },
  {
   "cell_type": "code",
   "execution_count": 37,
   "metadata": {},
   "outputs": [
    {
     "name": "stderr",
     "output_type": "stream",
     "text": [
      "Deprecation: 'getText' removed from class 'Page' after v1.19 - use 'get_text'.\n"
     ]
    },
    {
     "data": {
      "text/html": [
       "<div>\n",
       "<style scoped>\n",
       "    .dataframe tbody tr th:only-of-type {\n",
       "        vertical-align: middle;\n",
       "    }\n",
       "\n",
       "    .dataframe tbody tr th {\n",
       "        vertical-align: top;\n",
       "    }\n",
       "\n",
       "    .dataframe thead th {\n",
       "        text-align: right;\n",
       "    }\n",
       "</style>\n",
       "<table border=\"1\" class=\"dataframe\">\n",
       "  <thead>\n",
       "    <tr style=\"text-align: right;\">\n",
       "      <th></th>\n",
       "      <th>data</th>\n",
       "    </tr>\n",
       "  </thead>\n",
       "  <tbody>\n",
       "    <tr>\n",
       "      <th>0</th>\n",
       "      <td>HR PERSONNEL ASSISTANT Summary I am a U.S. cit...</td>\n",
       "    </tr>\n",
       "    <tr>\n",
       "      <th>1</th>\n",
       "      <td>HR BENEFITS/LEAVE COORDINATOR Summary 13 years...</td>\n",
       "    </tr>\n",
       "    <tr>\n",
       "      <th>2</th>\n",
       "      <td>HR MANAGER Summary Human Resources Manager wit...</td>\n",
       "    </tr>\n",
       "    <tr>\n",
       "      <th>3</th>\n",
       "      <td>HR GENERALIST Summary Dedicated and focused Ad...</td>\n",
       "    </tr>\n",
       "    <tr>\n",
       "      <th>4</th>\n",
       "      <td>HR EMPLOYEE RELATIONS SPECIALIST Summary Dedic...</td>\n",
       "    </tr>\n",
       "    <tr>\n",
       "      <th>...</th>\n",
       "      <td>...</td>\n",
       "    </tr>\n",
       "    <tr>\n",
       "      <th>128</th>\n",
       "      <td>Senior Web Developer specializing in front...</td>\n",
       "    </tr>\n",
       "    <tr>\n",
       "      <th>129</th>\n",
       "      <td>Elizabeth Holmes   +1 (970) 333-3833  elizab...</td>\n",
       "    </tr>\n",
       "    <tr>\n",
       "      <th>130</th>\n",
       "      <td>Sheetal Sahu Quality Analyst  +91 9404538689 ...</td>\n",
       "    </tr>\n",
       "    <tr>\n",
       "      <th>131</th>\n",
       "      <td>Sowmya V  Contact No.: +91-9845007997 | E-Mail...</td>\n",
       "    </tr>\n",
       "    <tr>\n",
       "      <th>132</th>\n",
       "      <td>1        YP    PROFESSIONAL SUMMARY    ▪  3 mo...</td>\n",
       "    </tr>\n",
       "  </tbody>\n",
       "</table>\n",
       "<p>133 rows × 1 columns</p>\n",
       "</div>"
      ],
      "text/plain": [
       "                                                  data\n",
       "0    HR PERSONNEL ASSISTANT Summary I am a U.S. cit...\n",
       "1    HR BENEFITS/LEAVE COORDINATOR Summary 13 years...\n",
       "2    HR MANAGER Summary Human Resources Manager wit...\n",
       "3    HR GENERALIST Summary Dedicated and focused Ad...\n",
       "4    HR EMPLOYEE RELATIONS SPECIALIST Summary Dedic...\n",
       "..                                                 ...\n",
       "128      Senior Web Developer specializing in front...\n",
       "129    Elizabeth Holmes   +1 (970) 333-3833  elizab...\n",
       "130  Sheetal Sahu Quality Analyst  +91 9404538689 ...\n",
       "131  Sowmya V  Contact No.: +91-9845007997 | E-Mail...\n",
       "132  1        YP    PROFESSIONAL SUMMARY    ▪  3 mo...\n",
       "\n",
       "[133 rows x 1 columns]"
      ]
     },
     "execution_count": 37,
     "metadata": {},
     "output_type": "execute_result"
    }
   ],
   "source": [
    "c=0\n",
    "for resume in os.listdir():\n",
    "    doc = fitz.open(resume)\n",
    "    text = \"\"\n",
    "    for page in doc:\n",
    "        text = text+str(page.getText())\n",
    "        text = \" \".join(text.split(\"\\n\"))\n",
    "    temp.loc[c,'data'] = text\n",
    "    c=c+1\n",
    "\n",
    "temp"
   ]
  },
  {
   "cell_type": "code",
   "execution_count": 39,
   "metadata": {},
   "outputs": [],
   "source": [
    "# temp.to_csv('ner_ravi.csv',index=False)"
   ]
  },
  {
   "cell_type": "code",
   "execution_count": 40,
   "metadata": {},
   "outputs": [],
   "source": [
    "# temp.to_csv('temp_ravi.csv',index=False)"
   ]
  },
  {
   "cell_type": "code",
   "execution_count": 41,
   "metadata": {},
   "outputs": [],
   "source": [
    "# \"EXPEREINEC\":['1 years',\"2 years\",\"3 years\",\"4 years\",\"5 years\",\"6 years\",\"7 years\",\"8 years\",\"9 years\",\n",
    "#               \"one year\",\"two years\",\"three years\",\"four years\",\"five years\",\"six years\",\"seven years\",\n",
    "#               \"eight years\",\"nine years\",\"2+\",\"3+\",\"4+\",\"5+\",\"6+\",\"7+\",\"8+\",\"9+\"]\n",
    "    \n",
    "# \"Name\":['Diya','Tejaswini','Kiran','Ravi','Dev','Rhuthu','Ashita','Alex','Alok','Vivek','Arush','Praveen','Aditya','Nishant',\n",
    "#        'Raju','Gaurav','Sonu','Prashant','Anupam','Sumit','Chandan','Deepak','Jyoti','Prakash',\"Rama\",\"Vinayak\",\"Rakesh\",\n",
    "#         \"Rohit\",\"Radhe\",\"Nakul\",\"Arjun\",\"Sahdev\",\"Vikram\",\"Kriti\",\"Yuvraj\",\"Anil\",\"Sheetal\",\"Sowmya\",\"Swadha\",\"Ritu\",\"Indu\",\n",
    "#         \"Uzma\",\"Charan\",\"Kaushal\",\"Haya Fathim\",\n",
    "#        ]\n",
    "    \n",
    "    \n",
    "# \"college\":[\"IIT\",\"NIT\",\"B.tech\",\"M.tech\",\"B.E\",\"Engineering\",\"M.E\",\"SRM\",\"RV\",\"BIT\",\"BITS\"]\n",
    "# \"Mail id\":[\"ravi@gmail.com\",'diya@gmail.com',\"kiran@gmail.com\",\"rhuthu93@gmail.com\",\"alok.raj999@gmail.com\"]"
   ]
  },
  {
   "cell_type": "code",
   "execution_count": 42,
   "metadata": {},
   "outputs": [],
   "source": [
    "# d = {\"skills\": [\"windows\", \"mac\", \"macos\", \"android\", \"linux\", \"unix\", \"apple\", \"xplat\",\"M.L.\",\"Machine learning\",\"Data science\",\n",
    "# \"deep learniing\",\"computer vision\",\"neural network\",\"python\",\"NLP\",\"D.L\",\"c++\",\"java\",\"angular\",\"R\",\"statistics\",\"tensorflow\",\"keras\",\n",
    "# \"pytorch\",\"java script\"], \n",
    "# \"EXPERIENCE\": ['1 years',\"2 years\",\"3 years\",\"4 years\",\"5 years\",\"6 years\",\"7 years\",\"8 years\",\"9 years\",\n",
    "#  \"one year\",\"two years\",\"three years\",\"four years\",\"five years\",\"six years\",\"seven years\",\"eight years\",\"nine years\",\"2+\",\"3+\",\n",
    "# \"4+\",\"5+\",\"6+\",\"7+\",\"8+\",\"9+\"], \n",
    "# \"Name\": ['Diya','Tejaswini','Kiran','Ravi','Dev','Rhuthu','Ashita','Alex','Alok','Vivek','Arush',\n",
    "# 'Praveen','Aditya','Nishant','Raju','Gaurav','Sonu','Prashant','Anupam','Sumit','Chandan','Deepak','Jyoti','Prakash',\"Rama\",\n",
    "# \"Vinayak\",\"Rakesh\",\"Rohit\",\"Radhe\",\"Nakul\",\"Arjun\",\"Sahdev\",\"Vikram\",\"Kriti\",\"Yuvraj\",\"Anil\",\"Sheetal\",\"Sowmya\",\"Swadha\",\"Ritu\",\"Indu\",\n",
    "# \"Uzma\",\"Charan\",\"Kaushal\",\"Haya Fathim\"],\n",
    "# \"college\":[\"IIT\",\"NIT\",\"B.tech\",\"M.tech\",\"B.E\",\"Engineering\",\"M.E\",\"SRM\",\"RV\",\"BIT\",\"BITS\"],\n",
    " \n",
    "# \"Mail id\": [\"ravi@gmail.com\",'diya@gmail.com',\"kiran@gmail.com\",\"rhuthu93@gmail.com\",\"alok.raj999@gmail.com\"]}\n",
    "# d"
   ]
  },
  {
   "cell_type": "code",
   "execution_count": 43,
   "metadata": {},
   "outputs": [],
   "source": [
    "# Serializing json  \n",
    "# json_object = json.dumps(d) \n",
    "# with open('somefile.json', 'a',encoding=\"utf-8\") as file:\n",
    "#     file.write(json_object)"
   ]
  },
  {
   "cell_type": "markdown",
   "metadata": {},
   "source": [
    "## 2.2 Data Preprocessing"
   ]
  },
  {
   "cell_type": "code",
   "execution_count": null,
   "metadata": {},
   "outputs": [],
   "source": []
  },
  {
   "cell_type": "code",
   "execution_count": 44,
   "metadata": {},
   "outputs": [],
   "source": [
    "def normalizeText(text):\n",
    "\n",
    "    # Remove unprintable characters\n",
    "    textFilter = filter(lambda x: x in string.printable, text)\n",
    "    ntext = \"\".join([w for w in textFilter])\n",
    "\n",
    "    # Remove punctuation\n",
    "    spaces = \" \"*len(string.punctuation)\n",
    "    translation = str.maketrans(string.punctuation, spaces)\n",
    "    ntext = ntext.translate(translation)\n",
    "\n",
    "    # Removing multiple linebreaks\n",
    "    lines = (line.strip() for line in ntext.splitlines())\n",
    "    chunks = (phrase.strip() for line in lines for phrase in line.split(\"  \"))\n",
    "    ntext = ' '.join(chunk for chunk in chunks if chunk)\n",
    "\n",
    "    # Make all lowercase\n",
    "    ntext = ntext.lower()\n",
    "\n",
    "    # Create phrases instead of tag words\n",
    "    # Getting tag data from json\n",
    "    tagFile = r\"C:\\Users\\Ravi kumar\\Downloads\\data-20220512T190600Z-001\\somefile.json\"\n",
    "    \n",
    "    with open(tagFile, 'r') as tagFileHandle:\n",
    "        \n",
    "        tagData = json.load(tagFileHandle)\n",
    "       \n",
    "    tagList = [tagData[tags] for tags in tagData]\n",
    "    tagList = list(itertools.chain.from_iterable(tagList))\n",
    "    phraseList = [\" \".join(tag.split('_')) for tag in tagList\n",
    "                  if len(tag.split(\"_\")) > 1]\n",
    "    for phrase in phraseList:\n",
    "        ntext = ntext.replace(phrase, \"_\".join(phrase.split(\" \")))\n",
    "\n",
    "    return ntext"
   ]
  },
  {
   "cell_type": "code",
   "execution_count": 45,
   "metadata": {},
   "outputs": [
    {
     "data": {
      "text/plain": [
       "0      hr personnel assistant summary i am a u s citi...\n",
       "1      hr benefits leave coordinator summary 13 years...\n",
       "2      hr manager summary human resources manager wit...\n",
       "3      hr generalist summary dedicated and focused ad...\n",
       "4      hr employee relations specialist summary dedic...\n",
       "                             ...                        \n",
       "128    senior web developer specializing in front end...\n",
       "129    elizabeth holmes 1 970 333 3833 elizabeth holm...\n",
       "130    sheetal sahu quality analyst 91 9404538689 sah...\n",
       "131    sowmya v contact no 91 9845007997 e mail sowmy...\n",
       "132    1 yp professional summary 3 months of experien...\n",
       "Name: data1, Length: 133, dtype: object"
      ]
     },
     "execution_count": 45,
     "metadata": {},
     "output_type": "execute_result"
    }
   ],
   "source": [
    "temp['data']=temp['data'].fillna(\"data not found\")\n",
    "temp['data1']=temp['data'].apply(lambda x: normalizeText(x))\n",
    "temp['data1']"
   ]
  },
  {
   "cell_type": "code",
   "execution_count": 46,
   "metadata": {},
   "outputs": [],
   "source": [
    "## tratment of missing value\n",
    "temp['data1']=temp['data1'].fillna(\"data not found\")\n",
    "temp=temp.fillna('[]')"
   ]
  },
  {
   "cell_type": "markdown",
   "metadata": {},
   "source": [
    "## 2.3 Data Featurization"
   ]
  },
  {
   "cell_type": "markdown",
   "metadata": {},
   "source": [
    "# Ontology\n",
    "\n",
    "Software/Malware/Tool : An entity that relates to a piece of code usually used as tool such as Office or Unix operating system. An entity that refers to malicious code and/or software which is inserted into a system.\n",
    "\n",
    "OS : An entity that dfines the operating system.\n",
    "\n",
    "Attack-pattern/Technique : An entity that refers to steps that could\n",
    "result in an active attack on an individual or group of\n",
    "users.\n",
    "\n",
    "Group/Actor : An entity that refers to grouping of activities\n",
    "that could lead to a malicious attack\n",
    "\n",
    "Indicators: File Sha or ip/url\n",
    "\n",
    "\n",
    "# Relationship\n",
    "\n",
    "uses : Relationship where the subject entity belongs to a campaign or malware class and object entity belongs to a tool or software class, wherein subject entity aims to leverage object entity to carry on an attack.(Malware , Uses , OS) & (Actors , uses , Techniques)\n",
    "\n",
    "indicates : Relationship where the subject entity belongs to a indicator class and object entity belongs to a mal\u0002ware or campaign class, wherein indicates. demonstrates presence or after effects of a object entity. (Indicators , indicates , malware) \n",
    "\n",
    "attributed-to : Relationship where the subject entity be\u0002longs to campaign or intrusion-set class and object entity belongs to threat actor class wherein subject entity is attributed to object entity. (Malware , attributed-to , Actor)"
   ]
  },
  {
   "cell_type": "code",
   "execution_count": 47,
   "metadata": {},
   "outputs": [],
   "source": [
    "def isMixedCaps(word):\n",
    "    isCap = sum([c.isupper() for c in word[1:]])\n",
    "    isLower = sum([c.islower() for c in word])\n",
    "    return isCap > 0 and isLower > 0\n",
    "\n",
    "\n",
    "def OrthographicFeature(word):\n",
    "    if word.isupper():\n",
    "        orthotag = 'ALLCAPS'\n",
    "    elif word.islower():\n",
    "        orthotag = 'LOWERCASE'\n",
    "    elif isMixedCaps(word):\n",
    "        orthotag = 'MIXEDCAPS'\n",
    "    elif len(word) > 0 and word[0].isupper():\n",
    "        orthotag = 'UPPER_INITIAL'\n",
    "    else:\n",
    "        orthotag = 'NONE'\n",
    "    return orthotag\n",
    "\n",
    "\n",
    "def isPunctuation(word):\n",
    "    return sum([c not in string.punctuation for c in word]) == 0\n",
    "\n",
    "\n",
    "def isOtherSymbol(word):\n",
    "    val = sum([c in string.punctuation or c.isalpha()\n",
    "               or c.isdigit() for c in word]) == 0\n",
    "    return val\n",
    "\n",
    "\n",
    "def isAlpunct(word):\n",
    "    val = (len(word) == len([c for c in word if c in string.punctuation])\n",
    "           + len([c for c in word if c.isalpha()]))\n",
    "    return val\n",
    "\n",
    "\n",
    "def containsApt(word):\n",
    "    if \"apt\" in word.lower():\n",
    "        return True\n",
    "    else:\n",
    "        return False\n",
    "\n",
    "def wordtypeFeature(word):\n",
    "    if word == \"reSHA256hash\":\n",
    "        wttag = \"SHA256\"\n",
    "    elif word == \"reSHA1hash\":\n",
    "        wttag = \"SHA1\"\n",
    "    elif word == \"reMD5hash\":\n",
    "        wttag = \"MD5\"\n",
    "    elif word == \"reIPv4Address\":\n",
    "        wttag = \"IP\"\n",
    "    elif word == \"reURL\":\n",
    "        wttag = \"URL\"\n",
    "    elif word == \"reDomain\":\n",
    "        wttag = \"DOMAINADD\"\n",
    "    elif word == \"reEmailAddress\":\n",
    "        wttag = \"EMAILADD\"\n",
    "    elif containsApt(word):\n",
    "        wttag = 'TGROUP'\n",
    "    elif word.isalpha():\n",
    "        wttag = 'WORD'\n",
    "    elif word.isdigit():\n",
    "        wttag = 'NUMBER'\n",
    "    elif isPunctuation(word):\n",
    "        wttag = 'PUNCTUATION'\n",
    "    elif word.isalnum():\n",
    "        wttag = 'ALNUM'\n",
    "    elif isAlpunct(word):\n",
    "        wttag = 'ALPUNC'\n",
    "    elif isOtherSymbol(word):\n",
    "        wttag = 'SYMBOL'\n",
    "    else:\n",
    "        wttag = 'NONE'\n",
    "    return wttag\n",
    "\n",
    "def word2vecFeature(w2vmodel, word, size):\n",
    "    featuredict = {}\n",
    "    word = word.lower()\n",
    "    wordVec = numpy.zeros(size)\n",
    "    if word in w2vmodel:\n",
    "        wordVec = w2vmodel[word]\n",
    "    featuredict = {\"em\"+str(i): wordVec[i] for i in range(0, size)}\n",
    "    return featuredict\n",
    "\n",
    "\n",
    "def wordFeaturizer(doc, index, w2vmodel, size=50, useWordFeatures=True,\n",
    "                   useEmbeddings=True):\n",
    "    word, pos = doc[index]\n",
    "    commonDict = {}\n",
    "    commonDict['word'] = word\n",
    "    featureDict = {}\n",
    "    # init the stemmer\n",
    "    if useWordFeatures:\n",
    "        stemmer = nltk.stem.snowball.SnowballStemmer('english')\n",
    "        posTagMapping = {'NN': 'Noun',\n",
    "                         'NNP': 'Noun',\n",
    "                         'NNPS': 'Noun',\n",
    "                         'NNS': 'Noun',\n",
    "                         'VB': 'Verb',\n",
    "                         'VBD': 'Verb',\n",
    "                         'VBG': 'Verb',\n",
    "                         'VBN': 'Verb',\n",
    "                         'VBP': 'Verb',\n",
    "                         'VBZ': 'Verb',\n",
    "                         'JJ': 'Adj',\n",
    "                         'JJR': 'Adj',\n",
    "                         'JJS': 'Adj'}\n",
    "        if pos in posTagMapping:\n",
    "            pos = posTagMapping[pos]\n",
    "\n",
    "        # keyWordList = [\"Operation\", \"APT\", \"Campaign\"]\n",
    "        featureDict = {\n",
    "            'lemma': stemmer.stem(word),\n",
    "            'pos': pos,\n",
    "            'orthotag': OrthographicFeature(word),\n",
    "            'wordtype': wordtypeFeature(word),\n",
    "          \n",
    "        }\n",
    "        if index > 0:\n",
    "            pword, ppos = doc[index - 1]\n",
    "            if ppos in posTagMapping:\n",
    "                ppos = posTagMapping[ppos]\n",
    "            featureDict[\"pword\"] = pword\n",
    "            featureDict[\"plemma\"] = stemmer.stem(pword)\n",
    "            featureDict[\"ppos\"] = ppos\n",
    "            featureDict[\"porthotag\"] = OrthographicFeature(pword)\n",
    "            featureDict[\"pwordtype\"] = wordtypeFeature(pword)\n",
    "        else:\n",
    "            featureDict[\"BOD\"] = True\n",
    "\n",
    "        if index < len(doc)-1:\n",
    "            nword, npos = doc[index + 1]\n",
    "            if npos in posTagMapping:\n",
    "                npos = posTagMapping[npos]\n",
    "            featureDict[\"nword\"] = nword\n",
    "            featureDict[\"nlemma\"] = stemmer.stem(nword)\n",
    "            featureDict[\"npos\"] = npos\n",
    "            featureDict[\"northotag\"] = OrthographicFeature(nword)\n",
    "            featureDict[\"nwordtype\"] = wordtypeFeature(nword)\n",
    "        else:\n",
    "            featureDict[\"EOD\"] = True\n",
    "\n",
    "    if useEmbeddings:\n",
    "        embeddingsDict = word2vecFeature(w2vmodel, word.lower(), size)\n",
    "    else:\n",
    "        embeddingsDict = {}\n",
    "    totalDict = {**commonDict, **featureDict, **embeddingsDict}\n",
    "\n",
    "    return totalDict\n",
    "\n",
    "\n",
    "def docFeaturizer(doc, model, size, useWordFeatures=True, useEmbeddings=True):\n",
    "    return [wordFeaturizer(doc, i, model, size, useWordFeatures, useEmbeddings)\n",
    "            for i in range(len(doc))]\n",
    "\n",
    "\n",
    "def docLabelizer(doc, tagFile):\n",
    "    with open(tagFile, 'r') as tagFileHandle:\n",
    "        tagData = json.load(tagFileHandle)\n",
    "\n",
    "    trainList = doc\n",
    "    labelList = []\n",
    "\n",
    "    # Reversing the dictionary\n",
    "    tagDict = {}\n",
    "    for key, value in tagData.items():\n",
    "        for astring in value:\n",
    "            tagDict[astring] = key\n",
    "\n",
    "    # Adding tags to our data\n",
    "    i = 0\n",
    "    while i < len(trainList):\n",
    "        # using a while loop here since for loops don't allow\n",
    "        # the i variable to be updated\n",
    "        if trainList[i].lower() in tagDict:\n",
    "            phrase = trainList[i].lower()\n",
    "            labelList.append(\"B-\" + tagDict[phrase])\n",
    "        elif \" \".join(trainList[i:i+2]).lower() in tagDict:\n",
    "            # In Pandas [i:i+2] results in list of i,i+1\n",
    "            phrase = \" \".join(trainList[i:i+2]).lower()\n",
    "            labelList.append(\"B-\" + tagDict[phrase])\n",
    "            labelList.append(\"I-\" + tagDict[phrase])\n",
    "            i = i + 1\n",
    "        elif \" \".join(trainList[i:i+3]).lower() in tagDict:\n",
    "            # In Pandas [i:i+3] results in list of i,i+1, i+2\n",
    "            phrase = \" \".join(trainList[i:i+3]).lower()\n",
    "            labelList.append(\"B-\" + tagDict[phrase])\n",
    "            labelList.append(\"I-\" + tagDict[phrase])\n",
    "            labelList.append(\"I-\" + tagDict[phrase])\n",
    "            i = i + 2\n",
    "        elif \" \".join(trainList[i:i+4]).lower() in tagDict:\n",
    "            # In Pandas [i:i+3] results in list of i,i+1, i+2\n",
    "            phrase = \" \".join(trainList[i:i+4]).lower()\n",
    "            labelList.append(\"B-\" + tagDict[phrase])\n",
    "            labelList.append(\"I-\" + tagDict[phrase])\n",
    "            labelList.append(\"I-\" + tagDict[phrase])\n",
    "            labelList.append(\"I-\" + tagDict[phrase])\n",
    "            i = i + 3\n",
    "        elif \" \".join(trainList[i:i+5]).lower() in tagDict:\n",
    "            # In Pandas [i:i+3] results in list of i,i+1, i+2\n",
    "            phrase = \" \".join(trainList[i:i+5]).lower()\n",
    "            labelList.append(\"B-\" + tagDict[phrase])\n",
    "            labelList.append(\"I-\" + tagDict[phrase])\n",
    "            labelList.append(\"I-\" + tagDict[phrase])\n",
    "            labelList.append(\"I-\" + tagDict[phrase])\n",
    "            labelList.append(\"I-\" + tagDict[phrase])\n",
    "            i = i + 4\n",
    "        elif \" \".join(trainList[i:i+6]).lower() in tagDict:\n",
    "            # In Pandas [i:i+3] results in list of i,i+1, i+2\n",
    "            phrase = \" \".join(trainList[i:i+6]).lower()\n",
    "            labelList.append(\"B-\" + tagDict[phrase])\n",
    "            labelList.append(\"I-\" + tagDict[phrase])\n",
    "            labelList.append(\"I-\" + tagDict[phrase])\n",
    "            labelList.append(\"I-\" + tagDict[phrase])\n",
    "            labelList.append(\"I-\" + tagDict[phrase])\n",
    "            labelList.append(\"I-\" + tagDict[phrase])\n",
    "            i = i + 5\n",
    "        else:\n",
    "            labelList.append(\"O\")\n",
    "        i = i+1\n",
    "    return labelList"
   ]
  },
  {
   "cell_type": "code",
   "execution_count": 48,
   "metadata": {},
   "outputs": [
    {
     "data": {
      "text/plain": [
       "\"import attackcti\\nfrom attackcti import attack_client\\nlift = attack_client()\\nlift.get_enterprise().keys()\\n#Technique\\nall_techniques = lift.get_techniques(stix_format=False)\\nall_techniques = lift.remove_revoked(all_techniques)\\nprint(len(all_techniques))\\ntechnique=list(pandas.DataFrame(all_techniques)['technique'])\\n\\n#Actor\\nall_actors = lift.get_groups(stix_format=False)\\nall_actors = lift.remove_revoked(all_actors)\\nprint(len(all_actors))\\nactor=list(pandas.DataFrame(all_actors)['group_aliases'])\\nactor=[item for sublist in actor for item in sublist]\\n\\n#Tools/malwares\\nall_tools = lift.get_software(stix_format=False)\\nall_tools = lift.remove_revoked(all_tools)\\nprint(len(all_tools))\\ntools=list(pandas.DataFrame(all_tools)['software'])\\n\\n##update\\nwith open('tags.json') as data_file:    \\n    old_data = json.load(data_file)\\n    \\nind=[]\\n\\nfor i in range(0,len(ind_data)):\\n    ind.append(ind_data[i]['label'])\\n\\n    \\nold_data['BADACTOR'].extend(actor)    \\nold_data['BADACTOR']=list(set([x.lower() for x in old_data['BADACTOR']]))\\nold_data['MALWARE'].extend(tools)    \\nold_data['MALWARE']=list(set([x.lower() for x in old_data['MALWARE']]))\\nold_data['TECHNIQUE'].extend(technique)    \\nold_data['TECHNIQUE']=list(set([x.lower() for x in old_data['TECHNIQUE']]))\\nold_data['Industry'].extend(ind)    \\nold_data['Industry']=list(set([x.lower() for x in old_data['Industry']]))\\n\\n\\nwith open('tags.json','w') as data_file:    \\n    data_file.write(json.dumps(old_data))\""
      ]
     },
     "execution_count": 48,
     "metadata": {},
     "output_type": "execute_result"
    }
   ],
   "source": [
    "'''import attackcti\n",
    "from attackcti import attack_client\n",
    "lift = attack_client()\n",
    "lift.get_enterprise().keys()\n",
    "#Technique\n",
    "all_techniques = lift.get_techniques(stix_format=False)\n",
    "all_techniques = lift.remove_revoked(all_techniques)\n",
    "print(len(all_techniques))\n",
    "technique=list(pandas.DataFrame(all_techniques)['technique'])\n",
    "\n",
    "#Actor\n",
    "all_actors = lift.get_groups(stix_format=False)\n",
    "all_actors = lift.remove_revoked(all_actors)\n",
    "print(len(all_actors))\n",
    "actor=list(pandas.DataFrame(all_actors)['group_aliases'])\n",
    "actor=[item for sublist in actor for item in sublist]\n",
    "\n",
    "#Tools/malwares\n",
    "all_tools = lift.get_software(stix_format=False)\n",
    "all_tools = lift.remove_revoked(all_tools)\n",
    "print(len(all_tools))\n",
    "tools=list(pandas.DataFrame(all_tools)['software'])\n",
    "\n",
    "##update\n",
    "with open('tags.json') as data_file:    \n",
    "    old_data = json.load(data_file)\n",
    "    \n",
    "ind=[]\n",
    "\n",
    "for i in range(0,len(ind_data)):\n",
    "    ind.append(ind_data[i]['label'])\n",
    "\n",
    "    \n",
    "old_data['BADACTOR'].extend(actor)    \n",
    "old_data['BADACTOR']=list(set([x.lower() for x in old_data['BADACTOR']]))\n",
    "old_data['MALWARE'].extend(tools)    \n",
    "old_data['MALWARE']=list(set([x.lower() for x in old_data['MALWARE']]))\n",
    "old_data['TECHNIQUE'].extend(technique)    \n",
    "old_data['TECHNIQUE']=list(set([x.lower() for x in old_data['TECHNIQUE']]))\n",
    "old_data['Industry'].extend(ind)    \n",
    "old_data['Industry']=list(set([x.lower() for x in old_data['Industry']]))\n",
    "\n",
    "\n",
    "with open('tags.json','w') as data_file:    \n",
    "    data_file.write(json.dumps(old_data))'''"
   ]
  },
  {
   "cell_type": "code",
   "execution_count": 49,
   "metadata": {},
   "outputs": [
    {
     "data": {
      "text/plain": [
       "dict_keys(['skills', 'EXPERIENCE', 'Name', 'college', 'Mail id'])"
      ]
     },
     "execution_count": 49,
     "metadata": {},
     "output_type": "execute_result"
    }
   ],
   "source": [
    "# Check the Tag file\n",
    "\n",
    "with open(r\"C:\\Users\\Ravi kumar\\Downloads\\data-20220512T190600Z-001\\somefile.json\") as json_file:\n",
    "    data=json.load(json_file)\n",
    "    \n",
    "data.keys()"
   ]
  },
  {
   "cell_type": "code",
   "execution_count": 50,
   "metadata": {},
   "outputs": [],
   "source": [
    "# #### load w2vec\n",
    "# import os\n",
    "# from gensim.models import KeyedVectors\n",
    "# model = KeyedVectors.load(\"./cybervec/cyber_corpus\")"
   ]
  },
  {
   "cell_type": "code",
   "execution_count": 51,
   "metadata": {},
   "outputs": [],
   "source": [
    "# from gensim.models import KeyedVectors\n",
    "# KeyedVectors.word_vec()"
   ]
  },
  {
   "cell_type": "code",
   "execution_count": 52,
   "metadata": {},
   "outputs": [
    {
     "data": {
      "text/plain": [
       "['.ipynb_checkpoints',\n",
       " 'data',\n",
       " 'glove',\n",
       " 'glove.6B.zip',\n",
       " 'my_approach.ipynb',\n",
       " 'resumes_samples',\n",
       " 'somefile.json']"
      ]
     },
     "execution_count": 52,
     "metadata": {},
     "output_type": "execute_result"
    }
   ],
   "source": [
    "os.listdir(r\"C:\\Users\\Ravi kumar\\Downloads\\data-20220512T190600Z-001\")"
   ]
  },
  {
   "cell_type": "code",
   "execution_count": 23,
   "metadata": {},
   "outputs": [],
   "source": [
    "import os\n",
    "import zipfile\n",
    "# with zipfile.ZipFile(r\"C:\\Users\\Ravi kumar\\Downloads\\data-20220512T190600Z-001\\glove.6B.zip\", 'r') as zip_ref:\n",
    "#     zip_ref.extractall(r'C:\\Users\\Ravi kumar\\Downloads\\data-20220512T190600Z-001\\glove')"
   ]
  },
  {
   "cell_type": "code",
   "execution_count": 53,
   "metadata": {},
   "outputs": [
    {
     "name": "stdout",
     "output_type": "stream",
     "text": [
      "Found 400000 word vectors.\n"
     ]
    }
   ],
   "source": [
    "import numpy as np\n",
    "embeddings_index = {}\n",
    "f = open(r'C:\\Users\\Ravi kumar\\Downloads\\data-20220512T190600Z-001\\glove\\glove.6B.300d.txt',encoding='utf-8')\n",
    "for line in f:\n",
    "    values = line.split()\n",
    "    \n",
    "    word = values[0]\n",
    "    \n",
    "    coefs = np.asarray(values[1:], dtype='float32')\n",
    "    \n",
    "    embeddings_index[word] = coefs\n",
    "\n",
    "f.close()\n",
    "\n",
    "print('Found %s word vectors.' % len(embeddings_index))"
   ]
  },
  {
   "cell_type": "code",
   "execution_count": 146,
   "metadata": {},
   "outputs": [],
   "source": [
    "# import numpy as np\n",
    "\n",
    "# def load_glove_model(File):\n",
    "#     print(\"Loading Glove Model\")\n",
    "#     glove_model = {}\n",
    "#     with open(File,'r') as f:\n",
    "#         for line in f:\n",
    "#             split_line = line.split()\n",
    "#             word = split_line[0]\n",
    "#             embedding = np.array(split_line[1:], dtype=np.float64)\n",
    "#             glove_model[word] = embedding\n",
    "#     print(f\"{len(glove_model)} words loaded!\")\n",
    "#     return glove_model\n",
    "\n",
    "# glove_model = load_glove_model(r'C:\\Users\\Ravi kumar\\Downloads\\data-20220512T190600Z-001\\glove\\glove.6B.300d.txt')"
   ]
  },
  {
   "cell_type": "code",
   "execution_count": 149,
   "metadata": {},
   "outputs": [],
   "source": [
    "#embeddings_index"
   ]
  },
  {
   "cell_type": "code",
   "execution_count": 54,
   "metadata": {},
   "outputs": [
    {
     "data": {
      "text/html": [
       "<div>\n",
       "<style scoped>\n",
       "    .dataframe tbody tr th:only-of-type {\n",
       "        vertical-align: middle;\n",
       "    }\n",
       "\n",
       "    .dataframe tbody tr th {\n",
       "        vertical-align: top;\n",
       "    }\n",
       "\n",
       "    .dataframe thead th {\n",
       "        text-align: right;\n",
       "    }\n",
       "</style>\n",
       "<table border=\"1\" class=\"dataframe\">\n",
       "  <thead>\n",
       "    <tr style=\"text-align: right;\">\n",
       "      <th></th>\n",
       "      <th>data</th>\n",
       "      <th>data1</th>\n",
       "    </tr>\n",
       "  </thead>\n",
       "  <tbody>\n",
       "    <tr>\n",
       "      <th>0</th>\n",
       "      <td>HR PERSONNEL ASSISTANT Summary I am a U.S. cit...</td>\n",
       "      <td>hr personnel assistant summary i am a u s citi...</td>\n",
       "    </tr>\n",
       "    <tr>\n",
       "      <th>1</th>\n",
       "      <td>HR BENEFITS/LEAVE COORDINATOR Summary 13 years...</td>\n",
       "      <td>hr benefits leave coordinator summary 13 years...</td>\n",
       "    </tr>\n",
       "    <tr>\n",
       "      <th>2</th>\n",
       "      <td>HR MANAGER Summary Human Resources Manager wit...</td>\n",
       "      <td>hr manager summary human resources manager wit...</td>\n",
       "    </tr>\n",
       "    <tr>\n",
       "      <th>3</th>\n",
       "      <td>HR GENERALIST Summary Dedicated and focused Ad...</td>\n",
       "      <td>hr generalist summary dedicated and focused ad...</td>\n",
       "    </tr>\n",
       "    <tr>\n",
       "      <th>4</th>\n",
       "      <td>HR EMPLOYEE RELATIONS SPECIALIST Summary Dedic...</td>\n",
       "      <td>hr employee relations specialist summary dedic...</td>\n",
       "    </tr>\n",
       "  </tbody>\n",
       "</table>\n",
       "</div>"
      ],
      "text/plain": [
       "                                                data  \\\n",
       "0  HR PERSONNEL ASSISTANT Summary I am a U.S. cit...   \n",
       "1  HR BENEFITS/LEAVE COORDINATOR Summary 13 years...   \n",
       "2  HR MANAGER Summary Human Resources Manager wit...   \n",
       "3  HR GENERALIST Summary Dedicated and focused Ad...   \n",
       "4  HR EMPLOYEE RELATIONS SPECIALIST Summary Dedic...   \n",
       "\n",
       "                                               data1  \n",
       "0  hr personnel assistant summary i am a u s citi...  \n",
       "1  hr benefits leave coordinator summary 13 years...  \n",
       "2  hr manager summary human resources manager wit...  \n",
       "3  hr generalist summary dedicated and focused ad...  \n",
       "4  hr employee relations specialist summary dedic...  "
      ]
     },
     "execution_count": 54,
     "metadata": {},
     "output_type": "execute_result"
    }
   ],
   "source": [
    "temp.head()"
   ]
  },
  {
   "cell_type": "code",
   "execution_count": 55,
   "metadata": {},
   "outputs": [],
   "source": [
    "temp['Processed'] = temp.data1.apply(nltk.word_tokenize)\n",
    "temp['Processed1']=temp['Processed'].apply(lambda x:[w for w in x if not w in stop_words])\n",
    "temp['Processed2']=temp['Processed1'].apply(lambda x:[w for w in x if len(w)>2])\n",
    "temp['Tagged'] = temp.Processed2.apply(nltk.pos_tag)\n",
    "temp['XArray']= temp.Tagged.apply(docFeaturizer, args=(embeddings_index, 50))\n",
    "temp['YArray'] = temp.Processed2.apply(docLabelizer,args = (r\"C:\\Users\\Ravi kumar\\Downloads\\data-20220512T190600Z-001\\somefile.json\",))\n",
    "\n",
    "train,test= train_test_split(temp, test_size=0.2, random_state=1010)"
   ]
  },
  {
   "cell_type": "code",
   "execution_count": 56,
   "metadata": {},
   "outputs": [
    {
     "data": {
      "text/plain": [
       "(106, 8)"
      ]
     },
     "execution_count": 56,
     "metadata": {},
     "output_type": "execute_result"
    }
   ],
   "source": [
    "train.shape"
   ]
  },
  {
   "cell_type": "code",
   "execution_count": 57,
   "metadata": {},
   "outputs": [
    {
     "data": {
      "text/plain": [
       "(27, 8)"
      ]
     },
     "execution_count": 57,
     "metadata": {},
     "output_type": "execute_result"
    }
   ],
   "source": [
    "test.shape"
   ]
  },
  {
   "cell_type": "code",
   "execution_count": 58,
   "metadata": {},
   "outputs": [
    {
     "data": {
      "text/plain": [
       "{'word': 'summary',\n",
       " 'lemma': 'summari',\n",
       " 'pos': 'Adj',\n",
       " 'orthotag': 'LOWERCASE',\n",
       " 'wordtype': 'WORD',\n",
       " 'pword': 'assistant',\n",
       " 'plemma': 'assist',\n",
       " 'ppos': 'Verb',\n",
       " 'porthotag': 'LOWERCASE',\n",
       " 'pwordtype': 'WORD',\n",
       " 'nword': 'citizen',\n",
       " 'nlemma': 'citizen',\n",
       " 'npos': 'Noun',\n",
       " 'northotag': 'LOWERCASE',\n",
       " 'nwordtype': 'WORD',\n",
       " 'em0': 0.40618,\n",
       " 'em1': -0.069725,\n",
       " 'em2': 0.33561,\n",
       " 'em3': -0.15371,\n",
       " 'em4': -0.12864,\n",
       " 'em5': 1.1076,\n",
       " 'em6': -0.09068,\n",
       " 'em7': -0.16925,\n",
       " 'em8': -0.2924,\n",
       " 'em9': -1.1605,\n",
       " 'em10': -0.36625,\n",
       " 'em11': 0.74708,\n",
       " 'em12': 0.42485,\n",
       " 'em13': 0.046175,\n",
       " 'em14': -0.79787,\n",
       " 'em15': 0.032028,\n",
       " 'em16': 0.15163,\n",
       " 'em17': 0.61957,\n",
       " 'em18': 0.27999,\n",
       " 'em19': -0.33649,\n",
       " 'em20': 0.07516,\n",
       " 'em21': -0.2913,\n",
       " 'em22': -0.073369,\n",
       " 'em23': 0.075498,\n",
       " 'em24': 0.006165,\n",
       " 'em25': -0.20332,\n",
       " 'em26': -0.020447,\n",
       " 'em27': 0.067027,\n",
       " 'em28': 0.38614,\n",
       " 'em29': -0.49355,\n",
       " 'em30': -0.030012,\n",
       " 'em31': 0.4112,\n",
       " 'em32': 0.21516,\n",
       " 'em33': -0.1572,\n",
       " 'em34': -0.40522,\n",
       " 'em35': 0.43405,\n",
       " 'em36': 0.35608,\n",
       " 'em37': 0.42764,\n",
       " 'em38': 0.018184,\n",
       " 'em39': -0.40282,\n",
       " 'em40': 0.223,\n",
       " 'em41': -0.11242,\n",
       " 'em42': 0.22534,\n",
       " 'em43': 0.67304,\n",
       " 'em44': -0.21944,\n",
       " 'em45': 0.17767,\n",
       " 'em46': -0.025169,\n",
       " 'em47': -0.56497,\n",
       " 'em48': 0.38395,\n",
       " 'em49': 0.24876}"
      ]
     },
     "execution_count": 58,
     "metadata": {},
     "output_type": "execute_result"
    }
   ],
   "source": [
    "list(temp['XArray'])[0][2]"
   ]
  },
  {
   "cell_type": "code",
   "execution_count": 59,
   "metadata": {},
   "outputs": [
    {
     "data": {
      "text/plain": [
       "['O',\n",
       " 'O',\n",
       " 'O',\n",
       " 'O',\n",
       " 'O',\n",
       " 'O',\n",
       " 'O',\n",
       " 'O',\n",
       " 'O',\n",
       " 'O',\n",
       " 'O',\n",
       " 'O',\n",
       " 'O',\n",
       " 'O',\n",
       " 'O',\n",
       " 'O',\n",
       " 'O',\n",
       " 'O',\n",
       " 'O',\n",
       " 'O',\n",
       " 'O',\n",
       " 'O',\n",
       " 'O',\n",
       " 'O',\n",
       " 'O',\n",
       " 'O',\n",
       " 'O',\n",
       " 'O',\n",
       " 'O',\n",
       " 'O',\n",
       " 'O',\n",
       " 'O',\n",
       " 'O',\n",
       " 'O',\n",
       " 'O',\n",
       " 'O',\n",
       " 'O',\n",
       " 'O',\n",
       " 'O',\n",
       " 'O',\n",
       " 'O',\n",
       " 'O',\n",
       " 'O',\n",
       " 'O',\n",
       " 'O',\n",
       " 'O',\n",
       " 'O',\n",
       " 'O',\n",
       " 'O',\n",
       " 'O',\n",
       " 'O',\n",
       " 'O',\n",
       " 'O',\n",
       " 'O',\n",
       " 'O',\n",
       " 'O',\n",
       " 'O',\n",
       " 'O',\n",
       " 'O',\n",
       " 'O',\n",
       " 'O',\n",
       " 'O',\n",
       " 'O',\n",
       " 'O',\n",
       " 'O',\n",
       " 'O',\n",
       " 'O',\n",
       " 'O',\n",
       " 'O',\n",
       " 'O',\n",
       " 'O',\n",
       " 'O',\n",
       " 'O',\n",
       " 'O',\n",
       " 'O',\n",
       " 'O',\n",
       " 'O',\n",
       " 'O',\n",
       " 'O',\n",
       " 'O',\n",
       " 'O',\n",
       " 'O',\n",
       " 'O',\n",
       " 'O',\n",
       " 'O',\n",
       " 'O',\n",
       " 'O',\n",
       " 'O',\n",
       " 'O',\n",
       " 'O',\n",
       " 'O',\n",
       " 'O',\n",
       " 'O',\n",
       " 'O',\n",
       " 'O',\n",
       " 'O',\n",
       " 'O',\n",
       " 'O',\n",
       " 'O',\n",
       " 'O',\n",
       " 'O',\n",
       " 'O',\n",
       " 'O',\n",
       " 'O',\n",
       " 'O',\n",
       " 'O',\n",
       " 'O',\n",
       " 'O',\n",
       " 'O',\n",
       " 'O',\n",
       " 'O',\n",
       " 'O',\n",
       " 'O',\n",
       " 'O',\n",
       " 'O',\n",
       " 'O',\n",
       " 'O',\n",
       " 'O',\n",
       " 'O',\n",
       " 'O',\n",
       " 'O',\n",
       " 'O',\n",
       " 'O',\n",
       " 'O',\n",
       " 'O',\n",
       " 'O',\n",
       " 'O',\n",
       " 'O',\n",
       " 'O',\n",
       " 'O',\n",
       " 'O',\n",
       " 'O',\n",
       " 'O',\n",
       " 'O',\n",
       " 'O',\n",
       " 'O',\n",
       " 'O',\n",
       " 'O',\n",
       " 'O',\n",
       " 'O',\n",
       " 'O',\n",
       " 'O',\n",
       " 'O',\n",
       " 'O',\n",
       " 'O',\n",
       " 'O',\n",
       " 'O',\n",
       " 'O',\n",
       " 'O',\n",
       " 'O',\n",
       " 'O',\n",
       " 'O',\n",
       " 'O',\n",
       " 'O',\n",
       " 'O',\n",
       " 'O',\n",
       " 'O',\n",
       " 'O',\n",
       " 'O',\n",
       " 'O',\n",
       " 'O',\n",
       " 'O',\n",
       " 'O',\n",
       " 'O',\n",
       " 'O',\n",
       " 'O',\n",
       " 'O',\n",
       " 'O',\n",
       " 'O',\n",
       " 'O',\n",
       " 'O',\n",
       " 'O',\n",
       " 'O',\n",
       " 'O',\n",
       " 'O',\n",
       " 'O',\n",
       " 'O',\n",
       " 'O',\n",
       " 'O',\n",
       " 'O',\n",
       " 'O',\n",
       " 'O',\n",
       " 'O',\n",
       " 'O',\n",
       " 'O',\n",
       " 'O',\n",
       " 'O',\n",
       " 'O',\n",
       " 'O',\n",
       " 'O',\n",
       " 'O',\n",
       " 'O',\n",
       " 'O',\n",
       " 'O',\n",
       " 'O',\n",
       " 'O',\n",
       " 'O',\n",
       " 'O',\n",
       " 'O',\n",
       " 'O',\n",
       " 'O',\n",
       " 'O',\n",
       " 'O',\n",
       " 'O',\n",
       " 'O',\n",
       " 'O',\n",
       " 'O',\n",
       " 'O',\n",
       " 'O',\n",
       " 'O',\n",
       " 'O',\n",
       " 'O',\n",
       " 'O',\n",
       " 'O',\n",
       " 'O',\n",
       " 'O',\n",
       " 'O',\n",
       " 'O',\n",
       " 'O',\n",
       " 'O',\n",
       " 'O',\n",
       " 'O',\n",
       " 'O',\n",
       " 'O',\n",
       " 'O',\n",
       " 'O',\n",
       " 'O',\n",
       " 'O',\n",
       " 'O',\n",
       " 'O',\n",
       " 'O',\n",
       " 'O',\n",
       " 'O',\n",
       " 'O',\n",
       " 'O',\n",
       " 'O',\n",
       " 'O',\n",
       " 'O',\n",
       " 'O',\n",
       " 'O',\n",
       " 'O',\n",
       " 'O',\n",
       " 'O',\n",
       " 'O',\n",
       " 'O',\n",
       " 'O',\n",
       " 'O',\n",
       " 'O',\n",
       " 'O',\n",
       " 'O',\n",
       " 'O',\n",
       " 'O',\n",
       " 'O',\n",
       " 'O',\n",
       " 'O',\n",
       " 'O',\n",
       " 'O',\n",
       " 'O',\n",
       " 'O',\n",
       " 'O',\n",
       " 'O',\n",
       " 'O',\n",
       " 'O',\n",
       " 'O',\n",
       " 'O',\n",
       " 'O',\n",
       " 'O',\n",
       " 'O',\n",
       " 'O',\n",
       " 'O',\n",
       " 'O',\n",
       " 'O',\n",
       " 'O',\n",
       " 'O',\n",
       " 'O',\n",
       " 'O',\n",
       " 'O',\n",
       " 'O',\n",
       " 'O',\n",
       " 'O',\n",
       " 'O',\n",
       " 'O',\n",
       " 'O',\n",
       " 'O',\n",
       " 'O',\n",
       " 'O',\n",
       " 'O',\n",
       " 'O',\n",
       " 'O',\n",
       " 'O',\n",
       " 'O',\n",
       " 'O',\n",
       " 'O',\n",
       " 'O',\n",
       " 'O',\n",
       " 'O',\n",
       " 'O',\n",
       " 'O',\n",
       " 'O',\n",
       " 'O',\n",
       " 'O',\n",
       " 'O',\n",
       " 'O',\n",
       " 'O',\n",
       " 'O',\n",
       " 'O',\n",
       " 'O',\n",
       " 'O',\n",
       " 'O',\n",
       " 'O',\n",
       " 'O',\n",
       " 'O',\n",
       " 'O',\n",
       " 'O',\n",
       " 'O',\n",
       " 'O',\n",
       " 'O',\n",
       " 'O',\n",
       " 'O',\n",
       " 'O',\n",
       " 'O',\n",
       " 'O',\n",
       " 'O',\n",
       " 'O',\n",
       " 'O',\n",
       " 'O',\n",
       " 'O',\n",
       " 'O',\n",
       " 'O',\n",
       " 'O',\n",
       " 'O',\n",
       " 'O',\n",
       " 'O',\n",
       " 'O',\n",
       " 'O',\n",
       " 'O',\n",
       " 'O',\n",
       " 'O',\n",
       " 'O',\n",
       " 'O',\n",
       " 'O',\n",
       " 'O',\n",
       " 'O',\n",
       " 'O',\n",
       " 'O',\n",
       " 'O',\n",
       " 'O',\n",
       " 'O',\n",
       " 'O',\n",
       " 'O',\n",
       " 'O',\n",
       " 'O',\n",
       " 'O',\n",
       " 'O',\n",
       " 'O',\n",
       " 'O',\n",
       " 'O',\n",
       " 'O',\n",
       " 'O',\n",
       " 'O',\n",
       " 'O',\n",
       " 'O',\n",
       " 'O',\n",
       " 'O',\n",
       " 'O',\n",
       " 'O',\n",
       " 'O',\n",
       " 'O',\n",
       " 'O',\n",
       " 'O',\n",
       " 'O',\n",
       " 'O',\n",
       " 'O',\n",
       " 'O',\n",
       " 'O',\n",
       " 'O',\n",
       " 'O',\n",
       " 'O',\n",
       " 'O',\n",
       " 'O',\n",
       " 'O',\n",
       " 'O',\n",
       " 'O',\n",
       " 'O',\n",
       " 'O',\n",
       " 'O',\n",
       " 'O',\n",
       " 'O',\n",
       " 'O',\n",
       " 'O',\n",
       " 'O',\n",
       " 'O',\n",
       " 'O',\n",
       " 'O',\n",
       " 'O',\n",
       " 'O',\n",
       " 'O',\n",
       " 'O',\n",
       " 'O',\n",
       " 'O',\n",
       " 'O',\n",
       " 'O',\n",
       " 'O',\n",
       " 'O',\n",
       " 'O',\n",
       " 'O',\n",
       " 'O',\n",
       " 'O',\n",
       " 'O',\n",
       " 'O',\n",
       " 'O',\n",
       " 'O',\n",
       " 'O',\n",
       " 'O',\n",
       " 'O',\n",
       " 'O',\n",
       " 'O',\n",
       " 'O',\n",
       " 'O',\n",
       " 'O',\n",
       " 'O',\n",
       " 'O',\n",
       " 'O',\n",
       " 'O',\n",
       " 'O',\n",
       " 'O',\n",
       " 'O',\n",
       " 'O',\n",
       " 'O',\n",
       " 'O',\n",
       " 'O',\n",
       " 'O',\n",
       " 'O',\n",
       " 'O',\n",
       " 'O',\n",
       " 'O',\n",
       " 'O',\n",
       " 'O',\n",
       " 'O',\n",
       " 'O',\n",
       " 'O',\n",
       " 'O',\n",
       " 'O',\n",
       " 'O',\n",
       " 'O',\n",
       " 'O',\n",
       " 'O',\n",
       " 'O',\n",
       " 'O',\n",
       " 'O',\n",
       " 'O',\n",
       " 'O',\n",
       " 'O',\n",
       " 'O',\n",
       " 'O',\n",
       " 'O',\n",
       " 'O',\n",
       " 'O',\n",
       " 'O',\n",
       " 'O',\n",
       " 'O',\n",
       " 'O',\n",
       " 'O',\n",
       " 'O',\n",
       " 'O',\n",
       " 'O',\n",
       " 'O',\n",
       " 'O',\n",
       " 'O',\n",
       " 'O',\n",
       " 'O',\n",
       " 'O',\n",
       " 'O',\n",
       " 'O',\n",
       " 'O',\n",
       " 'O',\n",
       " 'O',\n",
       " 'O',\n",
       " 'O',\n",
       " 'O',\n",
       " 'O',\n",
       " 'O',\n",
       " 'O',\n",
       " 'O',\n",
       " 'O',\n",
       " 'O',\n",
       " 'O',\n",
       " 'O',\n",
       " 'O',\n",
       " 'O',\n",
       " 'O',\n",
       " 'O',\n",
       " 'O',\n",
       " 'O',\n",
       " 'O',\n",
       " 'O',\n",
       " 'O',\n",
       " 'O',\n",
       " 'O',\n",
       " 'O',\n",
       " 'O',\n",
       " 'O',\n",
       " 'O',\n",
       " 'O',\n",
       " 'O',\n",
       " 'O',\n",
       " 'O',\n",
       " 'O',\n",
       " 'O',\n",
       " 'O',\n",
       " 'O',\n",
       " 'O',\n",
       " 'O',\n",
       " 'O',\n",
       " 'O',\n",
       " 'O',\n",
       " 'O',\n",
       " 'O',\n",
       " 'O',\n",
       " 'O',\n",
       " 'O',\n",
       " 'O',\n",
       " 'O',\n",
       " 'O',\n",
       " 'O',\n",
       " 'O',\n",
       " 'O',\n",
       " 'O',\n",
       " 'O',\n",
       " 'O',\n",
       " 'O',\n",
       " 'O',\n",
       " 'O',\n",
       " 'O',\n",
       " 'O',\n",
       " 'O',\n",
       " 'O',\n",
       " 'O',\n",
       " 'O',\n",
       " 'O',\n",
       " 'O',\n",
       " 'O',\n",
       " 'O']"
      ]
     },
     "execution_count": 59,
     "metadata": {},
     "output_type": "execute_result"
    }
   ],
   "source": [
    "list(temp['YArray'])[0]"
   ]
  },
  {
   "cell_type": "markdown",
   "metadata": {},
   "source": [
    "## 2.4 NER model building"
   ]
  },
  {
   "cell_type": "code",
   "execution_count": 60,
   "metadata": {},
   "outputs": [
    {
     "ename": "AttributeError",
     "evalue": "'CRF' object has no attribute 'keep_tempfiles'",
     "output_type": "error",
     "traceback": [
      "\u001b[1;31m---------------------------------------------------------------------------\u001b[0m",
      "\u001b[1;31mAttributeError\u001b[0m                            Traceback (most recent call last)",
      "\u001b[1;32mC:\\Users\\RAVIKU~1\\AppData\\Local\\Temp/ipykernel_3576/2155908678.py\u001b[0m in \u001b[0;36m<module>\u001b[1;34m\u001b[0m\n\u001b[0;32m      7\u001b[0m \u001b[1;31m# search\u001b[0m\u001b[1;33m\u001b[0m\u001b[1;33m\u001b[0m\u001b[0m\n\u001b[0;32m      8\u001b[0m \u001b[0mrs\u001b[0m \u001b[1;33m=\u001b[0m \u001b[0mRandomizedSearchCV\u001b[0m\u001b[1;33m(\u001b[0m\u001b[0mcrf\u001b[0m\u001b[1;33m,\u001b[0m \u001b[0mparams_space\u001b[0m\u001b[1;33m,\u001b[0m\u001b[0mcv\u001b[0m\u001b[1;33m=\u001b[0m\u001b[1;36m3\u001b[0m\u001b[1;33m,\u001b[0m\u001b[0mverbose\u001b[0m\u001b[1;33m=\u001b[0m\u001b[1;36m1\u001b[0m\u001b[1;33m,\u001b[0m\u001b[0mscoring\u001b[0m\u001b[1;33m=\u001b[0m\u001b[0mf1_scorer\u001b[0m\u001b[1;33m,\u001b[0m\u001b[0mn_iter\u001b[0m\u001b[1;33m=\u001b[0m\u001b[1;36m3\u001b[0m\u001b[1;33m)\u001b[0m\u001b[1;33m\u001b[0m\u001b[1;33m\u001b[0m\u001b[0m\n\u001b[1;32m----> 9\u001b[1;33m \u001b[0mrs\u001b[0m\u001b[1;33m.\u001b[0m\u001b[0mfit\u001b[0m\u001b[1;33m(\u001b[0m\u001b[0mtrain\u001b[0m\u001b[1;33m[\u001b[0m\u001b[1;34m'XArray'\u001b[0m\u001b[1;33m]\u001b[0m\u001b[1;33m,\u001b[0m \u001b[0mtrain\u001b[0m\u001b[1;33m[\u001b[0m\u001b[1;34m'YArray'\u001b[0m\u001b[1;33m]\u001b[0m\u001b[1;33m)\u001b[0m\u001b[1;33m\u001b[0m\u001b[1;33m\u001b[0m\u001b[0m\n\u001b[0m\u001b[0;32m     10\u001b[0m \u001b[1;33m\u001b[0m\u001b[0m\n\u001b[0;32m     11\u001b[0m \u001b[0mprint\u001b[0m\u001b[1;33m(\u001b[0m\u001b[1;34m'best params:'\u001b[0m\u001b[1;33m,\u001b[0m \u001b[0mrs\u001b[0m\u001b[1;33m.\u001b[0m\u001b[0mbest_params_\u001b[0m\u001b[1;33m)\u001b[0m\u001b[1;33m\u001b[0m\u001b[1;33m\u001b[0m\u001b[0m\n",
      "\u001b[1;32m~\\anaconda3\\lib\\site-packages\\sklearn\\utils\\validation.py\u001b[0m in \u001b[0;36minner_f\u001b[1;34m(*args, **kwargs)\u001b[0m\n\u001b[0;32m     61\u001b[0m             \u001b[0mextra_args\u001b[0m \u001b[1;33m=\u001b[0m \u001b[0mlen\u001b[0m\u001b[1;33m(\u001b[0m\u001b[0margs\u001b[0m\u001b[1;33m)\u001b[0m \u001b[1;33m-\u001b[0m \u001b[0mlen\u001b[0m\u001b[1;33m(\u001b[0m\u001b[0mall_args\u001b[0m\u001b[1;33m)\u001b[0m\u001b[1;33m\u001b[0m\u001b[1;33m\u001b[0m\u001b[0m\n\u001b[0;32m     62\u001b[0m             \u001b[1;32mif\u001b[0m \u001b[0mextra_args\u001b[0m \u001b[1;33m<=\u001b[0m \u001b[1;36m0\u001b[0m\u001b[1;33m:\u001b[0m\u001b[1;33m\u001b[0m\u001b[1;33m\u001b[0m\u001b[0m\n\u001b[1;32m---> 63\u001b[1;33m                 \u001b[1;32mreturn\u001b[0m \u001b[0mf\u001b[0m\u001b[1;33m(\u001b[0m\u001b[1;33m*\u001b[0m\u001b[0margs\u001b[0m\u001b[1;33m,\u001b[0m \u001b[1;33m**\u001b[0m\u001b[0mkwargs\u001b[0m\u001b[1;33m)\u001b[0m\u001b[1;33m\u001b[0m\u001b[1;33m\u001b[0m\u001b[0m\n\u001b[0m\u001b[0;32m     64\u001b[0m \u001b[1;33m\u001b[0m\u001b[0m\n\u001b[0;32m     65\u001b[0m             \u001b[1;31m# extra_args > 0\u001b[0m\u001b[1;33m\u001b[0m\u001b[1;33m\u001b[0m\u001b[0m\n",
      "\u001b[1;32m~\\anaconda3\\lib\\site-packages\\sklearn\\model_selection\\_search.py\u001b[0m in \u001b[0;36mfit\u001b[1;34m(self, X, y, groups, **fit_params)\u001b[0m\n\u001b[0;32m    763\u001b[0m         \u001b[0mn_splits\u001b[0m \u001b[1;33m=\u001b[0m \u001b[0mcv_orig\u001b[0m\u001b[1;33m.\u001b[0m\u001b[0mget_n_splits\u001b[0m\u001b[1;33m(\u001b[0m\u001b[0mX\u001b[0m\u001b[1;33m,\u001b[0m \u001b[0my\u001b[0m\u001b[1;33m,\u001b[0m \u001b[0mgroups\u001b[0m\u001b[1;33m)\u001b[0m\u001b[1;33m\u001b[0m\u001b[1;33m\u001b[0m\u001b[0m\n\u001b[0;32m    764\u001b[0m \u001b[1;33m\u001b[0m\u001b[0m\n\u001b[1;32m--> 765\u001b[1;33m         \u001b[0mbase_estimator\u001b[0m \u001b[1;33m=\u001b[0m \u001b[0mclone\u001b[0m\u001b[1;33m(\u001b[0m\u001b[0mself\u001b[0m\u001b[1;33m.\u001b[0m\u001b[0mestimator\u001b[0m\u001b[1;33m)\u001b[0m\u001b[1;33m\u001b[0m\u001b[1;33m\u001b[0m\u001b[0m\n\u001b[0m\u001b[0;32m    766\u001b[0m \u001b[1;33m\u001b[0m\u001b[0m\n\u001b[0;32m    767\u001b[0m         parallel = Parallel(n_jobs=self.n_jobs,\n",
      "\u001b[1;32m~\\anaconda3\\lib\\site-packages\\sklearn\\utils\\validation.py\u001b[0m in \u001b[0;36minner_f\u001b[1;34m(*args, **kwargs)\u001b[0m\n\u001b[0;32m     61\u001b[0m             \u001b[0mextra_args\u001b[0m \u001b[1;33m=\u001b[0m \u001b[0mlen\u001b[0m\u001b[1;33m(\u001b[0m\u001b[0margs\u001b[0m\u001b[1;33m)\u001b[0m \u001b[1;33m-\u001b[0m \u001b[0mlen\u001b[0m\u001b[1;33m(\u001b[0m\u001b[0mall_args\u001b[0m\u001b[1;33m)\u001b[0m\u001b[1;33m\u001b[0m\u001b[1;33m\u001b[0m\u001b[0m\n\u001b[0;32m     62\u001b[0m             \u001b[1;32mif\u001b[0m \u001b[0mextra_args\u001b[0m \u001b[1;33m<=\u001b[0m \u001b[1;36m0\u001b[0m\u001b[1;33m:\u001b[0m\u001b[1;33m\u001b[0m\u001b[1;33m\u001b[0m\u001b[0m\n\u001b[1;32m---> 63\u001b[1;33m                 \u001b[1;32mreturn\u001b[0m \u001b[0mf\u001b[0m\u001b[1;33m(\u001b[0m\u001b[1;33m*\u001b[0m\u001b[0margs\u001b[0m\u001b[1;33m,\u001b[0m \u001b[1;33m**\u001b[0m\u001b[0mkwargs\u001b[0m\u001b[1;33m)\u001b[0m\u001b[1;33m\u001b[0m\u001b[1;33m\u001b[0m\u001b[0m\n\u001b[0m\u001b[0;32m     64\u001b[0m \u001b[1;33m\u001b[0m\u001b[0m\n\u001b[0;32m     65\u001b[0m             \u001b[1;31m# extra_args > 0\u001b[0m\u001b[1;33m\u001b[0m\u001b[1;33m\u001b[0m\u001b[0m\n",
      "\u001b[1;32m~\\anaconda3\\lib\\site-packages\\sklearn\\base.py\u001b[0m in \u001b[0;36mclone\u001b[1;34m(estimator, safe)\u001b[0m\n\u001b[0;32m     72\u001b[0m \u001b[1;33m\u001b[0m\u001b[0m\n\u001b[0;32m     73\u001b[0m     \u001b[0mklass\u001b[0m \u001b[1;33m=\u001b[0m \u001b[0mestimator\u001b[0m\u001b[1;33m.\u001b[0m\u001b[0m__class__\u001b[0m\u001b[1;33m\u001b[0m\u001b[1;33m\u001b[0m\u001b[0m\n\u001b[1;32m---> 74\u001b[1;33m     \u001b[0mnew_object_params\u001b[0m \u001b[1;33m=\u001b[0m \u001b[0mestimator\u001b[0m\u001b[1;33m.\u001b[0m\u001b[0mget_params\u001b[0m\u001b[1;33m(\u001b[0m\u001b[0mdeep\u001b[0m\u001b[1;33m=\u001b[0m\u001b[1;32mFalse\u001b[0m\u001b[1;33m)\u001b[0m\u001b[1;33m\u001b[0m\u001b[1;33m\u001b[0m\u001b[0m\n\u001b[0m\u001b[0;32m     75\u001b[0m     \u001b[1;32mfor\u001b[0m \u001b[0mname\u001b[0m\u001b[1;33m,\u001b[0m \u001b[0mparam\u001b[0m \u001b[1;32min\u001b[0m \u001b[0mnew_object_params\u001b[0m\u001b[1;33m.\u001b[0m\u001b[0mitems\u001b[0m\u001b[1;33m(\u001b[0m\u001b[1;33m)\u001b[0m\u001b[1;33m:\u001b[0m\u001b[1;33m\u001b[0m\u001b[1;33m\u001b[0m\u001b[0m\n\u001b[0;32m     76\u001b[0m         \u001b[0mnew_object_params\u001b[0m\u001b[1;33m[\u001b[0m\u001b[0mname\u001b[0m\u001b[1;33m]\u001b[0m \u001b[1;33m=\u001b[0m \u001b[0mclone\u001b[0m\u001b[1;33m(\u001b[0m\u001b[0mparam\u001b[0m\u001b[1;33m,\u001b[0m \u001b[0msafe\u001b[0m\u001b[1;33m=\u001b[0m\u001b[1;32mFalse\u001b[0m\u001b[1;33m)\u001b[0m\u001b[1;33m\u001b[0m\u001b[1;33m\u001b[0m\u001b[0m\n",
      "\u001b[1;32m~\\anaconda3\\lib\\site-packages\\sklearn\\base.py\u001b[0m in \u001b[0;36mget_params\u001b[1;34m(self, deep)\u001b[0m\n\u001b[0;32m    193\u001b[0m         \u001b[0mout\u001b[0m \u001b[1;33m=\u001b[0m \u001b[0mdict\u001b[0m\u001b[1;33m(\u001b[0m\u001b[1;33m)\u001b[0m\u001b[1;33m\u001b[0m\u001b[1;33m\u001b[0m\u001b[0m\n\u001b[0;32m    194\u001b[0m         \u001b[1;32mfor\u001b[0m \u001b[0mkey\u001b[0m \u001b[1;32min\u001b[0m \u001b[0mself\u001b[0m\u001b[1;33m.\u001b[0m\u001b[0m_get_param_names\u001b[0m\u001b[1;33m(\u001b[0m\u001b[1;33m)\u001b[0m\u001b[1;33m:\u001b[0m\u001b[1;33m\u001b[0m\u001b[1;33m\u001b[0m\u001b[0m\n\u001b[1;32m--> 195\u001b[1;33m             \u001b[0mvalue\u001b[0m \u001b[1;33m=\u001b[0m \u001b[0mgetattr\u001b[0m\u001b[1;33m(\u001b[0m\u001b[0mself\u001b[0m\u001b[1;33m,\u001b[0m \u001b[0mkey\u001b[0m\u001b[1;33m)\u001b[0m\u001b[1;33m\u001b[0m\u001b[1;33m\u001b[0m\u001b[0m\n\u001b[0m\u001b[0;32m    196\u001b[0m             \u001b[1;32mif\u001b[0m \u001b[0mdeep\u001b[0m \u001b[1;32mand\u001b[0m \u001b[0mhasattr\u001b[0m\u001b[1;33m(\u001b[0m\u001b[0mvalue\u001b[0m\u001b[1;33m,\u001b[0m \u001b[1;34m'get_params'\u001b[0m\u001b[1;33m)\u001b[0m\u001b[1;33m:\u001b[0m\u001b[1;33m\u001b[0m\u001b[1;33m\u001b[0m\u001b[0m\n\u001b[0;32m    197\u001b[0m                 \u001b[0mdeep_items\u001b[0m \u001b[1;33m=\u001b[0m \u001b[0mvalue\u001b[0m\u001b[1;33m.\u001b[0m\u001b[0mget_params\u001b[0m\u001b[1;33m(\u001b[0m\u001b[1;33m)\u001b[0m\u001b[1;33m.\u001b[0m\u001b[0mitems\u001b[0m\u001b[1;33m(\u001b[0m\u001b[1;33m)\u001b[0m\u001b[1;33m\u001b[0m\u001b[1;33m\u001b[0m\u001b[0m\n",
      "\u001b[1;31mAttributeError\u001b[0m: 'CRF' object has no attribute 'keep_tempfiles'"
     ]
    }
   ],
   "source": [
    "crf = CRF(algorithm='lbfgs',max_iterations=100,all_possible_transitions=True)\n",
    "params_space = {'c1': scipy.stats.expon(scale=0.5),'c2': scipy.stats.expon(scale=0.5)}\n",
    "\n",
    "# use the same metric for evaluation\n",
    "f1_scorer = make_scorer(metrics.flat_f1_score,average='weighted')\n",
    "\n",
    "# search\n",
    "rs = RandomizedSearchCV(crf, params_space,cv=3,verbose=1,scoring=f1_scorer,n_iter=3)\n",
    "rs.fit(train['XArray'], train['YArray'])\n",
    "\n",
    "print('best params:', rs.best_params_)\n",
    "print('best CV score:', rs.best_score_)\n",
    "print('model size: {:0.2f}M'.format(rs.best_estimator_.size_ / 1000000))\n",
    "    \n",
    "crfTrain = rs.best_estimator_\n",
    "print('Predict the test set')\n",
    "y_pred = crfTrain.predict(test['XArray'])\n",
    "\n",
    "# calculate accuracy on prediction\n",
    "labels = list(crfTrain.classes_)\n",
    "labels.remove('O')\n",
    "acc=metrics.flat_f1_score(test['YArray'], y_pred,average='weighted', labels=labels)\n",
    "\n",
    "# Confusion matrix\n",
    "sorted_labels = sorted(labels,key=lambda name: (name[1:], name[0]))\n",
    "Y_testList = list(itertools.chain.from_iterable(test['YArray']))\n",
    "Y_predList = list(itertools.chain.from_iterable(y_pred))\n",
    "conf = confusion_matrix(Y_testList, Y_predList, labels=labels)\n",
    "format_con={'data': {'class_labels': sorted_labels,'matrix':conf.tolist()},'schema_type': 'confusion_matrix','schema_version': 'v1'}\n",
    "print(conf)"
   ]
  },
  {
   "cell_type": "code",
   "execution_count": 170,
   "metadata": {},
   "outputs": [
    {
     "ename": "AttributeError",
     "evalue": "'RandomizedSearchCV' object has no attribute 'best_estimator_'",
     "output_type": "error",
     "traceback": [
      "\u001b[1;31m---------------------------------------------------------------------------\u001b[0m",
      "\u001b[1;31mAttributeError\u001b[0m                            Traceback (most recent call last)",
      "\u001b[1;32mC:\\Users\\RAVIKU~1\\AppData\\Local\\Temp/ipykernel_12716/173180201.py\u001b[0m in \u001b[0;36m<module>\u001b[1;34m\u001b[0m\n\u001b[1;32m----> 1\u001b[1;33m \u001b[0mprint\u001b[0m\u001b[1;33m(\u001b[0m\u001b[1;34m'best params:'\u001b[0m\u001b[1;33m,\u001b[0m \u001b[0mrs\u001b[0m\u001b[1;33m.\u001b[0m\u001b[0mbest_estimator_\u001b[0m\u001b[1;33m)\u001b[0m\u001b[1;33m\u001b[0m\u001b[1;33m\u001b[0m\u001b[0m\n\u001b[0m\u001b[0;32m      2\u001b[0m \u001b[0mprint\u001b[0m\u001b[1;33m(\u001b[0m\u001b[1;34m'best CV score:'\u001b[0m\u001b[1;33m,\u001b[0m \u001b[0mrs\u001b[0m\u001b[1;33m.\u001b[0m\u001b[0mbest_score_\u001b[0m\u001b[1;33m)\u001b[0m\u001b[1;33m\u001b[0m\u001b[1;33m\u001b[0m\u001b[0m\n\u001b[0;32m      3\u001b[0m \u001b[0mprint\u001b[0m\u001b[1;33m(\u001b[0m\u001b[1;34m'model size: {:0.2f}M'\u001b[0m\u001b[1;33m.\u001b[0m\u001b[0mformat\u001b[0m\u001b[1;33m(\u001b[0m\u001b[0mrs\u001b[0m\u001b[1;33m.\u001b[0m\u001b[0mbest_estimator_\u001b[0m\u001b[1;33m.\u001b[0m\u001b[0msize_\u001b[0m \u001b[1;33m/\u001b[0m \u001b[1;36m1000000\u001b[0m\u001b[1;33m)\u001b[0m\u001b[1;33m)\u001b[0m\u001b[1;33m\u001b[0m\u001b[1;33m\u001b[0m\u001b[0m\n",
      "\u001b[1;31mAttributeError\u001b[0m: 'RandomizedSearchCV' object has no attribute 'best_estimator_'"
     ]
    }
   ],
   "source": [
    "print('best params:', rs.best_estimator_)\n",
    "print('best CV score:', rs.best_score_)\n",
    "print('model size: {:0.2f}M'.format(rs.best_estimator_.size_ / 1000000))"
   ]
  },
  {
   "cell_type": "code",
   "execution_count": null,
   "metadata": {},
   "outputs": [],
   "source": [
    "\n",
    "    \n",
    "crfTrain = rs.best_estimator_\n",
    "print('Predict the test set')\n",
    "y_pred = crfTrain.predict(test['XArray'])\n",
    "\n",
    "# calculate accuracy on prediction\n",
    "labels = list(crfTrain.classes_)\n",
    "labels.remove('O')\n",
    "acc=metrics.flat_f1_score(test['YArray'], y_pred,average='weighted', labels=labels)\n",
    "\n",
    "# Confusion matrix\n",
    "sorted_labels = sorted(labels,key=lambda name: (name[1:], name[0]))\n",
    "Y_testList = list(itertools.chain.from_iterable(test['YArray']))\n",
    "Y_predList = list(itertools.chain.from_iterable(y_pred))\n",
    "conf = confusion_matrix(Y_testList, Y_predList, labels=labels)\n",
    "format_con={'data': {'class_labels': sorted_labels,'matrix':conf.tolist()},'schema_type': 'confusion_matrix','schema_version': 'v1'}\n",
    "print(conf)"
   ]
  },
  {
   "cell_type": "code",
   "execution_count": 164,
   "metadata": {},
   "outputs": [
    {
     "ename": "AttributeError",
     "evalue": "'CRF' object has no attribute 'keep_tempfiles'",
     "output_type": "error",
     "traceback": [
      "\u001b[1;31m---------------------------------------------------------------------------\u001b[0m",
      "\u001b[1;31mAttributeError\u001b[0m                            Traceback (most recent call last)",
      "\u001b[1;32m~\\anaconda3\\lib\\site-packages\\IPython\\core\\formatters.py\u001b[0m in \u001b[0;36m__call__\u001b[1;34m(self, obj, include, exclude)\u001b[0m\n\u001b[0;32m    968\u001b[0m \u001b[1;33m\u001b[0m\u001b[0m\n\u001b[0;32m    969\u001b[0m             \u001b[1;32mif\u001b[0m \u001b[0mmethod\u001b[0m \u001b[1;32mis\u001b[0m \u001b[1;32mnot\u001b[0m \u001b[1;32mNone\u001b[0m\u001b[1;33m:\u001b[0m\u001b[1;33m\u001b[0m\u001b[1;33m\u001b[0m\u001b[0m\n\u001b[1;32m--> 970\u001b[1;33m                 \u001b[1;32mreturn\u001b[0m \u001b[0mmethod\u001b[0m\u001b[1;33m(\u001b[0m\u001b[0minclude\u001b[0m\u001b[1;33m=\u001b[0m\u001b[0minclude\u001b[0m\u001b[1;33m,\u001b[0m \u001b[0mexclude\u001b[0m\u001b[1;33m=\u001b[0m\u001b[0mexclude\u001b[0m\u001b[1;33m)\u001b[0m\u001b[1;33m\u001b[0m\u001b[1;33m\u001b[0m\u001b[0m\n\u001b[0m\u001b[0;32m    971\u001b[0m             \u001b[1;32mreturn\u001b[0m \u001b[1;32mNone\u001b[0m\u001b[1;33m\u001b[0m\u001b[1;33m\u001b[0m\u001b[0m\n\u001b[0;32m    972\u001b[0m         \u001b[1;32melse\u001b[0m\u001b[1;33m:\u001b[0m\u001b[1;33m\u001b[0m\u001b[1;33m\u001b[0m\u001b[0m\n",
      "\u001b[1;32m~\\anaconda3\\lib\\site-packages\\sklearn\\base.py\u001b[0m in \u001b[0;36m_repr_mimebundle_\u001b[1;34m(self, **kwargs)\u001b[0m\n\u001b[0;32m    462\u001b[0m     \u001b[1;32mdef\u001b[0m \u001b[0m_repr_mimebundle_\u001b[0m\u001b[1;33m(\u001b[0m\u001b[0mself\u001b[0m\u001b[1;33m,\u001b[0m \u001b[1;33m**\u001b[0m\u001b[0mkwargs\u001b[0m\u001b[1;33m)\u001b[0m\u001b[1;33m:\u001b[0m\u001b[1;33m\u001b[0m\u001b[1;33m\u001b[0m\u001b[0m\n\u001b[0;32m    463\u001b[0m         \u001b[1;34m\"\"\"Mime bundle used by jupyter kernels to display estimator\"\"\"\u001b[0m\u001b[1;33m\u001b[0m\u001b[1;33m\u001b[0m\u001b[0m\n\u001b[1;32m--> 464\u001b[1;33m         \u001b[0moutput\u001b[0m \u001b[1;33m=\u001b[0m \u001b[1;33m{\u001b[0m\u001b[1;34m\"text/plain\"\u001b[0m\u001b[1;33m:\u001b[0m \u001b[0mrepr\u001b[0m\u001b[1;33m(\u001b[0m\u001b[0mself\u001b[0m\u001b[1;33m)\u001b[0m\u001b[1;33m}\u001b[0m\u001b[1;33m\u001b[0m\u001b[1;33m\u001b[0m\u001b[0m\n\u001b[0m\u001b[0;32m    465\u001b[0m         \u001b[1;32mif\u001b[0m \u001b[0mget_config\u001b[0m\u001b[1;33m(\u001b[0m\u001b[1;33m)\u001b[0m\u001b[1;33m[\u001b[0m\u001b[1;34m\"display\"\u001b[0m\u001b[1;33m]\u001b[0m \u001b[1;33m==\u001b[0m \u001b[1;34m'diagram'\u001b[0m\u001b[1;33m:\u001b[0m\u001b[1;33m\u001b[0m\u001b[1;33m\u001b[0m\u001b[0m\n\u001b[0;32m    466\u001b[0m             \u001b[0moutput\u001b[0m\u001b[1;33m[\u001b[0m\u001b[1;34m\"text/html\"\u001b[0m\u001b[1;33m]\u001b[0m \u001b[1;33m=\u001b[0m \u001b[0mestimator_html_repr\u001b[0m\u001b[1;33m(\u001b[0m\u001b[0mself\u001b[0m\u001b[1;33m)\u001b[0m\u001b[1;33m\u001b[0m\u001b[1;33m\u001b[0m\u001b[0m\n",
      "\u001b[1;32m~\\anaconda3\\lib\\site-packages\\sklearn\\base.py\u001b[0m in \u001b[0;36m__repr__\u001b[1;34m(self, N_CHAR_MAX)\u001b[0m\n\u001b[0;32m    258\u001b[0m             n_max_elements_to_show=N_MAX_ELEMENTS_TO_SHOW)\n\u001b[0;32m    259\u001b[0m \u001b[1;33m\u001b[0m\u001b[0m\n\u001b[1;32m--> 260\u001b[1;33m         \u001b[0mrepr_\u001b[0m \u001b[1;33m=\u001b[0m \u001b[0mpp\u001b[0m\u001b[1;33m.\u001b[0m\u001b[0mpformat\u001b[0m\u001b[1;33m(\u001b[0m\u001b[0mself\u001b[0m\u001b[1;33m)\u001b[0m\u001b[1;33m\u001b[0m\u001b[1;33m\u001b[0m\u001b[0m\n\u001b[0m\u001b[0;32m    261\u001b[0m \u001b[1;33m\u001b[0m\u001b[0m\n\u001b[0;32m    262\u001b[0m         \u001b[1;31m# Use bruteforce ellipsis when there are a lot of non-blank characters\u001b[0m\u001b[1;33m\u001b[0m\u001b[1;33m\u001b[0m\u001b[0m\n",
      "\u001b[1;32m~\\anaconda3\\lib\\pprint.py\u001b[0m in \u001b[0;36mpformat\u001b[1;34m(self, object)\u001b[0m\n\u001b[0;32m    151\u001b[0m     \u001b[1;32mdef\u001b[0m \u001b[0mpformat\u001b[0m\u001b[1;33m(\u001b[0m\u001b[0mself\u001b[0m\u001b[1;33m,\u001b[0m \u001b[0mobject\u001b[0m\u001b[1;33m)\u001b[0m\u001b[1;33m:\u001b[0m\u001b[1;33m\u001b[0m\u001b[1;33m\u001b[0m\u001b[0m\n\u001b[0;32m    152\u001b[0m         \u001b[0msio\u001b[0m \u001b[1;33m=\u001b[0m \u001b[0m_StringIO\u001b[0m\u001b[1;33m(\u001b[0m\u001b[1;33m)\u001b[0m\u001b[1;33m\u001b[0m\u001b[1;33m\u001b[0m\u001b[0m\n\u001b[1;32m--> 153\u001b[1;33m         \u001b[0mself\u001b[0m\u001b[1;33m.\u001b[0m\u001b[0m_format\u001b[0m\u001b[1;33m(\u001b[0m\u001b[0mobject\u001b[0m\u001b[1;33m,\u001b[0m \u001b[0msio\u001b[0m\u001b[1;33m,\u001b[0m \u001b[1;36m0\u001b[0m\u001b[1;33m,\u001b[0m \u001b[1;36m0\u001b[0m\u001b[1;33m,\u001b[0m \u001b[1;33m{\u001b[0m\u001b[1;33m}\u001b[0m\u001b[1;33m,\u001b[0m \u001b[1;36m0\u001b[0m\u001b[1;33m)\u001b[0m\u001b[1;33m\u001b[0m\u001b[1;33m\u001b[0m\u001b[0m\n\u001b[0m\u001b[0;32m    154\u001b[0m         \u001b[1;32mreturn\u001b[0m \u001b[0msio\u001b[0m\u001b[1;33m.\u001b[0m\u001b[0mgetvalue\u001b[0m\u001b[1;33m(\u001b[0m\u001b[1;33m)\u001b[0m\u001b[1;33m\u001b[0m\u001b[1;33m\u001b[0m\u001b[0m\n\u001b[0;32m    155\u001b[0m \u001b[1;33m\u001b[0m\u001b[0m\n",
      "\u001b[1;32m~\\anaconda3\\lib\\pprint.py\u001b[0m in \u001b[0;36m_format\u001b[1;34m(self, object, stream, indent, allowance, context, level)\u001b[0m\n\u001b[0;32m    168\u001b[0m             \u001b[0mself\u001b[0m\u001b[1;33m.\u001b[0m\u001b[0m_readable\u001b[0m \u001b[1;33m=\u001b[0m \u001b[1;32mFalse\u001b[0m\u001b[1;33m\u001b[0m\u001b[1;33m\u001b[0m\u001b[0m\n\u001b[0;32m    169\u001b[0m             \u001b[1;32mreturn\u001b[0m\u001b[1;33m\u001b[0m\u001b[1;33m\u001b[0m\u001b[0m\n\u001b[1;32m--> 170\u001b[1;33m         \u001b[0mrep\u001b[0m \u001b[1;33m=\u001b[0m \u001b[0mself\u001b[0m\u001b[1;33m.\u001b[0m\u001b[0m_repr\u001b[0m\u001b[1;33m(\u001b[0m\u001b[0mobject\u001b[0m\u001b[1;33m,\u001b[0m \u001b[0mcontext\u001b[0m\u001b[1;33m,\u001b[0m \u001b[0mlevel\u001b[0m\u001b[1;33m)\u001b[0m\u001b[1;33m\u001b[0m\u001b[1;33m\u001b[0m\u001b[0m\n\u001b[0m\u001b[0;32m    171\u001b[0m         \u001b[0mmax_width\u001b[0m \u001b[1;33m=\u001b[0m \u001b[0mself\u001b[0m\u001b[1;33m.\u001b[0m\u001b[0m_width\u001b[0m \u001b[1;33m-\u001b[0m \u001b[0mindent\u001b[0m \u001b[1;33m-\u001b[0m \u001b[0mallowance\u001b[0m\u001b[1;33m\u001b[0m\u001b[1;33m\u001b[0m\u001b[0m\n\u001b[0;32m    172\u001b[0m         \u001b[1;32mif\u001b[0m \u001b[0mlen\u001b[0m\u001b[1;33m(\u001b[0m\u001b[0mrep\u001b[0m\u001b[1;33m)\u001b[0m \u001b[1;33m>\u001b[0m \u001b[0mmax_width\u001b[0m\u001b[1;33m:\u001b[0m\u001b[1;33m\u001b[0m\u001b[1;33m\u001b[0m\u001b[0m\n",
      "\u001b[1;32m~\\anaconda3\\lib\\pprint.py\u001b[0m in \u001b[0;36m_repr\u001b[1;34m(self, object, context, level)\u001b[0m\n\u001b[0;32m    429\u001b[0m \u001b[1;33m\u001b[0m\u001b[0m\n\u001b[0;32m    430\u001b[0m     \u001b[1;32mdef\u001b[0m \u001b[0m_repr\u001b[0m\u001b[1;33m(\u001b[0m\u001b[0mself\u001b[0m\u001b[1;33m,\u001b[0m \u001b[0mobject\u001b[0m\u001b[1;33m,\u001b[0m \u001b[0mcontext\u001b[0m\u001b[1;33m,\u001b[0m \u001b[0mlevel\u001b[0m\u001b[1;33m)\u001b[0m\u001b[1;33m:\u001b[0m\u001b[1;33m\u001b[0m\u001b[1;33m\u001b[0m\u001b[0m\n\u001b[1;32m--> 431\u001b[1;33m         repr, readable, recursive = self.format(object, context.copy(),\n\u001b[0m\u001b[0;32m    432\u001b[0m                                                 self._depth, level)\n\u001b[0;32m    433\u001b[0m         \u001b[1;32mif\u001b[0m \u001b[1;32mnot\u001b[0m \u001b[0mreadable\u001b[0m\u001b[1;33m:\u001b[0m\u001b[1;33m\u001b[0m\u001b[1;33m\u001b[0m\u001b[0m\n",
      "\u001b[1;32m~\\anaconda3\\lib\\site-packages\\sklearn\\utils\\_pprint.py\u001b[0m in \u001b[0;36mformat\u001b[1;34m(self, object, context, maxlevels, level)\u001b[0m\n\u001b[0;32m    178\u001b[0m \u001b[1;33m\u001b[0m\u001b[0m\n\u001b[0;32m    179\u001b[0m     \u001b[1;32mdef\u001b[0m \u001b[0mformat\u001b[0m\u001b[1;33m(\u001b[0m\u001b[0mself\u001b[0m\u001b[1;33m,\u001b[0m \u001b[0mobject\u001b[0m\u001b[1;33m,\u001b[0m \u001b[0mcontext\u001b[0m\u001b[1;33m,\u001b[0m \u001b[0mmaxlevels\u001b[0m\u001b[1;33m,\u001b[0m \u001b[0mlevel\u001b[0m\u001b[1;33m)\u001b[0m\u001b[1;33m:\u001b[0m\u001b[1;33m\u001b[0m\u001b[1;33m\u001b[0m\u001b[0m\n\u001b[1;32m--> 180\u001b[1;33m         return _safe_repr(object, context, maxlevels, level,\n\u001b[0m\u001b[0;32m    181\u001b[0m                           changed_only=self._changed_only)\n\u001b[0;32m    182\u001b[0m \u001b[1;33m\u001b[0m\u001b[0m\n",
      "\u001b[1;32m~\\anaconda3\\lib\\site-packages\\sklearn\\utils\\_pprint.py\u001b[0m in \u001b[0;36m_safe_repr\u001b[1;34m(object, context, maxlevels, level, changed_only)\u001b[0m\n\u001b[0;32m    434\u001b[0m             krepr, kreadable, krecur = saferepr(\n\u001b[0;32m    435\u001b[0m                 k, context, maxlevels, level, changed_only=changed_only)\n\u001b[1;32m--> 436\u001b[1;33m             vrepr, vreadable, vrecur = saferepr(\n\u001b[0m\u001b[0;32m    437\u001b[0m                 v, context, maxlevels, level, changed_only=changed_only)\n\u001b[0;32m    438\u001b[0m             \u001b[0mappend\u001b[0m\u001b[1;33m(\u001b[0m\u001b[1;34m\"%s=%s\"\u001b[0m \u001b[1;33m%\u001b[0m \u001b[1;33m(\u001b[0m\u001b[0mkrepr\u001b[0m\u001b[1;33m.\u001b[0m\u001b[0mstrip\u001b[0m\u001b[1;33m(\u001b[0m\u001b[1;34m\"'\"\u001b[0m\u001b[1;33m)\u001b[0m\u001b[1;33m,\u001b[0m \u001b[0mvrepr\u001b[0m\u001b[1;33m)\u001b[0m\u001b[1;33m)\u001b[0m\u001b[1;33m\u001b[0m\u001b[1;33m\u001b[0m\u001b[0m\n",
      "\u001b[1;32m~\\anaconda3\\lib\\site-packages\\sklearn\\utils\\_pprint.py\u001b[0m in \u001b[0;36m_safe_repr\u001b[1;34m(object, context, maxlevels, level, changed_only)\u001b[0m\n\u001b[0;32m    423\u001b[0m         \u001b[0mrecursive\u001b[0m \u001b[1;33m=\u001b[0m \u001b[1;32mFalse\u001b[0m\u001b[1;33m\u001b[0m\u001b[1;33m\u001b[0m\u001b[0m\n\u001b[0;32m    424\u001b[0m         \u001b[1;32mif\u001b[0m \u001b[0mchanged_only\u001b[0m\u001b[1;33m:\u001b[0m\u001b[1;33m\u001b[0m\u001b[1;33m\u001b[0m\u001b[0m\n\u001b[1;32m--> 425\u001b[1;33m             \u001b[0mparams\u001b[0m \u001b[1;33m=\u001b[0m \u001b[0m_changed_params\u001b[0m\u001b[1;33m(\u001b[0m\u001b[0mobject\u001b[0m\u001b[1;33m)\u001b[0m\u001b[1;33m\u001b[0m\u001b[1;33m\u001b[0m\u001b[0m\n\u001b[0m\u001b[0;32m    426\u001b[0m         \u001b[1;32melse\u001b[0m\u001b[1;33m:\u001b[0m\u001b[1;33m\u001b[0m\u001b[1;33m\u001b[0m\u001b[0m\n\u001b[0;32m    427\u001b[0m             \u001b[0mparams\u001b[0m \u001b[1;33m=\u001b[0m \u001b[0mobject\u001b[0m\u001b[1;33m.\u001b[0m\u001b[0mget_params\u001b[0m\u001b[1;33m(\u001b[0m\u001b[0mdeep\u001b[0m\u001b[1;33m=\u001b[0m\u001b[1;32mFalse\u001b[0m\u001b[1;33m)\u001b[0m\u001b[1;33m\u001b[0m\u001b[1;33m\u001b[0m\u001b[0m\n",
      "\u001b[1;32m~\\anaconda3\\lib\\site-packages\\sklearn\\utils\\_pprint.py\u001b[0m in \u001b[0;36m_changed_params\u001b[1;34m(estimator)\u001b[0m\n\u001b[0;32m     89\u001b[0m     estimator with non-default values.\"\"\"\n\u001b[0;32m     90\u001b[0m \u001b[1;33m\u001b[0m\u001b[0m\n\u001b[1;32m---> 91\u001b[1;33m     \u001b[0mparams\u001b[0m \u001b[1;33m=\u001b[0m \u001b[0mestimator\u001b[0m\u001b[1;33m.\u001b[0m\u001b[0mget_params\u001b[0m\u001b[1;33m(\u001b[0m\u001b[0mdeep\u001b[0m\u001b[1;33m=\u001b[0m\u001b[1;32mFalse\u001b[0m\u001b[1;33m)\u001b[0m\u001b[1;33m\u001b[0m\u001b[1;33m\u001b[0m\u001b[0m\n\u001b[0m\u001b[0;32m     92\u001b[0m     init_func = getattr(estimator.__init__, 'deprecated_original',\n\u001b[0;32m     93\u001b[0m                         estimator.__init__)\n",
      "\u001b[1;32m~\\anaconda3\\lib\\site-packages\\sklearn\\base.py\u001b[0m in \u001b[0;36mget_params\u001b[1;34m(self, deep)\u001b[0m\n\u001b[0;32m    193\u001b[0m         \u001b[0mout\u001b[0m \u001b[1;33m=\u001b[0m \u001b[0mdict\u001b[0m\u001b[1;33m(\u001b[0m\u001b[1;33m)\u001b[0m\u001b[1;33m\u001b[0m\u001b[1;33m\u001b[0m\u001b[0m\n\u001b[0;32m    194\u001b[0m         \u001b[1;32mfor\u001b[0m \u001b[0mkey\u001b[0m \u001b[1;32min\u001b[0m \u001b[0mself\u001b[0m\u001b[1;33m.\u001b[0m\u001b[0m_get_param_names\u001b[0m\u001b[1;33m(\u001b[0m\u001b[1;33m)\u001b[0m\u001b[1;33m:\u001b[0m\u001b[1;33m\u001b[0m\u001b[1;33m\u001b[0m\u001b[0m\n\u001b[1;32m--> 195\u001b[1;33m             \u001b[0mvalue\u001b[0m \u001b[1;33m=\u001b[0m \u001b[0mgetattr\u001b[0m\u001b[1;33m(\u001b[0m\u001b[0mself\u001b[0m\u001b[1;33m,\u001b[0m \u001b[0mkey\u001b[0m\u001b[1;33m)\u001b[0m\u001b[1;33m\u001b[0m\u001b[1;33m\u001b[0m\u001b[0m\n\u001b[0m\u001b[0;32m    196\u001b[0m             \u001b[1;32mif\u001b[0m \u001b[0mdeep\u001b[0m \u001b[1;32mand\u001b[0m \u001b[0mhasattr\u001b[0m\u001b[1;33m(\u001b[0m\u001b[0mvalue\u001b[0m\u001b[1;33m,\u001b[0m \u001b[1;34m'get_params'\u001b[0m\u001b[1;33m)\u001b[0m\u001b[1;33m:\u001b[0m\u001b[1;33m\u001b[0m\u001b[1;33m\u001b[0m\u001b[0m\n\u001b[0;32m    197\u001b[0m                 \u001b[0mdeep_items\u001b[0m \u001b[1;33m=\u001b[0m \u001b[0mvalue\u001b[0m\u001b[1;33m.\u001b[0m\u001b[0mget_params\u001b[0m\u001b[1;33m(\u001b[0m\u001b[1;33m)\u001b[0m\u001b[1;33m.\u001b[0m\u001b[0mitems\u001b[0m\u001b[1;33m(\u001b[0m\u001b[1;33m)\u001b[0m\u001b[1;33m\u001b[0m\u001b[1;33m\u001b[0m\u001b[0m\n",
      "\u001b[1;31mAttributeError\u001b[0m: 'CRF' object has no attribute 'keep_tempfiles'"
     ]
    },
    {
     "ename": "AttributeError",
     "evalue": "'CRF' object has no attribute 'keep_tempfiles'",
     "output_type": "error",
     "traceback": [
      "\u001b[1;31m---------------------------------------------------------------------------\u001b[0m",
      "\u001b[1;31mAttributeError\u001b[0m                            Traceback (most recent call last)",
      "\u001b[1;32m~\\anaconda3\\lib\\site-packages\\IPython\\core\\formatters.py\u001b[0m in \u001b[0;36m__call__\u001b[1;34m(self, obj)\u001b[0m\n\u001b[0;32m    700\u001b[0m                 \u001b[0mtype_pprinters\u001b[0m\u001b[1;33m=\u001b[0m\u001b[0mself\u001b[0m\u001b[1;33m.\u001b[0m\u001b[0mtype_printers\u001b[0m\u001b[1;33m,\u001b[0m\u001b[1;33m\u001b[0m\u001b[1;33m\u001b[0m\u001b[0m\n\u001b[0;32m    701\u001b[0m                 deferred_pprinters=self.deferred_printers)\n\u001b[1;32m--> 702\u001b[1;33m             \u001b[0mprinter\u001b[0m\u001b[1;33m.\u001b[0m\u001b[0mpretty\u001b[0m\u001b[1;33m(\u001b[0m\u001b[0mobj\u001b[0m\u001b[1;33m)\u001b[0m\u001b[1;33m\u001b[0m\u001b[1;33m\u001b[0m\u001b[0m\n\u001b[0m\u001b[0;32m    703\u001b[0m             \u001b[0mprinter\u001b[0m\u001b[1;33m.\u001b[0m\u001b[0mflush\u001b[0m\u001b[1;33m(\u001b[0m\u001b[1;33m)\u001b[0m\u001b[1;33m\u001b[0m\u001b[1;33m\u001b[0m\u001b[0m\n\u001b[0;32m    704\u001b[0m             \u001b[1;32mreturn\u001b[0m \u001b[0mstream\u001b[0m\u001b[1;33m.\u001b[0m\u001b[0mgetvalue\u001b[0m\u001b[1;33m(\u001b[0m\u001b[1;33m)\u001b[0m\u001b[1;33m\u001b[0m\u001b[1;33m\u001b[0m\u001b[0m\n",
      "\u001b[1;32m~\\anaconda3\\lib\\site-packages\\IPython\\lib\\pretty.py\u001b[0m in \u001b[0;36mpretty\u001b[1;34m(self, obj)\u001b[0m\n\u001b[0;32m    392\u001b[0m                         \u001b[1;32mif\u001b[0m \u001b[0mcls\u001b[0m \u001b[1;32mis\u001b[0m \u001b[1;32mnot\u001b[0m \u001b[0mobject\u001b[0m\u001b[0;31m \u001b[0m\u001b[0;31m\\\u001b[0m\u001b[1;33m\u001b[0m\u001b[1;33m\u001b[0m\u001b[0m\n\u001b[0;32m    393\u001b[0m                                 \u001b[1;32mand\u001b[0m \u001b[0mcallable\u001b[0m\u001b[1;33m(\u001b[0m\u001b[0mcls\u001b[0m\u001b[1;33m.\u001b[0m\u001b[0m__dict__\u001b[0m\u001b[1;33m.\u001b[0m\u001b[0mget\u001b[0m\u001b[1;33m(\u001b[0m\u001b[1;34m'__repr__'\u001b[0m\u001b[1;33m)\u001b[0m\u001b[1;33m)\u001b[0m\u001b[1;33m:\u001b[0m\u001b[1;33m\u001b[0m\u001b[1;33m\u001b[0m\u001b[0m\n\u001b[1;32m--> 394\u001b[1;33m                             \u001b[1;32mreturn\u001b[0m \u001b[0m_repr_pprint\u001b[0m\u001b[1;33m(\u001b[0m\u001b[0mobj\u001b[0m\u001b[1;33m,\u001b[0m \u001b[0mself\u001b[0m\u001b[1;33m,\u001b[0m \u001b[0mcycle\u001b[0m\u001b[1;33m)\u001b[0m\u001b[1;33m\u001b[0m\u001b[1;33m\u001b[0m\u001b[0m\n\u001b[0m\u001b[0;32m    395\u001b[0m \u001b[1;33m\u001b[0m\u001b[0m\n\u001b[0;32m    396\u001b[0m             \u001b[1;32mreturn\u001b[0m \u001b[0m_default_pprint\u001b[0m\u001b[1;33m(\u001b[0m\u001b[0mobj\u001b[0m\u001b[1;33m,\u001b[0m \u001b[0mself\u001b[0m\u001b[1;33m,\u001b[0m \u001b[0mcycle\u001b[0m\u001b[1;33m)\u001b[0m\u001b[1;33m\u001b[0m\u001b[1;33m\u001b[0m\u001b[0m\n",
      "\u001b[1;32m~\\anaconda3\\lib\\site-packages\\IPython\\lib\\pretty.py\u001b[0m in \u001b[0;36m_repr_pprint\u001b[1;34m(obj, p, cycle)\u001b[0m\n\u001b[0;32m    698\u001b[0m     \u001b[1;34m\"\"\"A pprint that just redirects to the normal repr function.\"\"\"\u001b[0m\u001b[1;33m\u001b[0m\u001b[1;33m\u001b[0m\u001b[0m\n\u001b[0;32m    699\u001b[0m     \u001b[1;31m# Find newlines and replace them with p.break_()\u001b[0m\u001b[1;33m\u001b[0m\u001b[1;33m\u001b[0m\u001b[0m\n\u001b[1;32m--> 700\u001b[1;33m     \u001b[0moutput\u001b[0m \u001b[1;33m=\u001b[0m \u001b[0mrepr\u001b[0m\u001b[1;33m(\u001b[0m\u001b[0mobj\u001b[0m\u001b[1;33m)\u001b[0m\u001b[1;33m\u001b[0m\u001b[1;33m\u001b[0m\u001b[0m\n\u001b[0m\u001b[0;32m    701\u001b[0m     \u001b[0mlines\u001b[0m \u001b[1;33m=\u001b[0m \u001b[0moutput\u001b[0m\u001b[1;33m.\u001b[0m\u001b[0msplitlines\u001b[0m\u001b[1;33m(\u001b[0m\u001b[1;33m)\u001b[0m\u001b[1;33m\u001b[0m\u001b[1;33m\u001b[0m\u001b[0m\n\u001b[0;32m    702\u001b[0m     \u001b[1;32mwith\u001b[0m \u001b[0mp\u001b[0m\u001b[1;33m.\u001b[0m\u001b[0mgroup\u001b[0m\u001b[1;33m(\u001b[0m\u001b[1;33m)\u001b[0m\u001b[1;33m:\u001b[0m\u001b[1;33m\u001b[0m\u001b[1;33m\u001b[0m\u001b[0m\n",
      "\u001b[1;32m~\\anaconda3\\lib\\site-packages\\sklearn\\base.py\u001b[0m in \u001b[0;36m__repr__\u001b[1;34m(self, N_CHAR_MAX)\u001b[0m\n\u001b[0;32m    258\u001b[0m             n_max_elements_to_show=N_MAX_ELEMENTS_TO_SHOW)\n\u001b[0;32m    259\u001b[0m \u001b[1;33m\u001b[0m\u001b[0m\n\u001b[1;32m--> 260\u001b[1;33m         \u001b[0mrepr_\u001b[0m \u001b[1;33m=\u001b[0m \u001b[0mpp\u001b[0m\u001b[1;33m.\u001b[0m\u001b[0mpformat\u001b[0m\u001b[1;33m(\u001b[0m\u001b[0mself\u001b[0m\u001b[1;33m)\u001b[0m\u001b[1;33m\u001b[0m\u001b[1;33m\u001b[0m\u001b[0m\n\u001b[0m\u001b[0;32m    261\u001b[0m \u001b[1;33m\u001b[0m\u001b[0m\n\u001b[0;32m    262\u001b[0m         \u001b[1;31m# Use bruteforce ellipsis when there are a lot of non-blank characters\u001b[0m\u001b[1;33m\u001b[0m\u001b[1;33m\u001b[0m\u001b[0m\n",
      "\u001b[1;32m~\\anaconda3\\lib\\pprint.py\u001b[0m in \u001b[0;36mpformat\u001b[1;34m(self, object)\u001b[0m\n\u001b[0;32m    151\u001b[0m     \u001b[1;32mdef\u001b[0m \u001b[0mpformat\u001b[0m\u001b[1;33m(\u001b[0m\u001b[0mself\u001b[0m\u001b[1;33m,\u001b[0m \u001b[0mobject\u001b[0m\u001b[1;33m)\u001b[0m\u001b[1;33m:\u001b[0m\u001b[1;33m\u001b[0m\u001b[1;33m\u001b[0m\u001b[0m\n\u001b[0;32m    152\u001b[0m         \u001b[0msio\u001b[0m \u001b[1;33m=\u001b[0m \u001b[0m_StringIO\u001b[0m\u001b[1;33m(\u001b[0m\u001b[1;33m)\u001b[0m\u001b[1;33m\u001b[0m\u001b[1;33m\u001b[0m\u001b[0m\n\u001b[1;32m--> 153\u001b[1;33m         \u001b[0mself\u001b[0m\u001b[1;33m.\u001b[0m\u001b[0m_format\u001b[0m\u001b[1;33m(\u001b[0m\u001b[0mobject\u001b[0m\u001b[1;33m,\u001b[0m \u001b[0msio\u001b[0m\u001b[1;33m,\u001b[0m \u001b[1;36m0\u001b[0m\u001b[1;33m,\u001b[0m \u001b[1;36m0\u001b[0m\u001b[1;33m,\u001b[0m \u001b[1;33m{\u001b[0m\u001b[1;33m}\u001b[0m\u001b[1;33m,\u001b[0m \u001b[1;36m0\u001b[0m\u001b[1;33m)\u001b[0m\u001b[1;33m\u001b[0m\u001b[1;33m\u001b[0m\u001b[0m\n\u001b[0m\u001b[0;32m    154\u001b[0m         \u001b[1;32mreturn\u001b[0m \u001b[0msio\u001b[0m\u001b[1;33m.\u001b[0m\u001b[0mgetvalue\u001b[0m\u001b[1;33m(\u001b[0m\u001b[1;33m)\u001b[0m\u001b[1;33m\u001b[0m\u001b[1;33m\u001b[0m\u001b[0m\n\u001b[0;32m    155\u001b[0m \u001b[1;33m\u001b[0m\u001b[0m\n",
      "\u001b[1;32m~\\anaconda3\\lib\\pprint.py\u001b[0m in \u001b[0;36m_format\u001b[1;34m(self, object, stream, indent, allowance, context, level)\u001b[0m\n\u001b[0;32m    168\u001b[0m             \u001b[0mself\u001b[0m\u001b[1;33m.\u001b[0m\u001b[0m_readable\u001b[0m \u001b[1;33m=\u001b[0m \u001b[1;32mFalse\u001b[0m\u001b[1;33m\u001b[0m\u001b[1;33m\u001b[0m\u001b[0m\n\u001b[0;32m    169\u001b[0m             \u001b[1;32mreturn\u001b[0m\u001b[1;33m\u001b[0m\u001b[1;33m\u001b[0m\u001b[0m\n\u001b[1;32m--> 170\u001b[1;33m         \u001b[0mrep\u001b[0m \u001b[1;33m=\u001b[0m \u001b[0mself\u001b[0m\u001b[1;33m.\u001b[0m\u001b[0m_repr\u001b[0m\u001b[1;33m(\u001b[0m\u001b[0mobject\u001b[0m\u001b[1;33m,\u001b[0m \u001b[0mcontext\u001b[0m\u001b[1;33m,\u001b[0m \u001b[0mlevel\u001b[0m\u001b[1;33m)\u001b[0m\u001b[1;33m\u001b[0m\u001b[1;33m\u001b[0m\u001b[0m\n\u001b[0m\u001b[0;32m    171\u001b[0m         \u001b[0mmax_width\u001b[0m \u001b[1;33m=\u001b[0m \u001b[0mself\u001b[0m\u001b[1;33m.\u001b[0m\u001b[0m_width\u001b[0m \u001b[1;33m-\u001b[0m \u001b[0mindent\u001b[0m \u001b[1;33m-\u001b[0m \u001b[0mallowance\u001b[0m\u001b[1;33m\u001b[0m\u001b[1;33m\u001b[0m\u001b[0m\n\u001b[0;32m    172\u001b[0m         \u001b[1;32mif\u001b[0m \u001b[0mlen\u001b[0m\u001b[1;33m(\u001b[0m\u001b[0mrep\u001b[0m\u001b[1;33m)\u001b[0m \u001b[1;33m>\u001b[0m \u001b[0mmax_width\u001b[0m\u001b[1;33m:\u001b[0m\u001b[1;33m\u001b[0m\u001b[1;33m\u001b[0m\u001b[0m\n",
      "\u001b[1;32m~\\anaconda3\\lib\\pprint.py\u001b[0m in \u001b[0;36m_repr\u001b[1;34m(self, object, context, level)\u001b[0m\n\u001b[0;32m    429\u001b[0m \u001b[1;33m\u001b[0m\u001b[0m\n\u001b[0;32m    430\u001b[0m     \u001b[1;32mdef\u001b[0m \u001b[0m_repr\u001b[0m\u001b[1;33m(\u001b[0m\u001b[0mself\u001b[0m\u001b[1;33m,\u001b[0m \u001b[0mobject\u001b[0m\u001b[1;33m,\u001b[0m \u001b[0mcontext\u001b[0m\u001b[1;33m,\u001b[0m \u001b[0mlevel\u001b[0m\u001b[1;33m)\u001b[0m\u001b[1;33m:\u001b[0m\u001b[1;33m\u001b[0m\u001b[1;33m\u001b[0m\u001b[0m\n\u001b[1;32m--> 431\u001b[1;33m         repr, readable, recursive = self.format(object, context.copy(),\n\u001b[0m\u001b[0;32m    432\u001b[0m                                                 self._depth, level)\n\u001b[0;32m    433\u001b[0m         \u001b[1;32mif\u001b[0m \u001b[1;32mnot\u001b[0m \u001b[0mreadable\u001b[0m\u001b[1;33m:\u001b[0m\u001b[1;33m\u001b[0m\u001b[1;33m\u001b[0m\u001b[0m\n",
      "\u001b[1;32m~\\anaconda3\\lib\\site-packages\\sklearn\\utils\\_pprint.py\u001b[0m in \u001b[0;36mformat\u001b[1;34m(self, object, context, maxlevels, level)\u001b[0m\n\u001b[0;32m    178\u001b[0m \u001b[1;33m\u001b[0m\u001b[0m\n\u001b[0;32m    179\u001b[0m     \u001b[1;32mdef\u001b[0m \u001b[0mformat\u001b[0m\u001b[1;33m(\u001b[0m\u001b[0mself\u001b[0m\u001b[1;33m,\u001b[0m \u001b[0mobject\u001b[0m\u001b[1;33m,\u001b[0m \u001b[0mcontext\u001b[0m\u001b[1;33m,\u001b[0m \u001b[0mmaxlevels\u001b[0m\u001b[1;33m,\u001b[0m \u001b[0mlevel\u001b[0m\u001b[1;33m)\u001b[0m\u001b[1;33m:\u001b[0m\u001b[1;33m\u001b[0m\u001b[1;33m\u001b[0m\u001b[0m\n\u001b[1;32m--> 180\u001b[1;33m         return _safe_repr(object, context, maxlevels, level,\n\u001b[0m\u001b[0;32m    181\u001b[0m                           changed_only=self._changed_only)\n\u001b[0;32m    182\u001b[0m \u001b[1;33m\u001b[0m\u001b[0m\n",
      "\u001b[1;32m~\\anaconda3\\lib\\site-packages\\sklearn\\utils\\_pprint.py\u001b[0m in \u001b[0;36m_safe_repr\u001b[1;34m(object, context, maxlevels, level, changed_only)\u001b[0m\n\u001b[0;32m    434\u001b[0m             krepr, kreadable, krecur = saferepr(\n\u001b[0;32m    435\u001b[0m                 k, context, maxlevels, level, changed_only=changed_only)\n\u001b[1;32m--> 436\u001b[1;33m             vrepr, vreadable, vrecur = saferepr(\n\u001b[0m\u001b[0;32m    437\u001b[0m                 v, context, maxlevels, level, changed_only=changed_only)\n\u001b[0;32m    438\u001b[0m             \u001b[0mappend\u001b[0m\u001b[1;33m(\u001b[0m\u001b[1;34m\"%s=%s\"\u001b[0m \u001b[1;33m%\u001b[0m \u001b[1;33m(\u001b[0m\u001b[0mkrepr\u001b[0m\u001b[1;33m.\u001b[0m\u001b[0mstrip\u001b[0m\u001b[1;33m(\u001b[0m\u001b[1;34m\"'\"\u001b[0m\u001b[1;33m)\u001b[0m\u001b[1;33m,\u001b[0m \u001b[0mvrepr\u001b[0m\u001b[1;33m)\u001b[0m\u001b[1;33m)\u001b[0m\u001b[1;33m\u001b[0m\u001b[1;33m\u001b[0m\u001b[0m\n",
      "\u001b[1;32m~\\anaconda3\\lib\\site-packages\\sklearn\\utils\\_pprint.py\u001b[0m in \u001b[0;36m_safe_repr\u001b[1;34m(object, context, maxlevels, level, changed_only)\u001b[0m\n\u001b[0;32m    423\u001b[0m         \u001b[0mrecursive\u001b[0m \u001b[1;33m=\u001b[0m \u001b[1;32mFalse\u001b[0m\u001b[1;33m\u001b[0m\u001b[1;33m\u001b[0m\u001b[0m\n\u001b[0;32m    424\u001b[0m         \u001b[1;32mif\u001b[0m \u001b[0mchanged_only\u001b[0m\u001b[1;33m:\u001b[0m\u001b[1;33m\u001b[0m\u001b[1;33m\u001b[0m\u001b[0m\n\u001b[1;32m--> 425\u001b[1;33m             \u001b[0mparams\u001b[0m \u001b[1;33m=\u001b[0m \u001b[0m_changed_params\u001b[0m\u001b[1;33m(\u001b[0m\u001b[0mobject\u001b[0m\u001b[1;33m)\u001b[0m\u001b[1;33m\u001b[0m\u001b[1;33m\u001b[0m\u001b[0m\n\u001b[0m\u001b[0;32m    426\u001b[0m         \u001b[1;32melse\u001b[0m\u001b[1;33m:\u001b[0m\u001b[1;33m\u001b[0m\u001b[1;33m\u001b[0m\u001b[0m\n\u001b[0;32m    427\u001b[0m             \u001b[0mparams\u001b[0m \u001b[1;33m=\u001b[0m \u001b[0mobject\u001b[0m\u001b[1;33m.\u001b[0m\u001b[0mget_params\u001b[0m\u001b[1;33m(\u001b[0m\u001b[0mdeep\u001b[0m\u001b[1;33m=\u001b[0m\u001b[1;32mFalse\u001b[0m\u001b[1;33m)\u001b[0m\u001b[1;33m\u001b[0m\u001b[1;33m\u001b[0m\u001b[0m\n",
      "\u001b[1;32m~\\anaconda3\\lib\\site-packages\\sklearn\\utils\\_pprint.py\u001b[0m in \u001b[0;36m_changed_params\u001b[1;34m(estimator)\u001b[0m\n\u001b[0;32m     89\u001b[0m     estimator with non-default values.\"\"\"\n\u001b[0;32m     90\u001b[0m \u001b[1;33m\u001b[0m\u001b[0m\n\u001b[1;32m---> 91\u001b[1;33m     \u001b[0mparams\u001b[0m \u001b[1;33m=\u001b[0m \u001b[0mestimator\u001b[0m\u001b[1;33m.\u001b[0m\u001b[0mget_params\u001b[0m\u001b[1;33m(\u001b[0m\u001b[0mdeep\u001b[0m\u001b[1;33m=\u001b[0m\u001b[1;32mFalse\u001b[0m\u001b[1;33m)\u001b[0m\u001b[1;33m\u001b[0m\u001b[1;33m\u001b[0m\u001b[0m\n\u001b[0m\u001b[0;32m     92\u001b[0m     init_func = getattr(estimator.__init__, 'deprecated_original',\n\u001b[0;32m     93\u001b[0m                         estimator.__init__)\n",
      "\u001b[1;32m~\\anaconda3\\lib\\site-packages\\sklearn\\base.py\u001b[0m in \u001b[0;36mget_params\u001b[1;34m(self, deep)\u001b[0m\n\u001b[0;32m    193\u001b[0m         \u001b[0mout\u001b[0m \u001b[1;33m=\u001b[0m \u001b[0mdict\u001b[0m\u001b[1;33m(\u001b[0m\u001b[1;33m)\u001b[0m\u001b[1;33m\u001b[0m\u001b[1;33m\u001b[0m\u001b[0m\n\u001b[0;32m    194\u001b[0m         \u001b[1;32mfor\u001b[0m \u001b[0mkey\u001b[0m \u001b[1;32min\u001b[0m \u001b[0mself\u001b[0m\u001b[1;33m.\u001b[0m\u001b[0m_get_param_names\u001b[0m\u001b[1;33m(\u001b[0m\u001b[1;33m)\u001b[0m\u001b[1;33m:\u001b[0m\u001b[1;33m\u001b[0m\u001b[1;33m\u001b[0m\u001b[0m\n\u001b[1;32m--> 195\u001b[1;33m             \u001b[0mvalue\u001b[0m \u001b[1;33m=\u001b[0m \u001b[0mgetattr\u001b[0m\u001b[1;33m(\u001b[0m\u001b[0mself\u001b[0m\u001b[1;33m,\u001b[0m \u001b[0mkey\u001b[0m\u001b[1;33m)\u001b[0m\u001b[1;33m\u001b[0m\u001b[1;33m\u001b[0m\u001b[0m\n\u001b[0m\u001b[0;32m    196\u001b[0m             \u001b[1;32mif\u001b[0m \u001b[0mdeep\u001b[0m \u001b[1;32mand\u001b[0m \u001b[0mhasattr\u001b[0m\u001b[1;33m(\u001b[0m\u001b[0mvalue\u001b[0m\u001b[1;33m,\u001b[0m \u001b[1;34m'get_params'\u001b[0m\u001b[1;33m)\u001b[0m\u001b[1;33m:\u001b[0m\u001b[1;33m\u001b[0m\u001b[1;33m\u001b[0m\u001b[0m\n\u001b[0;32m    197\u001b[0m                 \u001b[0mdeep_items\u001b[0m \u001b[1;33m=\u001b[0m \u001b[0mvalue\u001b[0m\u001b[1;33m.\u001b[0m\u001b[0mget_params\u001b[0m\u001b[1;33m(\u001b[0m\u001b[1;33m)\u001b[0m\u001b[1;33m.\u001b[0m\u001b[0mitems\u001b[0m\u001b[1;33m(\u001b[0m\u001b[1;33m)\u001b[0m\u001b[1;33m\u001b[0m\u001b[1;33m\u001b[0m\u001b[0m\n",
      "\u001b[1;31mAttributeError\u001b[0m: 'CRF' object has no attribute 'keep_tempfiles'"
     ]
    }
   ],
   "source": [
    "rs"
   ]
  },
  {
   "cell_type": "code",
   "execution_count": 38,
   "metadata": {},
   "outputs": [],
   "source": [
    "#!pip install joblib\n",
    "import joblib \n",
    "  \n",
    "# Save the model as a pickle in a file \n",
    "#joblib.dump(crfTrain, 'crf.pkl') \n",
    "  \n",
    "# Load the model from the file \n",
    "crfTrain = joblib.load('crf.pkl') "
   ]
  },
  {
   "cell_type": "markdown",
   "metadata": {},
   "source": [
    "## 2.5 NER model Validation"
   ]
  },
  {
   "cell_type": "code",
   "execution_count": null,
   "metadata": {},
   "outputs": [],
   "source": [
    "# class-wise scores on validation data\n",
    "sorted_labels = sorted(\n",
    "    labels,\n",
    "    key=lambda name: (name[1:], name[0])\n",
    ")\n",
    "met=metrics.flat_classification_report(test['YArray'], y_pred, labels=sorted_labels, digits=3)\n",
    "print(met)"
   ]
  },
  {
   "cell_type": "code",
   "execution_count": null,
   "metadata": {},
   "outputs": [],
   "source": [
    "#Classifier learning\n",
    "def print_transitions(trans_features):\n",
    "    dataframe= pandas.DataFrame([])\n",
    "    for (label_from, label_to), weight in trans_features:\n",
    "        tup=(label_from, label_to, weight)\n",
    "        dataframe=dataframe.append(pandas.DataFrame(list(tup)).T)\n",
    "        \n",
    "    return(dataframe)   \n",
    "\n",
    "print(\"Top likely transitions:\")\n",
    "tranpos=print_transitions(Counter(crfTrain.transition_features_).most_common(10))\n",
    "\n",
    "print(\"\\nTop unlikely transitions:\")\n",
    "tranneg=print_transitions(Counter(crfTrain.transition_features_).most_common()[-10:])\n",
    "\n",
    "trans=pandas.concat([tranpos,tranneg],axis=0)\n",
    "trans['newflow']=trans.iloc[:,[0,1]].apply(lambda x: '--->'.join(x), axis=1)\n",
    "trans_final = trans.iloc[:,[3,2]]\n",
    "print(trans_final)"
   ]
  },
  {
   "cell_type": "code",
   "execution_count": 40,
   "metadata": {},
   "outputs": [],
   "source": [
    "# changing the output format for cassie \n",
    "def con(tag):\n",
    "    emptylist=[]\n",
    "    stri=''\n",
    "    for i in range(0,len(tag)):\n",
    "        strin=str(tag[i][0])+':'+str(tag[i][1])\n",
    "        emptylist.append(str(strin))\n",
    "        stri=' ; '.join(emptylist)\n",
    "        \n",
    "    return(stri)\n",
    "# Function for extracting B and I Tags and combine \n",
    "def cleantag1(tag):\n",
    "    emptylist=[]\n",
    "    if (len(tag)>1):\n",
    "        for i in range(0,len(tag)-1):\n",
    "            if (tag[i][0][0]=='B' and tag[i+1][0][0]=='I') or (tag[i][0][0]=='I' and tag[i+1][0][0]=='I'):\n",
    "                if(tag[i][0][0]=='B') or (tag[i][0][0]=='I'):\n",
    "                    emptylist.append([tag[i][0],tag[i][1]+' '+tag[i+1][1]])\n",
    "            else:\n",
    "                if(tag[i][0][0]=='B'):\n",
    "                    emptylist.append([tag[i][0],tag[i][1]])\n",
    "                    emptylist.append([tag[i+1][0],tag[i+1][1]])\n",
    "                    emptylist=list(emptylist for emptylist,_ in itertools.groupby(emptylist))\n",
    "                    \n",
    "    elif(len(tag)==1):\n",
    "        emptylist.append([tag[0][0],tag[0][1]])\n",
    "        \n",
    "    else:\n",
    "        emptylist\n",
    "                \n",
    "    ttp= [list(y) for y in set([tuple(x) for x in emptylist])]\n",
    "    return(ttp)\n",
    "\n",
    "\n",
    "# Function for combining multiple I tags \n",
    "def cleantag2(tag):\n",
    "    emptylist=[]\n",
    "    if (len(tag)>1):\n",
    "        for i in range(0,len(tag)-1):\n",
    "            if (tag[i][0][0]=='B' and tag[i+1][0][0]=='I'):\n",
    "                if(tag[i][0][0]=='B'):\n",
    "                    print([tag[i][0],tag[i][1]+' '+tag[i+1][1]])\n",
    "                    strin=OrderedDict().fromkeys(([tag[i][0],tag[i][1]+' '+tag[i+1][1]][1]).split())\n",
    "                    strin1=' '.join(strin)\n",
    "                    elist=[tag[i][0],strin1]\n",
    "                    print(elist)\n",
    "                    emptylist.append(elist)\n",
    "                   \n",
    "            else:\n",
    "                if(tag[i][0][0]=='B'):\n",
    "                    emptylist.append([tag[i][0],tag[i][1]])\n",
    "                    emptylist.append([tag[i+1][0],tag[i+1][1]])\n",
    "                    emptylist=list(emptylist for emptylist,_ in itertools.groupby(emptylist))\n",
    "                    \n",
    "    elif(len(tag)==1):\n",
    "        emptylist.append([tag[0][0],tag[0][1]])\n",
    "        \n",
    "    else:\n",
    "        emptylist\n",
    "                \n",
    "    ttp= [list(y) for y in set([tuple(x) for x in emptylist])]\n",
    "    return(ttp)\n",
    "\n"
   ]
  },
  {
   "cell_type": "code",
   "execution_count": 41,
   "metadata": {},
   "outputs": [
    {
     "name": "stdout",
     "output_type": "stream",
     "text": [
      "['B-TECHNIQUE', 'remote desktop desktop protocol']\n",
      "['B-TECHNIQUE', 'remote desktop protocol']\n",
      "['B-TECHNIQUE', 'remote access access tools']\n",
      "['B-TECHNIQUE', 'remote access tools']\n",
      "['B-TECHNIQUE', 'remote access access tools']\n",
      "['B-TECHNIQUE', 'remote access tools']\n",
      "['B-TECHNIQUE', 'remote access access tools']\n",
      "['B-TECHNIQUE', 'remote access tools']\n",
      "['B-TECHNIQUE', 'remote desktop desktop protocol']\n",
      "['B-TECHNIQUE', 'remote desktop protocol']\n",
      "['B-BADACTOR', 'dropping data exchange']\n",
      "['B-BADACTOR', 'dropping data exchange']\n",
      "['B-TECHNIQUE', 'remote desktop desktop protocol']\n",
      "['B-TECHNIQUE', 'remote desktop protocol']\n",
      "['B-TECHNIQUE', 'remote access access tools']\n",
      "['B-TECHNIQUE', 'remote access tools']\n",
      "['B-TECHNIQUE', 'thread local local storage']\n",
      "['B-TECHNIQUE', 'thread local storage']\n",
      "['B-TECHNIQUE', 'powershell data exchange']\n",
      "['B-TECHNIQUE', 'powershell data exchange']\n",
      "['B-TECHNIQUE', 'remote desktop desktop protocol']\n",
      "['B-TECHNIQUE', 'remote desktop protocol']\n",
      "['B-BADACTOR', 'rocket kitten security team']\n",
      "['B-BADACTOR', 'rocket kitten security team']\n",
      "['B-OS', 'windows access tools']\n",
      "['B-OS', 'windows access tools']\n",
      "['B-TECHNIQUE', 'remote desktop desktop protocol']\n",
      "['B-TECHNIQUE', 'remote desktop protocol']\n",
      "['B-TECHNIQUE', 'remote desktop desktop protocol']\n",
      "['B-TECHNIQUE', 'remote desktop protocol']\n",
      "['B-TECHNIQUE', 'remote desktop desktop protocol']\n",
      "['B-TECHNIQUE', 'remote desktop protocol']\n"
     ]
    }
   ],
   "source": [
    "clustfinal1['results']=crfTrain.predict(clustfinal1['XArray'])\n",
    "clustfinal1['MLTag']=clustfinal1.apply(lambda x:[list(a) for a in zip(x['results'], x['Processed2'])], axis=1)\n",
    "clustfinal1['MLTag_clean']=clustfinal1['MLTag'].apply(lambda x: [subl for subl in x if subl[0] != 'O'])\n",
    "clustfinal1['ttp']=clustfinal1['MLTag_clean'].apply(lambda x: cleantag1(x))\n",
    "clustfinal1['ttpremdup']=clustfinal1['ttp'].apply(lambda x: cleantag2(x))\n",
    "clustfinal1['ttp_final']=clustfinal1['ttpremdup'].apply(lambda x: con(x))\n",
    "clustfinal1['ttp_final']=clustfinal1['ttp_final'].apply(lambda x:x.replace('B-','ML-'))\n",
    "\n",
    "clustfinal1['BActor']=clustfinal1['ttp_final'].apply(lambda x:';'.join( [k.strip() for k in x.split(';') if 'ML-BADACTOR' in k]).replace('ML-BADACTOR:','').upper())\n",
    "clustfinal1['BActor']=clustfinal1['BActor'].apply(lambda x: x.split(';') if ';' in x else x.split(' ') if x != '' else '[]') \n",
    "\n",
    "clustfinal1['Malware']=clustfinal1['ttp_final'].apply(lambda x:';'.join( [k.strip() for k in x.split(';') if 'ML-MALWARE' in k]).replace('ML-MALWARE:','').upper())\n",
    "clustfinal1['Malware']=clustfinal1['Malware'].apply(lambda x: x.split(';') if ';' in x else x.split(' ') if x != '' else '[]') \n",
    "\n",
    "clustfinal1['Technique']=clustfinal1['ttp_final'].apply(lambda x:';'.join( [k.strip() for k in x.split(';') if 'ML-TECHNIQUE' in k]).replace('ML-TECHNIQUE:','').upper())\n",
    "clustfinal1['Technique']=clustfinal1['Technique'].apply(lambda x: x.split(';') if ';' in x else x.split(' ') if x != '' else '[]') \n",
    "\n",
    "clustfinal1['industry']=clustfinal1['ttp_final'].apply(lambda x:';'.join( [k.strip() for k in x.split(';') if 'ML-industry' in k]).replace('ML-industry:','').upper())\n",
    "clustfinal1['industry']=clustfinal1['industry'].apply(lambda x: x.split(';') if ';' in x else x.split(' ') if x != '' else '[]') \n",
    "\n",
    "clustfinal1['os']=clustfinal1['ttp_final'].apply(lambda x:';'.join( [k.strip() for k in x.split(';') if 'ML-OS' in k]).replace('ML-OS:','').upper())\n",
    "clustfinal1['os']=clustfinal1['os'].apply(lambda x: x.split(';') if ';' in x else x.split(' ') if x != '' else '[]')"
   ]
  },
  {
   "cell_type": "code",
   "execution_count": null,
   "metadata": {},
   "outputs": [],
   "source": [
    "clustfinal1.to_excel(\"masterfile.xlsx\",index=False)"
   ]
  },
  {
   "cell_type": "code",
   "execution_count": null,
   "metadata": {},
   "outputs": [],
   "source": []
  },
  {
   "cell_type": "markdown",
   "metadata": {},
   "source": [
    "## 2.6 Knowledge Graph creation"
   ]
  },
  {
   "cell_type": "code",
   "execution_count": null,
   "metadata": {},
   "outputs": [],
   "source": [
    "#################################################### create semantic tuples\n",
    "\n",
    "from itertools import combinations\n",
    "\n",
    "\n",
    "def tuple_creation(df,x,y):\n",
    "    for i in range(0,len(df)):\n",
    "        if (df.ix[i,x]=='[]') or (df.ix[i,y]=='[]'):\n",
    "            df=df.drop(index=i)\n",
    "    relation=''\n",
    "    if x=='Malware' and y=='os':\n",
    "        relation='uses'\n",
    "    elif x=='BActor' and y=='Technique':\n",
    "        relation='uses'\n",
    "    elif x=='Malware' and y=='BActor':\n",
    "        relation='attributed_to'\n",
    "    elif x=='File_indicator' and y=='Malware':\n",
    "        relation='indicates'\n",
    "    elif x=='Ip_indicator' and y=='Malware':\n",
    "        relation='indicates'\n",
    "        \n",
    "    \n",
    "    df1=df[[x,y]]\n",
    "    uniquey=list(set([item for subl in list(df[y]) for item in subl]))\n",
    "    uniquex=list(set([item for subl in list(df[x]) for item in subl]))\n",
    "    #df[x]=df[x].apply(lambda:x.strip('][').split(', '))\n",
    "    #df[y]=df[y].apply(lambda x:x.strip('][').split(', '))  \n",
    "    df1['combined']=df1[x]+df1[y]\n",
    "    df1['pairs']=df1['combined'].apply(lambda x:list(combinations(x, 2)))\n",
    "    df1['final pairs']=df1['pairs'].apply(lambda x: [i for i in x if (i[0] not in uniquey) ])\n",
    "    df1['final pairs1']=df1['final pairs'].apply(lambda x: [i for i in x if (i[1] not in uniquex)])\n",
    "    finallist=list(set([item for subl in list(df1['final pairs1']) for item in subl]))\n",
    "    finaldf=pandas.DataFrame(finallist, columns =[x, y])\n",
    "    finaldf['edge']=relation\n",
    "    return(finaldf)\n"
   ]
  },
  {
   "cell_type": "code",
   "execution_count": null,
   "metadata": {},
   "outputs": [],
   "source": [
    "malos=tuple_creation(clustfinal1,'Malware','os')\n",
    "bt=tuple_creation(clustfinal1,'BActor','Technique')\n",
    "ma=tuple_creation(clustfinal1,'Malware','BActor')\n",
    "#fm=tuple_creation(clustfinal1,'File_indicator','Malware')\n",
    "#im=tuple_creation(clustfinal1,'Ip_indicator','Malware')"
   ]
  },
  {
   "cell_type": "code",
   "execution_count": null,
   "metadata": {},
   "outputs": [],
   "source": [
    "malos.rename(columns = {'Malware':'source','os':'target'}, inplace = True)\n",
    "bt.rename(columns = {'BActor':'source','Technique':'target'}, inplace = True)\n",
    "ma.rename(columns = {'Malware':'source','BActor':'target'}, inplace = True)"
   ]
  },
  {
   "cell_type": "code",
   "execution_count": null,
   "metadata": {},
   "outputs": [],
   "source": [
    "kg_df=malos.append(bt).append(ma)\n",
    "kg_df.to_csv(\"rdf.csv\")"
   ]
  },
  {
   "cell_type": "code",
   "execution_count": null,
   "metadata": {},
   "outputs": [],
   "source": [
    "#KG\n",
    "import networkx as nx\n",
    "# create a directed-graph from a dataframe\n",
    "G=nx.from_pandas_edgelist(kg_df, \"source\", \"target\", edge_attr=True, create_using=nx.MultiDiGraph())"
   ]
  },
  {
   "cell_type": "code",
   "execution_count": null,
   "metadata": {},
   "outputs": [],
   "source": [
    "plt.figure(figsize=(12,12))\n",
    "\n",
    "pos = nx.spring_layout(G)\n",
    "nx.draw(G, with_labels=True, node_color='skyblue', edge_cmap=plt.cm.Blues, pos = pos)\n",
    "plt.show()"
   ]
  },
  {
   "cell_type": "code",
   "execution_count": null,
   "metadata": {},
   "outputs": [],
   "source": [
    "### only one relation uses\n",
    "G=nx.from_pandas_edgelist(kg_df[kg_df['edge']==\"uses\"], \"source\", \"target\", \n",
    "                          edge_attr=True, create_using=nx.MultiDiGraph())\n",
    "\n",
    "plt.figure(figsize=(30,30))\n",
    "pos = nx.spring_layout(G, k = 0.5) # k regulates the distance between nodes\n",
    "nx.draw(G, with_labels=True, node_color='skyblue', node_size=1000, edge_cmap=plt.cm.Blues, pos = pos)\n",
    "plt.show()"
   ]
  },
  {
   "cell_type": "code",
   "execution_count": null,
   "metadata": {},
   "outputs": [],
   "source": [
    "### only one relation attributed to\n",
    "G=nx.from_pandas_edgelist(kg_df[kg_df['edge']==\"attributed_to\"], \"source\", \"target\", \n",
    "                          edge_attr=True, create_using=nx.MultiDiGraph())\n",
    "\n",
    "plt.figure(figsize=(25,25))\n",
    "pos = nx.spring_layout(G, k = 0.5) # k regulates the distance between nodes\n",
    "nx.draw(G, with_labels=True, node_color='skyblue', node_size=1000, edge_cmap=plt.cm.Blues, pos = pos)\n",
    "plt.show()"
   ]
  },
  {
   "cell_type": "code",
   "execution_count": null,
   "metadata": {},
   "outputs": [],
   "source": [
    "### only one target Apple \n",
    "G=nx.from_pandas_edgelist(kg_df[kg_df['target']==\"APPLE\"], \"source\", \"target\", \n",
    "                          edge_attr=True, create_using=nx.MultiDiGraph())\n",
    "\n",
    "plt.figure(figsize=(10,10))\n",
    "pos = nx.spring_layout(G, k = 0.5) # k regulates the distance between nodes\n",
    "nx.draw(G, with_labels=True, node_color='skyblue', node_size=2000, edge_cmap=plt.cm.Blues, pos = pos)\n",
    "plt.show()"
   ]
  },
  {
   "cell_type": "code",
   "execution_count": null,
   "metadata": {},
   "outputs": [],
   "source": [
    "#################################################### Phase 2######################################################################################"
   ]
  },
  {
   "cell_type": "code",
   "execution_count": null,
   "metadata": {},
   "outputs": [],
   "source": [
    "## use the distance proximity to remove noise"
   ]
  },
  {
   "cell_type": "markdown",
   "metadata": {},
   "source": [
    "## 2.7 KRL embedding creation using SOTA model (Trans E)"
   ]
  },
  {
   "cell_type": "code",
   "execution_count": null,
   "metadata": {},
   "outputs": [],
   "source": [
    "import pandas\n",
    "df=pandas.read_csv(\"rdf.csv\")\n",
    "#train, validate, test = np.split(df.sample(frac=1, random_state=42),[int(.6*len(df)), int(.8*len(df))])\n",
    "df=df[['source','edge','target']]\n",
    "df"
   ]
  },
  {
   "cell_type": "code",
   "execution_count": null,
   "metadata": {},
   "outputs": [],
   "source": [
    "train.to_csv(\"chmis-train.tsv\",header=None, index=None, sep='\\t')\n",
    "test.to_csv(\"chmis-test.tsv\",header=None, index=None, sep='\\t')\n",
    "validate.to_csv(\"chmis-valid.tsv\",header=None, index=None, sep='\\t')"
   ]
  },
  {
   "cell_type": "code",
   "execution_count": null,
   "metadata": {},
   "outputs": [],
   "source": [
    "##############Train TRANS E embedding ##############"
   ]
  },
  {
   "cell_type": "code",
   "execution_count": 42,
   "metadata": {},
   "outputs": [
    {
     "name": "stderr",
     "output_type": "stream",
     "text": [
      "You're trying to map triples with 41 entities and 0 relations that are not in the training set. These triples will be excluded from the mapping.\n",
      "In total 41 from 238 triples were filtered out\n"
     ]
    },
    {
     "data": {
      "application/vnd.jupyter.widget-view+json": {
       "model_id": "53acfec6c0464a1a9ddf116ce14fb541",
       "version_major": 2,
       "version_minor": 0
      },
      "text/plain": [
       "HBox(children=(IntProgress(value=0, description='Training epochs on cpu', max=128, style=ProgressStyle(descrip…"
      ]
     },
     "metadata": {},
     "output_type": "display_data"
    },
    {
     "name": "stdout",
     "output_type": "stream",
     "text": [
      "\n"
     ]
    },
    {
     "name": "stderr",
     "output_type": "stream",
     "text": [
      "INFO:pykeen.evaluation.evaluator:Currently automatic memory optimization only supports GPUs, but you're using a CPU. Therefore, the batch_size will be set to the default value.\n",
      "INFO:pykeen.evaluation.evaluator:No evaluation batch_size provided. Setting batch_size to '32'.\n",
      "INFO:pykeen.evaluation.evaluator:Evaluation took 1.83s seconds\n"
     ]
    }
   ],
   "source": [
    "#model building\n",
    "from pykeen.pipeline import pipeline\n",
    "tf = \"chmis-train.tsv\"\n",
    "results = pipeline(\n",
    "    training=tf,\n",
    "    testing=\"chmis-test.tsv\",\n",
    "   model='TransE',\n",
    "    loss='softplus',\n",
    "    model_kwargs=dict(embedding_dim=2),\n",
    "    optimizer_kwargs=dict(lr=1.0e-1),\n",
    "    training_kwargs=dict(num_epochs=128, use_tqdm_batch=False),\n",
    "    evaluation_kwargs=dict(use_tqdm=False),\n",
    "    random_seed=1,\n",
    "    device='cpu',\n",
    ")"
   ]
  },
  {
   "cell_type": "code",
   "execution_count": 43,
   "metadata": {},
   "outputs": [
    {
     "data": {
      "image/png": "[encoded data removed]",
      "text/plain": [
       "<Figure size 720x288 with 2 Axes>"
      ]
     },
     "metadata": {
      "needs_background": "light"
     },
     "output_type": "display_data"
    }
   ],
   "source": [
    "results.plot()"
   ]
  },
  {
   "cell_type": "markdown",
   "metadata": {},
   "source": [
    "## 2.8 KRL model validation for Node prediction"
   ]
  },
  {
   "cell_type": "markdown",
   "metadata": {},
   "source": [
    "### Evaluation Task\n",
    "Knowledge graph embedding are usually evaluated on the task of link prediction. To this end, an evaluation set of triples Teval⊂E×R×E is provided, and for each triple (h,r,t)∈Teval in this set, two tasks are solved:\n",
    "\n",
    "In the right-side prediction task, a pair of head entity and relation are given and aim to predict the tail, i.e. (h,r,?). To this end, the knowledge graph embedding model is used to score each of the possible choices (h,r,e) for e∈E. Higher scores indicate higher plausibility.\n",
    "\n",
    "Analogously, in the left-side prediction task, a pair of relation and tail entity are provided and aim to predict the head, i.e. (?,r,t). Again, each possible choice (e,r,t) for e∈E is scored according to the knowledge graph embedding model.\n",
    "\n",
    "#### Rank-Based Evaluation\n",
    "In the rank-based evaluation protocol, the scores are used to sort the list of possible choices by decreasing score, and determine the rank of the true choice, i.e. the index in the sorted list. Smaller ranks indicate better performance. Based on these individual ranks, which are obtained for each evaluation triple and each side of the prediction (left/right), there exist several aggregation measures to quantify the performance of a model in a single number.\n",
    "\n",
    "##### Ranking Types\n",
    "While the aforementioned definition of the rank as “the index in the sorted list” is intuitive, it does not specify what happens when there are multiple choices with exactly the same score. Therefore, in previous work, different variants have been implemented, which yield different results in the presence of equal scores.\n",
    "\n",
    "The optimistic rank assumes that the true choice is on the first position of all those with equal score.\n",
    "The pessimistic rank assumes that the true choice is on the last position of all those with equal score.\n",
    "The realistic rank is the mean of the optimistic and the pessimistic rank, and moreover the expected value over all permutations respecting the sort order.\n",
    "\n",
    "The non-deterministic rank delegates the decision to the sort algorithm. Thus, the result depends on the internal tie breaking mechanism of the sort algorithm’s implementation."
   ]
  },
  {
   "cell_type": "code",
   "execution_count": 44,
   "metadata": {},
   "outputs": [
    {
     "data": {
      "text/plain": [
       "RankBasedMetricResults(mean_rank={'tail': {'worst': 29.741116751269036, 'best': 29.741116751269036, 'avg': 29.741116751269036}, 'both': {'worst': 40.97969543147208, 'best': 40.97969543147208, 'avg': 40.97969543147208}, 'head': {'worst': 52.21827411167513, 'best': 52.21827411167513, 'avg': 52.21827411167513}}, mean_reciprocal_rank={'tail': {'worst': 0.14678022889746511, 'best': 0.14678022889746511, 'avg': 0.14678022889746511}, 'both': {'worst': 0.09980318291636853, 'best': 0.09980318291636853, 'avg': 0.09980318291636853}, 'head': {'worst': 0.052826136935271946, 'best': 0.052826136935271946, 'avg': 0.052826136935271946}}, hits_at_k={'tail': {'worst': {1: 0.05583756345177665, 3: 0.12690355329949238, 5: 0.20304568527918782, 10: 0.350253807106599}, 'best': {1: 0.05583756345177665, 3: 0.12690355329949238, 5: 0.20304568527918782, 10: 0.350253807106599}, 'avg': {1: 0.05583756345177665, 3: 0.12690355329949238, 5: 0.20304568527918782, 10: 0.350253807106599}}, 'both': {'worst': {1: 0.030456852791878174, 3: 0.07614213197969544, 5: 0.12690355329949238, 10: 0.2512690355329949}, 'best': {1: 0.030456852791878174, 3: 0.07614213197969544, 5: 0.12690355329949238, 10: 0.2512690355329949}, 'avg': {1: 0.030456852791878174, 3: 0.07614213197969544, 5: 0.12690355329949238, 10: 0.2512690355329949}}, 'head': {'worst': {1: 0.005076142131979695, 3: 0.025380710659898477, 5: 0.050761421319796954, 10: 0.15228426395939088}, 'best': {1: 0.005076142131979695, 3: 0.025380710659898477, 5: 0.050761421319796954, 10: 0.15228426395939088}, 'avg': {1: 0.005076142131979695, 3: 0.025380710659898477, 5: 0.050761421319796954, 10: 0.15228426395939088}}}, adjusted_mean_rank={'tail': 0.17084497037972443, 'both': 0.24179492433210314, 'head': 0.3127448782844819})"
      ]
     },
     "execution_count": 44,
     "metadata": {},
     "output_type": "execute_result"
    }
   ],
   "source": [
    "results.metric_results"
   ]
  },
  {
   "cell_type": "code",
   "execution_count": 45,
   "metadata": {},
   "outputs": [
    {
     "name": "stdout",
     "output_type": "stream",
     "text": [
      "\n",
      "Predict tail\n",
      "      tail_id tail_label    score  in_training\n",
      "338      338    WINDOWS -0.09724         True\n"
     ]
    },
    {
     "name": "stderr",
     "output_type": "stream",
     "text": [
      "WARNING:pykeen.models.base:Calculations will fall back to using the score_hrt method, since this model does not have a specific score_r function. This might cause the calculations to take longer than necessary.\n"
     ]
    },
    {
     "name": "stdout",
     "output_type": "stream",
     "text": [
      "\n",
      "predict relation\n",
      "    relation_id relation_label    score  in_training\n",
      "1            1           uses -0.09724         True\n",
      "\n",
      "predict head\n",
      "      head_id    head_label     score  in_training\n",
      "195      195      MIMIKATZ -0.029884         True\n",
      "54        54         CHAOS -0.031167         True\n",
      "52        52        CARBON -0.035084         True\n",
      "177      177       LOKIBOT -0.039147         True\n",
      "316      316           TOR -0.039876         True\n",
      "269      269          RYUK -0.039949         True\n",
      "198      198         MIRAI -0.040036         True\n",
      "220      220       OCTOPUS -0.047773         True\n",
      "265      265           RIG -0.048133         True\n",
      "33        33       BISONAL -0.050959         True\n",
      "120      120        EMPIRE -0.051496         True\n",
      "66        66        COMNIE -0.058946         True\n",
      "306      306       STUXNET -0.060866         True\n",
      "169      169       KOMPLEX -0.060959         True\n",
      "134      134           FTP -0.062889         True\n",
      "51        51       CARBERP -0.063199         True\n",
      "74        74   CRYPTOMINER -0.063564         True\n",
      "102      102       DUALTOY -0.064205         True\n",
      "230      230         PETYA -0.066768         True\n",
      "321      321      TSCOOKIE -0.071656         True\n",
      "317      317      TRICKBOT -0.077464         True\n",
      "346      346         XBASH -0.086364         True\n",
      "262      262     RESPONDER -0.093707         True\n",
      "158      158   INDUSTROYER -0.094076         True\n",
      "349      349       ZEBROCY -0.096071         True\n",
      "2          2         AGENT -0.096354         True\n",
      "208      208      NANOCORE -0.097240         True\n",
      "270      270        SAMSAM -0.098811         True\n",
      "209      209           NET -0.102461         True\n",
      "233      233         PLEAD -0.105231         True\n",
      "345      345     XAGENTOSX -0.106963         True\n",
      "133      133  FRAMEWORKPOS -0.113140         True\n",
      "119      119        EMOTET -0.115817         True\n",
      "87        87       DERUSBI -0.118092         True\n",
      "264      264         REVIL -0.122779         True\n",
      "58        58         CHINA -0.141044         True\n",
      "216      216      NOTPETYA -0.153414         True\n",
      "126      126       EXPLOIT -0.163580         True\n",
      "175      175         LOCKY -0.170378         True\n",
      "285      285         SMOKE -0.197240         True\n",
      "192      192          MEEK -0.197652         True\n"
     ]
    }
   ],
   "source": [
    "#model inferencing for link prediction (Train/Test)\n",
    "model = results.model\n",
    "# Predict tails\n",
    "predicted_tails_df = model.get_tail_prediction_df('NANOCORE', 'uses')\n",
    "print(\"\\nPredict tail\\n\",predicted_tails_df[predicted_tails_df.in_training==True])\n",
    "# Predict relations\n",
    "predicted_relations_df = model.get_relation_prediction_df('NANOCORE', 'WINDOWS')\n",
    "print(\"\\npredict relation\\n\",predicted_relations_df[predicted_relations_df.in_training==True])\n",
    "# Predict heads\n",
    "predicted_heads_df = model.get_head_prediction_df('uses', 'WINDOWS')\n",
    "print(\"\\npredict head\\n\",predicted_heads_df[predicted_heads_df.in_training==True])"
   ]
  },
  {
   "cell_type": "code",
   "execution_count": 46,
   "metadata": {},
   "outputs": [
    {
     "name": "stdout",
     "output_type": "stream",
     "text": [
      "\n",
      "Predict tail\n",
      "      tail_id tail_label     score  in_training\n",
      "186      186    MALWARE -0.306212         True\n"
     ]
    },
    {
     "name": "stderr",
     "output_type": "stream",
     "text": [
      "WARNING:pykeen.models.base:Calculations will fall back to using the score_hrt method, since this model does not have a specific score_r function. This might cause the calculations to take longer than necessary.\n"
     ]
    },
    {
     "name": "stdout",
     "output_type": "stream",
     "text": [
      "\n",
      "predict relation\n",
      " Empty DataFrame\n",
      "Columns: [relation_id, relation_label, score, in_training]\n",
      "Index: []\n",
      "\n",
      "predict head\n",
      "      head_id         head_label     score  in_training\n",
      "62        62             COBALT -0.013204         True\n",
      "289      289             SOFACY -0.015743         True\n",
      "172      172          LEAFMINER -0.018116         True\n",
      "322      322              TURLA -0.018433         True\n",
      "129      129               FIN7 -0.020163         True\n",
      "98        98           DROPPING -0.041235         True\n",
      "218      218         OCEANLOTUS -0.044938         True\n",
      "171      171            LAZARUS -0.052478         True\n",
      "248      248             QUASAR -0.058865         True\n",
      "266      266              ROCKE -0.071136         True\n",
      "202      202            MONSOON -0.072003         True\n",
      "254      254             REAPER -0.074957         True\n",
      "99        99  DROPPING ELEPHANT -0.079163         True\n",
      "157      157          INCEPTION -0.084219         True\n",
      "34        34              BLACK -0.163121         True\n"
     ]
    }
   ],
   "source": [
    "#Inferencing for unknow sample\n",
    "# Predict tails\n",
    "predicted_tails_df = model.get_tail_prediction_df('ELDERWOOD', 'uses')\n",
    "print(\"\\nPredict tail\\n\",predicted_tails_df[predicted_tails_df.in_training==True])\n",
    "# Predict relations\n",
    "predicted_relations_df = model.get_relation_prediction_df('ELDERWOOD', 'EXPLOITS')\n",
    "print(\"\\npredict relation\\n\",predicted_relations_df[predicted_relations_df.in_training==True])\n",
    "# Predict heads\n",
    "predicted_heads_df = model.get_head_prediction_df('uses', 'EXPLOITS')\n",
    "print(\"\\npredict head\\n\",predicted_heads_df[predicted_heads_df.in_training==True])"
   ]
  },
  {
   "cell_type": "code",
   "execution_count": 56,
   "metadata": {},
   "outputs": [
    {
     "name": "stderr",
     "output_type": "stream",
     "text": [
      "WARNING:pykeen.triples.triples_factory:You're trying to map triples with 41 entities and 0 relations that are not in the training set. These triples will be excluded from the mapping.\n",
      "WARNING:pykeen.triples.triples_factory:In total 41 from 238 triples were filtered out\n"
     ]
    },
    {
     "data": {
      "application/vnd.jupyter.widget-view+json": {
       "model_id": "7e4da8e6f3494fb2a32cd149a2c604e8",
       "version_major": 2,
       "version_minor": 0
      },
      "text/plain": [
       "HBox(children=(IntProgress(value=0, description='Training epochs on cpu', max=128, style=ProgressStyle(descrip…"
      ]
     },
     "metadata": {},
     "output_type": "display_data"
    },
    {
     "name": "stderr",
     "output_type": "stream",
     "text": [
      "INFO:pykeen.evaluation.evaluator:Currently automatic memory optimization only supports GPUs, but you're using a CPU. Therefore, the batch_size will be set to the default value.\n",
      "INFO:pykeen.evaluation.evaluator:No evaluation batch_size provided. Setting batch_size to '32'.\n",
      "INFO:pykeen.evaluation.evaluator:Evaluation took 0.03s seconds\n"
     ]
    },
    {
     "name": "stdout",
     "output_type": "stream",
     "text": [
      "--- 29.74372172355652 seconds ---\n",
      "KRL methods:  complex\n"
     ]
    },
    {
     "name": "stderr",
     "output_type": "stream",
     "text": [
      "WARNING:pykeen.triples.triples_factory:You're trying to map triples with 41 entities and 0 relations that are not in the training set. These triples will be excluded from the mapping.\n",
      "WARNING:pykeen.triples.triples_factory:In total 41 from 238 triples were filtered out\n",
      "WARNING:pykeen.models.unimodal.conv_e:\n",
      "The ConvE model should be trained with inverse triples.\n",
      "This can be done by defining the TriplesFactory class with the _create_inverse_triples_ parameter set to true.\n",
      "INFO:pykeen.models.unimodal.conv_e:Resolving None * None * None = 2.\n",
      "INFO:pykeen.models.unimodal.conv_e:Resolved to 1 * 2 * 1 = 2.\n"
     ]
    },
    {
     "ename": "ZeroDivisionError",
     "evalue": "float division by zero",
     "output_type": "error",
     "traceback": [
      "\u001b[1;31m---------------------------------------------------------------------------\u001b[0m",
      "\u001b[1;31mZeroDivisionError\u001b[0m                         Traceback (most recent call last)",
      "\u001b[1;32m<ipython-input-56-f9c80f3fb1e1>\u001b[0m in \u001b[0;36m<module>\u001b[1;34m\u001b[0m\n\u001b[0;32m     19\u001b[0m         \u001b[0mevaluation_kwargs\u001b[0m\u001b[1;33m=\u001b[0m\u001b[0mdict\u001b[0m\u001b[1;33m(\u001b[0m\u001b[0muse_tqdm\u001b[0m\u001b[1;33m=\u001b[0m\u001b[1;32mFalse\u001b[0m\u001b[1;33m)\u001b[0m\u001b[1;33m,\u001b[0m\u001b[1;33m\u001b[0m\u001b[1;33m\u001b[0m\u001b[0m\n\u001b[0;32m     20\u001b[0m         \u001b[0mrandom_seed\u001b[0m\u001b[1;33m=\u001b[0m\u001b[1;36m1\u001b[0m\u001b[1;33m,\u001b[0m\u001b[1;33m\u001b[0m\u001b[1;33m\u001b[0m\u001b[0m\n\u001b[1;32m---> 21\u001b[1;33m         \u001b[0mdevice\u001b[0m\u001b[1;33m=\u001b[0m\u001b[1;34m'cpu'\u001b[0m\u001b[1;33m,\u001b[0m\u001b[1;33m\u001b[0m\u001b[1;33m\u001b[0m\u001b[0m\n\u001b[0m\u001b[0;32m     22\u001b[0m     )\n\u001b[0;32m     23\u001b[0m     \u001b[0mprint\u001b[0m\u001b[1;33m(\u001b[0m\u001b[1;34m\"--- %s seconds ---\"\u001b[0m \u001b[1;33m%\u001b[0m \u001b[1;33m(\u001b[0m\u001b[0mtime\u001b[0m\u001b[1;33m.\u001b[0m\u001b[0mtime\u001b[0m\u001b[1;33m(\u001b[0m\u001b[1;33m)\u001b[0m \u001b[1;33m-\u001b[0m \u001b[0mstart_time\u001b[0m\u001b[1;33m)\u001b[0m\u001b[1;33m)\u001b[0m\u001b[1;33m\u001b[0m\u001b[1;33m\u001b[0m\u001b[0m\n",
      "\u001b[1;32m~\\Anaconda3\\lib\\site-packages\\pykeen\\pipeline\\api.py\u001b[0m in \u001b[0;36mpipeline\u001b[1;34m(dataset, dataset_kwargs, training, testing, validation, evaluation_entity_whitelist, evaluation_relation_whitelist, model, model_kwargs, interaction, interaction_kwargs, dimensions, loss, loss_kwargs, regularizer, regularizer_kwargs, optimizer, optimizer_kwargs, clear_optimizer, training_loop, negative_sampler, negative_sampler_kwargs, training_kwargs, stopper, stopper_kwargs, evaluator, evaluator_kwargs, evaluation_kwargs, result_tracker, result_tracker_kwargs, automatic_memory_optimization, metadata, device, random_seed, use_testing_data)\u001b[0m\n\u001b[0;32m    860\u001b[0m             \u001b[0m_device\u001b[0m\u001b[1;33m=\u001b[0m\u001b[0m_device\u001b[0m\u001b[1;33m,\u001b[0m\u001b[1;33m\u001b[0m\u001b[1;33m\u001b[0m\u001b[0m\n\u001b[0;32m    861\u001b[0m             \u001b[0m_random_seed\u001b[0m\u001b[1;33m=\u001b[0m\u001b[0m_random_seed\u001b[0m\u001b[1;33m,\u001b[0m\u001b[1;33m\u001b[0m\u001b[1;33m\u001b[0m\u001b[0m\n\u001b[1;32m--> 862\u001b[1;33m             \u001b[0mtraining\u001b[0m\u001b[1;33m=\u001b[0m\u001b[0mtraining\u001b[0m\u001b[1;33m,\u001b[0m\u001b[1;33m\u001b[0m\u001b[1;33m\u001b[0m\u001b[0m\n\u001b[0m\u001b[0;32m    863\u001b[0m         )\n\u001b[0;32m    864\u001b[0m \u001b[1;33m\u001b[0m\u001b[0m\n",
      "\u001b[1;32m~\\Anaconda3\\lib\\site-packages\\pykeen\\pipeline\\api.py\u001b[0m in \u001b[0;36m_build_model_helper\u001b[1;34m(model, model_kwargs, loss, loss_kwargs, _device, _random_seed, regularizer, regularizer_kwargs, training)\u001b[0m\n\u001b[0;32m    607\u001b[0m         \u001b[0mtriples_factory\u001b[0m\u001b[1;33m=\u001b[0m\u001b[0mtraining\u001b[0m\u001b[1;33m,\u001b[0m\u001b[1;33m\u001b[0m\u001b[1;33m\u001b[0m\u001b[0m\n\u001b[0;32m    608\u001b[0m         \u001b[0mloss\u001b[0m\u001b[1;33m=\u001b[0m\u001b[0mloss_instance\u001b[0m\u001b[1;33m,\u001b[0m\u001b[1;33m\u001b[0m\u001b[1;33m\u001b[0m\u001b[0m\n\u001b[1;32m--> 609\u001b[1;33m         \u001b[1;33m**\u001b[0m\u001b[0mmodel_kwargs\u001b[0m\u001b[1;33m,\u001b[0m\u001b[1;33m\u001b[0m\u001b[1;33m\u001b[0m\u001b[0m\n\u001b[0m\u001b[0;32m    610\u001b[0m     )\n\u001b[0;32m    611\u001b[0m \u001b[1;33m\u001b[0m\u001b[0m\n",
      "\u001b[1;32m~\\Anaconda3\\lib\\site-packages\\class_resolver\\api.py\u001b[0m in \u001b[0;36mmake\u001b[1;34m(self, query, pos_kwargs, **kwargs)\u001b[0m\n\u001b[0;32m    189\u001b[0m             \u001b[0mcls\u001b[0m\u001b[1;33m:\u001b[0m \u001b[0mType\u001b[0m\u001b[1;33m[\u001b[0m\u001b[0mX\u001b[0m\u001b[1;33m]\u001b[0m \u001b[1;33m=\u001b[0m \u001b[0mself\u001b[0m\u001b[1;33m.\u001b[0m\u001b[0mlookup\u001b[0m\u001b[1;33m(\u001b[0m\u001b[0mquery\u001b[0m\u001b[1;33m)\u001b[0m\u001b[1;33m\u001b[0m\u001b[1;33m\u001b[0m\u001b[0m\n\u001b[0;32m    190\u001b[0m             \u001b[1;32mtry\u001b[0m\u001b[1;33m:\u001b[0m\u001b[1;33m\u001b[0m\u001b[1;33m\u001b[0m\u001b[0m\n\u001b[1;32m--> 191\u001b[1;33m                 \u001b[1;32mreturn\u001b[0m \u001b[0mcls\u001b[0m\u001b[1;33m(\u001b[0m\u001b[1;33m**\u001b[0m\u001b[1;33m(\u001b[0m\u001b[0mpos_kwargs\u001b[0m \u001b[1;32mor\u001b[0m \u001b[1;33m{\u001b[0m\u001b[1;33m}\u001b[0m\u001b[1;33m)\u001b[0m\u001b[1;33m,\u001b[0m \u001b[1;33m**\u001b[0m\u001b[0mkwargs\u001b[0m\u001b[1;33m)\u001b[0m  \u001b[1;31m# type: ignore\u001b[0m\u001b[1;33m\u001b[0m\u001b[1;33m\u001b[0m\u001b[0m\n\u001b[0m\u001b[0;32m    192\u001b[0m             \u001b[1;32mexcept\u001b[0m \u001b[0mTypeError\u001b[0m \u001b[1;32mas\u001b[0m \u001b[0me\u001b[0m\u001b[1;33m:\u001b[0m\u001b[1;33m\u001b[0m\u001b[1;33m\u001b[0m\u001b[0m\n\u001b[0;32m    193\u001b[0m                 \u001b[1;32mraise\u001b[0m \u001b[0mTypeError\u001b[0m\u001b[1;33m(\u001b[0m\u001b[1;34mf'{cls.__name__}: {e.args[0]}'\u001b[0m\u001b[1;33m)\u001b[0m\u001b[1;33m\u001b[0m\u001b[1;33m\u001b[0m\u001b[0m\n",
      "\u001b[1;32m~\\Anaconda3\\lib\\site-packages\\pykeen\\models\\base.py\u001b[0m in \u001b[0;36m_new_init\u001b[1;34m(self, *args, **kwargs)\u001b[0m\n\u001b[0;32m    835\u001b[0m     \u001b[1;33m@\u001b[0m\u001b[0mfunctools\u001b[0m\u001b[1;33m.\u001b[0m\u001b[0mwraps\u001b[0m\u001b[1;33m(\u001b[0m\u001b[0m_original_init\u001b[0m\u001b[1;33m)\u001b[0m\u001b[1;33m\u001b[0m\u001b[1;33m\u001b[0m\u001b[0m\n\u001b[0;32m    836\u001b[0m     \u001b[1;32mdef\u001b[0m \u001b[0m_new_init\u001b[0m\u001b[1;33m(\u001b[0m\u001b[0mself\u001b[0m\u001b[1;33m,\u001b[0m \u001b[1;33m*\u001b[0m\u001b[0margs\u001b[0m\u001b[1;33m,\u001b[0m \u001b[1;33m**\u001b[0m\u001b[0mkwargs\u001b[0m\u001b[1;33m)\u001b[0m\u001b[1;33m:\u001b[0m\u001b[1;33m\u001b[0m\u001b[1;33m\u001b[0m\u001b[0m\n\u001b[1;32m--> 837\u001b[1;33m         \u001b[0m_original_init\u001b[0m\u001b[1;33m(\u001b[0m\u001b[0mself\u001b[0m\u001b[1;33m,\u001b[0m \u001b[1;33m*\u001b[0m\u001b[0margs\u001b[0m\u001b[1;33m,\u001b[0m \u001b[1;33m**\u001b[0m\u001b[0mkwargs\u001b[0m\u001b[1;33m)\u001b[0m\u001b[1;33m\u001b[0m\u001b[1;33m\u001b[0m\u001b[0m\n\u001b[0m\u001b[0;32m    838\u001b[0m         \u001b[0mself\u001b[0m\u001b[1;33m.\u001b[0m\u001b[0mreset_parameters_\u001b[0m\u001b[1;33m(\u001b[0m\u001b[1;33m)\u001b[0m\u001b[1;33m\u001b[0m\u001b[1;33m\u001b[0m\u001b[0m\n\u001b[0;32m    839\u001b[0m \u001b[1;33m\u001b[0m\u001b[0m\n",
      "\u001b[1;32m~\\Anaconda3\\lib\\site-packages\\pykeen\\models\\unimodal\\conv_e.py\u001b[0m in \u001b[0;36m__init__\u001b[1;34m(self, triples_factory, input_channels, output_channels, embedding_height, embedding_width, kernel_height, kernel_width, input_dropout, output_dropout, feature_map_dropout, embedding_dim, loss, preferred_device, random_seed, regularizer, apply_batch_normalization, entity_initializer, relation_initializer)\u001b[0m\n\u001b[0;32m    226\u001b[0m             \u001b[1;33m*\u001b[0m \u001b[1;33m(\u001b[0m\u001b[0mself\u001b[0m\u001b[1;33m.\u001b[0m\u001b[0membedding_width\u001b[0m \u001b[1;33m-\u001b[0m \u001b[0mkernel_width\u001b[0m \u001b[1;33m+\u001b[0m \u001b[1;36m1\u001b[0m\u001b[1;33m)\u001b[0m\u001b[1;33m\u001b[0m\u001b[1;33m\u001b[0m\u001b[0m\n\u001b[0;32m    227\u001b[0m         )\n\u001b[1;32m--> 228\u001b[1;33m         \u001b[0mself\u001b[0m\u001b[1;33m.\u001b[0m\u001b[0mfc\u001b[0m \u001b[1;33m=\u001b[0m \u001b[0mnn\u001b[0m\u001b[1;33m.\u001b[0m\u001b[0mLinear\u001b[0m\u001b[1;33m(\u001b[0m\u001b[0mnum_in_features\u001b[0m\u001b[1;33m,\u001b[0m \u001b[0mself\u001b[0m\u001b[1;33m.\u001b[0m\u001b[0membedding_dim\u001b[0m\u001b[1;33m)\u001b[0m\u001b[1;33m\u001b[0m\u001b[1;33m\u001b[0m\u001b[0m\n\u001b[0m\u001b[0;32m    229\u001b[0m \u001b[1;33m\u001b[0m\u001b[0m\n\u001b[0;32m    230\u001b[0m     \u001b[1;32mdef\u001b[0m \u001b[0m_reset_parameters_\u001b[0m\u001b[1;33m(\u001b[0m\u001b[0mself\u001b[0m\u001b[1;33m)\u001b[0m\u001b[1;33m:\u001b[0m  \u001b[1;31m# noqa: D102\u001b[0m\u001b[1;33m\u001b[0m\u001b[1;33m\u001b[0m\u001b[0m\n",
      "\u001b[1;32m~\\Anaconda3\\lib\\site-packages\\torch\\nn\\modules\\linear.py\u001b[0m in \u001b[0;36m__init__\u001b[1;34m(self, in_features, out_features, bias)\u001b[0m\n\u001b[0;32m     82\u001b[0m         \u001b[1;32melse\u001b[0m\u001b[1;33m:\u001b[0m\u001b[1;33m\u001b[0m\u001b[1;33m\u001b[0m\u001b[0m\n\u001b[0;32m     83\u001b[0m             \u001b[0mself\u001b[0m\u001b[1;33m.\u001b[0m\u001b[0mregister_parameter\u001b[0m\u001b[1;33m(\u001b[0m\u001b[1;34m'bias'\u001b[0m\u001b[1;33m,\u001b[0m \u001b[1;32mNone\u001b[0m\u001b[1;33m)\u001b[0m\u001b[1;33m\u001b[0m\u001b[1;33m\u001b[0m\u001b[0m\n\u001b[1;32m---> 84\u001b[1;33m         \u001b[0mself\u001b[0m\u001b[1;33m.\u001b[0m\u001b[0mreset_parameters\u001b[0m\u001b[1;33m(\u001b[0m\u001b[1;33m)\u001b[0m\u001b[1;33m\u001b[0m\u001b[1;33m\u001b[0m\u001b[0m\n\u001b[0m\u001b[0;32m     85\u001b[0m \u001b[1;33m\u001b[0m\u001b[0m\n\u001b[0;32m     86\u001b[0m     \u001b[1;32mdef\u001b[0m \u001b[0mreset_parameters\u001b[0m\u001b[1;33m(\u001b[0m\u001b[0mself\u001b[0m\u001b[1;33m)\u001b[0m \u001b[1;33m->\u001b[0m \u001b[1;32mNone\u001b[0m\u001b[1;33m:\u001b[0m\u001b[1;33m\u001b[0m\u001b[1;33m\u001b[0m\u001b[0m\n",
      "\u001b[1;32m~\\Anaconda3\\lib\\site-packages\\torch\\nn\\modules\\linear.py\u001b[0m in \u001b[0;36mreset_parameters\u001b[1;34m(self)\u001b[0m\n\u001b[0;32m     85\u001b[0m \u001b[1;33m\u001b[0m\u001b[0m\n\u001b[0;32m     86\u001b[0m     \u001b[1;32mdef\u001b[0m \u001b[0mreset_parameters\u001b[0m\u001b[1;33m(\u001b[0m\u001b[0mself\u001b[0m\u001b[1;33m)\u001b[0m \u001b[1;33m->\u001b[0m \u001b[1;32mNone\u001b[0m\u001b[1;33m:\u001b[0m\u001b[1;33m\u001b[0m\u001b[1;33m\u001b[0m\u001b[0m\n\u001b[1;32m---> 87\u001b[1;33m         \u001b[0minit\u001b[0m\u001b[1;33m.\u001b[0m\u001b[0mkaiming_uniform_\u001b[0m\u001b[1;33m(\u001b[0m\u001b[0mself\u001b[0m\u001b[1;33m.\u001b[0m\u001b[0mweight\u001b[0m\u001b[1;33m,\u001b[0m \u001b[0ma\u001b[0m\u001b[1;33m=\u001b[0m\u001b[0mmath\u001b[0m\u001b[1;33m.\u001b[0m\u001b[0msqrt\u001b[0m\u001b[1;33m(\u001b[0m\u001b[1;36m5\u001b[0m\u001b[1;33m)\u001b[0m\u001b[1;33m)\u001b[0m\u001b[1;33m\u001b[0m\u001b[1;33m\u001b[0m\u001b[0m\n\u001b[0m\u001b[0;32m     88\u001b[0m         \u001b[1;32mif\u001b[0m \u001b[0mself\u001b[0m\u001b[1;33m.\u001b[0m\u001b[0mbias\u001b[0m \u001b[1;32mis\u001b[0m \u001b[1;32mnot\u001b[0m \u001b[1;32mNone\u001b[0m\u001b[1;33m:\u001b[0m\u001b[1;33m\u001b[0m\u001b[1;33m\u001b[0m\u001b[0m\n\u001b[0;32m     89\u001b[0m             \u001b[0mfan_in\u001b[0m\u001b[1;33m,\u001b[0m \u001b[0m_\u001b[0m \u001b[1;33m=\u001b[0m \u001b[0minit\u001b[0m\u001b[1;33m.\u001b[0m\u001b[0m_calculate_fan_in_and_fan_out\u001b[0m\u001b[1;33m(\u001b[0m\u001b[0mself\u001b[0m\u001b[1;33m.\u001b[0m\u001b[0mweight\u001b[0m\u001b[1;33m)\u001b[0m\u001b[1;33m\u001b[0m\u001b[1;33m\u001b[0m\u001b[0m\n",
      "\u001b[1;32m~\\Anaconda3\\lib\\site-packages\\torch\\nn\\init.py\u001b[0m in \u001b[0;36mkaiming_uniform_\u001b[1;34m(tensor, a, mode, nonlinearity)\u001b[0m\n\u001b[0;32m    374\u001b[0m     \u001b[0mfan\u001b[0m \u001b[1;33m=\u001b[0m \u001b[0m_calculate_correct_fan\u001b[0m\u001b[1;33m(\u001b[0m\u001b[0mtensor\u001b[0m\u001b[1;33m,\u001b[0m \u001b[0mmode\u001b[0m\u001b[1;33m)\u001b[0m\u001b[1;33m\u001b[0m\u001b[1;33m\u001b[0m\u001b[0m\n\u001b[0;32m    375\u001b[0m     \u001b[0mgain\u001b[0m \u001b[1;33m=\u001b[0m \u001b[0mcalculate_gain\u001b[0m\u001b[1;33m(\u001b[0m\u001b[0mnonlinearity\u001b[0m\u001b[1;33m,\u001b[0m \u001b[0ma\u001b[0m\u001b[1;33m)\u001b[0m\u001b[1;33m\u001b[0m\u001b[1;33m\u001b[0m\u001b[0m\n\u001b[1;32m--> 376\u001b[1;33m     \u001b[0mstd\u001b[0m \u001b[1;33m=\u001b[0m \u001b[0mgain\u001b[0m \u001b[1;33m/\u001b[0m \u001b[0mmath\u001b[0m\u001b[1;33m.\u001b[0m\u001b[0msqrt\u001b[0m\u001b[1;33m(\u001b[0m\u001b[0mfan\u001b[0m\u001b[1;33m)\u001b[0m\u001b[1;33m\u001b[0m\u001b[1;33m\u001b[0m\u001b[0m\n\u001b[0m\u001b[0;32m    377\u001b[0m     \u001b[0mbound\u001b[0m \u001b[1;33m=\u001b[0m \u001b[0mmath\u001b[0m\u001b[1;33m.\u001b[0m\u001b[0msqrt\u001b[0m\u001b[1;33m(\u001b[0m\u001b[1;36m3.0\u001b[0m\u001b[1;33m)\u001b[0m \u001b[1;33m*\u001b[0m \u001b[0mstd\u001b[0m  \u001b[1;31m# Calculate uniform bounds from standard deviation\u001b[0m\u001b[1;33m\u001b[0m\u001b[1;33m\u001b[0m\u001b[0m\n\u001b[0;32m    378\u001b[0m     \u001b[1;32mwith\u001b[0m \u001b[0mtorch\u001b[0m\u001b[1;33m.\u001b[0m\u001b[0mno_grad\u001b[0m\u001b[1;33m(\u001b[0m\u001b[1;33m)\u001b[0m\u001b[1;33m:\u001b[0m\u001b[1;33m\u001b[0m\u001b[1;33m\u001b[0m\u001b[0m\n",
      "\u001b[1;31mZeroDivisionError\u001b[0m: float division by zero"
     ]
    },
    {
     "data": {
      "image/png": "[encoded data removed]",
      "text/plain": [
       "<Figure size 720x288 with 2 Axes>"
      ]
     },
     "metadata": {},
     "output_type": "display_data"
    }
   ],
   "source": [
    "#########################\n",
    "lis=['complex', 'complexliteral', 'conve', 'convkb', 'distmult', 'distmultliteral', 'ermlp', 'ermlpe', 'hole', 'kg2e', 'mure', 'ntn', 'pairre', 'proje', 'rescal', 'rgcn', 'rotate', \n",
    "'simple', 'structuredembedding', 'transd', 'transe', 'transh', 'transr', 'tucker', 'unstructured']\n",
    "\n",
    "\n",
    "for i in lis:\n",
    "    import time\n",
    "    start_time = time.time()\n",
    "    from pykeen.pipeline import pipeline\n",
    "    tf = \"chmis-train.tsv\"\n",
    "    results = pipeline(\n",
    "        training=tf,\n",
    "        testing=\"chmis-test.tsv\",\n",
    "       model=i,\n",
    "        loss='softplus',\n",
    "        model_kwargs=dict(embedding_dim=2),\n",
    "        optimizer_kwargs=dict(lr=1.0e-1),\n",
    "        training_kwargs=dict(num_epochs=128, use_tqdm_batch=False),\n",
    "        evaluation_kwargs=dict(use_tqdm=False),\n",
    "        random_seed=1,\n",
    "        device='cpu',\n",
    "    )\n",
    "    print(\"--- %s seconds ---\" % (time.time() - start_time))\n",
    "    print(\"KRL methods: \" ,i)\n",
    "    results.plot()"
   ]
  }
 ],
 "metadata": {
  "kernelspec": {
   "display_name": "Python 3 (ipykernel)",
   "language": "python",
   "name": "python3"
  },
  "language_info": {
   "codemirror_mode": {
    "name": "ipython",
    "version": 3
   },
   "file_extension": ".py",
   "mimetype": "text/x-python",
   "name": "python",
   "nbconvert_exporter": "python",
   "pygments_lexer": "ipython3",
   "version": "3.9.7"
  }
 },
 "nbformat": 4,
 "nbformat_minor": 2
}
